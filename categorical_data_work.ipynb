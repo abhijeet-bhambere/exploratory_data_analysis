{
 "cells": [
  {
   "cell_type": "markdown",
   "id": "e61fde11",
   "metadata": {},
   "source": [
    "# Working on Categorical Data\n",
    "Intent is to enable understanding & utilizing Categorical data in a pandas dataFrame. \n",
    "\n",
    "Also, being able to  modify Categorical dtypes columns, generate features &  visualize the categorical data.\n",
    "\n",
    "____\n",
    "### Quick Refresher:\n",
    "- Categorical data is a kind of **Qualitative Data**. It also significantly decreases the overall memory utilized by the DataFrame.\n",
    "\n",
    "    - Ordinal Data - cariables have a natural order (eg. Rankings / Levels of Agreement etc. in a Survey). \n",
    "    <br>There is a certain relationship -- mostly a logical progression -- amongst the variables\n",
    "    <br>E.g. Rankings in a survey (Excellent >Good >Average etc.), severity of incidents (Critical >High >Low)\n",
    "\n",
    "    - Nominal Data - variables cannot be placed in a natural order i.e. don't contain any correlation to each other.\n",
    "    <br>E.g. Countries / Colours etc.\n",
    "\n",
    "- Assigning categorical dtype to a column **significantly reduces the DataFrame's memory footprint**.\n",
    "<br>Use `df.info` or `df[\"col\"].nbytes`to know the memory space taken up by a dataframes or series\n",
    "\n",
    "<img src=\"https://intellspot.com/wp-content/uploads/2018/08/Types-of-Data-Infographic.png\" width=\"600\">"
   ]
  },
  {
   "cell_type": "code",
   "execution_count": 1,
   "id": "e9902e9b",
   "metadata": {},
   "outputs": [],
   "source": [
    "import numpy as np\n",
    "import pandas as pd\n",
    "import matplotlib.pyplot as plt\n",
    "import seaborn as sns\n",
    "\n",
    "sns.set_style(style='darkgrid')"
   ]
  },
  {
   "cell_type": "markdown",
   "id": "4d88a945",
   "metadata": {},
   "source": [
    "## Starting with the basic EDA steps:\n",
    "- Importing the US Adults Census database. Trying to identify missing vlaues / column dtypes etc\n",
    "- Identifying columns with **object dtype** - can be checked further if any of them can be converted to a categorical dtype (using `.astype`)"
   ]
  },
  {
   "cell_type": "code",
   "execution_count": 2,
   "id": "8b7e4e35",
   "metadata": {},
   "outputs": [
    {
     "name": "stdout",
     "output_type": "stream",
     "text": [
      "<class 'pandas.core.frame.DataFrame'>\n",
      "RangeIndex: 32561 entries, 0 to 32560\n",
      "Data columns (total 15 columns):\n",
      " #   Column           Non-Null Count  Dtype \n",
      "---  ------           --------------  ----- \n",
      " 0   Age              32561 non-null  int64 \n",
      " 1   Workclass        32561 non-null  object\n",
      " 2   fnlgwt           32561 non-null  int64 \n",
      " 3   Education        32561 non-null  object\n",
      " 4   Education Num    32561 non-null  int64 \n",
      " 5   Marital Status   32561 non-null  object\n",
      " 6   Occupation       32561 non-null  object\n",
      " 7   Relationship     32561 non-null  object\n",
      " 8   Race             32561 non-null  object\n",
      " 9   Sex              32561 non-null  object\n",
      " 10  Capital Gain     32561 non-null  int64 \n",
      " 11  Capital Loss     32561 non-null  int64 \n",
      " 12  Hours/Week       32561 non-null  int64 \n",
      " 13  Country          32561 non-null  object\n",
      " 14  Above/Below 50k  32561 non-null  object\n",
      "dtypes: int64(6), object(9)\n",
      "memory usage: 3.7+ MB\n"
     ]
    }
   ],
   "source": [
    "adults = pd.read_csv(\"./grownups_census.csv\")\n",
    "\n",
    "adults.info()"
   ]
  },
  {
   "cell_type": "code",
   "execution_count": 3,
   "id": "82abd612",
   "metadata": {},
   "outputs": [
    {
     "data": {
      "text/html": [
       "<div>\n",
       "<style scoped>\n",
       "    .dataframe tbody tr th:only-of-type {\n",
       "        vertical-align: middle;\n",
       "    }\n",
       "\n",
       "    .dataframe tbody tr th {\n",
       "        vertical-align: top;\n",
       "    }\n",
       "\n",
       "    .dataframe thead th {\n",
       "        text-align: right;\n",
       "    }\n",
       "</style>\n",
       "<table border=\"1\" class=\"dataframe\">\n",
       "  <thead>\n",
       "    <tr style=\"text-align: right;\">\n",
       "      <th></th>\n",
       "      <th>Age</th>\n",
       "      <th>Workclass</th>\n",
       "      <th>fnlgwt</th>\n",
       "      <th>Education</th>\n",
       "      <th>Education Num</th>\n",
       "      <th>Marital Status</th>\n",
       "      <th>Occupation</th>\n",
       "      <th>Relationship</th>\n",
       "      <th>Race</th>\n",
       "      <th>Sex</th>\n",
       "      <th>Capital Gain</th>\n",
       "      <th>Capital Loss</th>\n",
       "      <th>Hours/Week</th>\n",
       "      <th>Country</th>\n",
       "      <th>Above/Below 50k</th>\n",
       "    </tr>\n",
       "  </thead>\n",
       "  <tbody>\n",
       "    <tr>\n",
       "      <th>0</th>\n",
       "      <td>39</td>\n",
       "      <td>State-gov</td>\n",
       "      <td>77516</td>\n",
       "      <td>Bachelors</td>\n",
       "      <td>13</td>\n",
       "      <td>Never-married</td>\n",
       "      <td>Adm-clerical</td>\n",
       "      <td>Not-in-family</td>\n",
       "      <td>White</td>\n",
       "      <td>Male</td>\n",
       "      <td>2174</td>\n",
       "      <td>0</td>\n",
       "      <td>40</td>\n",
       "      <td>United-States</td>\n",
       "      <td>&lt;=50K</td>\n",
       "    </tr>\n",
       "    <tr>\n",
       "      <th>1</th>\n",
       "      <td>50</td>\n",
       "      <td>Self-emp-not-inc</td>\n",
       "      <td>83311</td>\n",
       "      <td>Bachelors</td>\n",
       "      <td>13</td>\n",
       "      <td>Married-civ-spouse</td>\n",
       "      <td>Exec-managerial</td>\n",
       "      <td>Husband</td>\n",
       "      <td>White</td>\n",
       "      <td>Male</td>\n",
       "      <td>0</td>\n",
       "      <td>0</td>\n",
       "      <td>13</td>\n",
       "      <td>United-States</td>\n",
       "      <td>&lt;=50K</td>\n",
       "    </tr>\n",
       "    <tr>\n",
       "      <th>2</th>\n",
       "      <td>38</td>\n",
       "      <td>Private</td>\n",
       "      <td>215646</td>\n",
       "      <td>HS-grad</td>\n",
       "      <td>9</td>\n",
       "      <td>Divorced</td>\n",
       "      <td>Handlers-cleaners</td>\n",
       "      <td>Not-in-family</td>\n",
       "      <td>White</td>\n",
       "      <td>Male</td>\n",
       "      <td>0</td>\n",
       "      <td>0</td>\n",
       "      <td>40</td>\n",
       "      <td>United-States</td>\n",
       "      <td>&lt;=50K</td>\n",
       "    </tr>\n",
       "    <tr>\n",
       "      <th>3</th>\n",
       "      <td>53</td>\n",
       "      <td>Private</td>\n",
       "      <td>234721</td>\n",
       "      <td>11th</td>\n",
       "      <td>7</td>\n",
       "      <td>Married-civ-spouse</td>\n",
       "      <td>Handlers-cleaners</td>\n",
       "      <td>Husband</td>\n",
       "      <td>Black</td>\n",
       "      <td>Male</td>\n",
       "      <td>0</td>\n",
       "      <td>0</td>\n",
       "      <td>40</td>\n",
       "      <td>United-States</td>\n",
       "      <td>&lt;=50K</td>\n",
       "    </tr>\n",
       "    <tr>\n",
       "      <th>4</th>\n",
       "      <td>28</td>\n",
       "      <td>Private</td>\n",
       "      <td>338409</td>\n",
       "      <td>Bachelors</td>\n",
       "      <td>13</td>\n",
       "      <td>Married-civ-spouse</td>\n",
       "      <td>Prof-specialty</td>\n",
       "      <td>Wife</td>\n",
       "      <td>Black</td>\n",
       "      <td>Female</td>\n",
       "      <td>0</td>\n",
       "      <td>0</td>\n",
       "      <td>40</td>\n",
       "      <td>Cuba</td>\n",
       "      <td>&lt;=50K</td>\n",
       "    </tr>\n",
       "  </tbody>\n",
       "</table>\n",
       "</div>"
      ],
      "text/plain": [
       "   Age          Workclass  fnlgwt   Education  Education Num  \\\n",
       "0   39          State-gov   77516   Bachelors             13   \n",
       "1   50   Self-emp-not-inc   83311   Bachelors             13   \n",
       "2   38            Private  215646     HS-grad              9   \n",
       "3   53            Private  234721        11th              7   \n",
       "4   28            Private  338409   Bachelors             13   \n",
       "\n",
       "        Marital Status          Occupation    Relationship    Race      Sex  \\\n",
       "0        Never-married        Adm-clerical   Not-in-family   White     Male   \n",
       "1   Married-civ-spouse     Exec-managerial         Husband   White     Male   \n",
       "2             Divorced   Handlers-cleaners   Not-in-family   White     Male   \n",
       "3   Married-civ-spouse   Handlers-cleaners         Husband   Black     Male   \n",
       "4   Married-civ-spouse      Prof-specialty            Wife   Black   Female   \n",
       "\n",
       "   Capital Gain  Capital Loss  Hours/Week         Country Above/Below 50k  \n",
       "0          2174             0          40   United-States           <=50K  \n",
       "1             0             0          13   United-States           <=50K  \n",
       "2             0             0          40   United-States           <=50K  \n",
       "3             0             0          40   United-States           <=50K  \n",
       "4             0             0          40            Cuba           <=50K  "
      ]
     },
     "execution_count": 3,
     "metadata": {},
     "output_type": "execute_result"
    }
   ],
   "source": [
    "adults.head()"
   ]
  },
  {
   "cell_type": "markdown",
   "id": "d60afea1",
   "metadata": {},
   "source": [
    "- We can see there are certain columns - such as Marital status, Occupation, Race etc. that we can probe further for categorical data.\n",
    "\n",
    "- Use `.value_counts()` `.describe()` to gain more detailed understanding of the nature of this data"
   ]
  },
  {
   "cell_type": "code",
   "execution_count": 4,
   "id": "6f631b18",
   "metadata": {},
   "outputs": [
    {
     "data": {
      "text/plain": [
       "count                   32561\n",
       "unique                      7\n",
       "top        Married-civ-spouse\n",
       "freq                    14976\n",
       "Name: Marital Status, dtype: object"
      ]
     },
     "execution_count": 4,
     "metadata": {},
     "output_type": "execute_result"
    }
   ],
   "source": [
    "adults[\"Marital Status\"].describe()"
   ]
  },
  {
   "cell_type": "markdown",
   "id": "1e2a7ff0",
   "metadata": {},
   "source": [
    "`.describe()` identified that the column contains 7 unique values "
   ]
  },
  {
   "cell_type": "code",
   "execution_count": 5,
   "id": "e2e48695",
   "metadata": {},
   "outputs": [
    {
     "data": {
      "text/plain": [
       "Marital Status\n",
       "Married-civ-spouse       0.459937\n",
       "Never-married            0.328092\n",
       "Divorced                 0.136452\n",
       "Separated                0.031479\n",
       "Widowed                  0.030497\n",
       "Married-spouse-absent    0.012837\n",
       "Married-AF-spouse        0.000706\n",
       "Name: proportion, dtype: float64"
      ]
     },
     "execution_count": 5,
     "metadata": {},
     "output_type": "execute_result"
    }
   ],
   "source": [
    "adults[\"Marital Status\"].value_counts(normalize=True)"
   ]
  },
  {
   "cell_type": "markdown",
   "id": "9e9056bb",
   "metadata": {},
   "source": [
    "We can definitely conclude that `Marital Status` column contains some distinct categorical variables & their proportions \n",
    "\n",
    ">You have been asked to build a machine learning model to predict whether or not a person makes over $50,000 in a year. To understand the target variable, `Above/Below 50k`, you decide to explore the variable in more detail.\n",
    "_____\n",
    "### TEST QUESTIONS\n",
    "**Q - Explore the Above/Below 50k variable by printing out a description of the variable's contents.**\n",
    "\n",
    "- 2 unique variables ; '<=50k' is the top variable (alphabet-wise) with 24,720 frequency count(no. of occurrences) \n",
    "\n",
    "**Q - Explore the Above/Below 50k variable by printing out a frequency table of the values found in this column.**\n",
    "\n",
    "- Is observed that there's a greater proportion of people From the dataset who make less than 50K than people making more than 50K"
   ]
  },
  {
   "cell_type": "code",
   "execution_count": 6,
   "id": "15c35f78",
   "metadata": {},
   "outputs": [
    {
     "data": {
      "text/plain": [
       "count      32561\n",
       "unique         2\n",
       "top        <=50K\n",
       "freq       24720\n",
       "Name: Above/Below 50k, dtype: object"
      ]
     },
     "execution_count": 6,
     "metadata": {},
     "output_type": "execute_result"
    }
   ],
   "source": [
    "adults[\"Above/Below 50k\"].describe()"
   ]
  },
  {
   "cell_type": "code",
   "execution_count": 7,
   "id": "50163790",
   "metadata": {},
   "outputs": [
    {
     "data": {
      "text/plain": [
       "Above/Below 50k\n",
       "<=50K    0.75919\n",
       ">50K     0.24081\n",
       "Name: proportion, dtype: float64"
      ]
     },
     "execution_count": 7,
     "metadata": {},
     "output_type": "execute_result"
    }
   ],
   "source": [
    "adults[\"Above/Below 50k\"].value_counts(normalize=True)"
   ]
  },
  {
   "cell_type": "code",
   "execution_count": 8,
   "id": "d7c48dfe",
   "metadata": {},
   "outputs": [
    {
     "data": {
      "image/png": "[encoded data removed]",
      "text/plain": [
       "<Figure size 640x480 with 1 Axes>"
      ]
     },
     "metadata": {},
     "output_type": "display_data"
    }
   ],
   "source": [
    "# Visualizing the above -- with added distinction of gender\n",
    "sns.countplot(data=adults, x=\"Above/Below 50k\", hue=\"Sex\")\n",
    "plt.show()\n"
   ]
  },
  {
   "cell_type": "markdown",
   "id": "45101729",
   "metadata": {},
   "source": [
    "So its also observed that Males earn more than female counterparts in both income categories"
   ]
  },
  {
   "cell_type": "code",
   "execution_count": 9,
   "id": "548bbc28",
   "metadata": {},
   "outputs": [
    {
     "name": "stdout",
     "output_type": "stream",
     "text": [
      "object\n"
     ]
    }
   ],
   "source": [
    "print(adults[\"Marital Status\"].dtype)"
   ]
  },
  {
   "cell_type": "markdown",
   "id": "293970d3",
   "metadata": {},
   "source": [
    "### Converting a column dtype to categorical \n",
    "Use `.astype()` to convert existing column dtype . **However, above method mostly help in converting to nominal categorical data** i.e. the logical relations (if any) might be missed out from being applied to the categorical variables.\n",
    "\n",
    "OR use `pd.Categorical` on a list to create a series with 'Category' as default dtype. Details on [`pd.Categorical`](https://pandas.pydata.org/docs/user_guide/categorical.html). <br>\n",
    "This method helps apply logical relations using the `ordered` & `categories` keywords.\n",
    "\n",
    "**EXAMPLE: Converting an existing Series to categorical dtype :**"
   ]
  },
  {
   "cell_type": "code",
   "execution_count": 10,
   "id": "a0ccabb1",
   "metadata": {},
   "outputs": [
    {
     "name": "stdout",
     "output_type": "stream",
     "text": [
      "category\n"
     ]
    }
   ],
   "source": [
    "# EXAMPLES\n",
    "# Converting an existing Series to categorical dtype\n",
    "s = pd.Series(['small', 'medium', 'large', 'medium'])\n",
    "s_cat = s.astype('category')\n",
    "print(s_cat.dtype)"
   ]
  },
  {
   "cell_type": "markdown",
   "id": "c51ffa08",
   "metadata": {},
   "source": [
    "**EXAMPLE: Another method = declaring the dtype at the creation of the series :**"
   ]
  },
  {
   "cell_type": "code",
   "execution_count": 11,
   "id": "00ba1d07",
   "metadata": {},
   "outputs": [
    {
     "name": "stdout",
     "output_type": "stream",
     "text": [
      "0     small\n",
      "1    medium\n",
      "2     large\n",
      "3    medium\n",
      "dtype: category\n",
      "Categories (3, object): ['large', 'medium', 'small']\n"
     ]
    }
   ],
   "source": [
    "# EXAMPLES\n",
    "# Another method = declaring the dtype at the creation of the series\n",
    "aa = ['small', 'medium', 'large', 'medium']\n",
    "asd = pd.Series(aa, dtype=\"category\")\n",
    "print(asd)"
   ]
  },
  {
   "cell_type": "markdown",
   "id": "b349061c",
   "metadata": {},
   "source": [
    "**EXAMPLE: Creating a Series with categorical data (without order):**\n",
    "\n",
    "The categorical variables are simply nominal (no relation/ nor follow any logical progression)"
   ]
  },
  {
   "cell_type": "code",
   "execution_count": 12,
   "id": "d90ed380",
   "metadata": {},
   "outputs": [
    {
     "name": "stdout",
     "output_type": "stream",
     "text": [
      "['red', 'blue', 'green', 'red', 'blue']\n",
      "Categories (3, object): ['blue', 'green', 'red']\n"
     ]
    }
   ],
   "source": [
    "# EXAMPLE1\n",
    "# Creating a Series with categorical data\n",
    "data = ['red', 'blue', 'green', 'red', 'blue']\n",
    "categorical_series = pd.Categorical(data)\n",
    "print(categorical_series)"
   ]
  },
  {
   "cell_type": "markdown",
   "id": "de5ca9f0",
   "metadata": {},
   "source": [
    "**EXAMPLE: Creating a Series with categorical data (WITH order):**\n",
    "\n",
    "Categorical variables are ordinal (ie. with relation AND follow any logical progression)"
   ]
  },
  {
   "cell_type": "code",
   "execution_count": 13,
   "id": "11d39ad1",
   "metadata": {},
   "outputs": [
    {
     "data": {
      "text/html": [
       "<div>\n",
       "<style scoped>\n",
       "    .dataframe tbody tr th:only-of-type {\n",
       "        vertical-align: middle;\n",
       "    }\n",
       "\n",
       "    .dataframe tbody tr th {\n",
       "        vertical-align: top;\n",
       "    }\n",
       "\n",
       "    .dataframe thead th {\n",
       "        text-align: right;\n",
       "    }\n",
       "</style>\n",
       "<table border=\"1\" class=\"dataframe\">\n",
       "  <thead>\n",
       "    <tr style=\"text-align: right;\">\n",
       "      <th></th>\n",
       "      <th>Name</th>\n",
       "      <th>Education</th>\n",
       "    </tr>\n",
       "  </thead>\n",
       "  <tbody>\n",
       "    <tr>\n",
       "      <th>0</th>\n",
       "      <td>Alice</td>\n",
       "      <td>High School</td>\n",
       "    </tr>\n",
       "    <tr>\n",
       "      <th>1</th>\n",
       "      <td>Bob</td>\n",
       "      <td>Masters</td>\n",
       "    </tr>\n",
       "    <tr>\n",
       "      <th>2</th>\n",
       "      <td>Charlie</td>\n",
       "      <td>PhD</td>\n",
       "    </tr>\n",
       "    <tr>\n",
       "      <th>3</th>\n",
       "      <td>David</td>\n",
       "      <td>Bachelors</td>\n",
       "    </tr>\n",
       "    <tr>\n",
       "      <th>4</th>\n",
       "      <td>Eve</td>\n",
       "      <td>High School</td>\n",
       "    </tr>\n",
       "  </tbody>\n",
       "</table>\n",
       "</div>"
      ],
      "text/plain": [
       "      Name    Education\n",
       "0    Alice  High School\n",
       "1      Bob      Masters\n",
       "2  Charlie          PhD\n",
       "3    David    Bachelors\n",
       "4      Eve  High School"
      ]
     },
     "execution_count": 13,
     "metadata": {},
     "output_type": "execute_result"
    }
   ],
   "source": [
    "data = {\n",
    "    \"Name\": [\"Alice\", \"Bob\", \"Charlie\", \"David\", \"Eve\"],\n",
    "    \"Education\": [\"High School\", \"Masters\", \"PhD\", \"Bachelors\", \"High School\"]\n",
    "}\n",
    "\n",
    "sample_df = pd.DataFrame(data)\n",
    "sample_df"
   ]
  },
  {
   "cell_type": "code",
   "execution_count": 14,
   "id": "dc7955be",
   "metadata": {},
   "outputs": [],
   "source": [
    "# Defining the order of the variables\n",
    "edu_order = [\"High School\", \"Bachelors\", \"Masters\", \"PhD\"]\n",
    "\n",
    "# Converting the Education column into a categorical column\n",
    "sample_df[\"Education\"] = pd.Categorical(sample_df[\"Education\"], categories=edu_order, ordered=True)"
   ]
  },
  {
   "cell_type": "code",
   "execution_count": 15,
   "id": "23dd64b7",
   "metadata": {},
   "outputs": [
    {
     "name": "stdout",
     "output_type": "stream",
     "text": [
      "<class 'pandas.core.frame.DataFrame'>\n",
      "RangeIndex: 5 entries, 0 to 4\n",
      "Data columns (total 2 columns):\n",
      " #   Column     Non-Null Count  Dtype   \n",
      "---  ------     --------------  -----   \n",
      " 0   Name       5 non-null      object  \n",
      " 1   Education  5 non-null      category\n",
      "dtypes: category(1), object(1)\n",
      "memory usage: 381.0+ bytes\n"
     ]
    },
    {
     "data": {
      "text/plain": [
       "0    High School\n",
       "1        Masters\n",
       "2            PhD\n",
       "3      Bachelors\n",
       "4    High School\n",
       "Name: Education, dtype: category\n",
       "Categories (4, object): ['High School' < 'Bachelors' < 'Masters' < 'PhD']"
      ]
     },
     "execution_count": 15,
     "metadata": {},
     "output_type": "execute_result"
    }
   ],
   "source": [
    "sample_df.info()\n",
    "sample_df[\"Education\"].head()"
   ]
  },
  {
   "cell_type": "code",
   "execution_count": 16,
   "id": "390521d9",
   "metadata": {},
   "outputs": [
    {
     "name": "stdout",
     "output_type": "stream",
     "text": [
      "[NaN, NaN, NaN, NaN, NaN]\n",
      "Categories (5, int64): [5 < 4 < 3 < 2 < 1]\n"
     ]
    }
   ],
   "source": [
    "# Another example\n",
    "adf_list = pd.Series([\"Bad\",\"Average\", \"Good\" , \"VGood\", \"Excellent\" ])\n",
    "adf = pd.Categorical( adf_list, categories=[5,4,3,2,1], ordered=True)\n",
    "\n",
    "print(adf)"
   ]
  },
  {
   "cell_type": "markdown",
   "id": "d57b733a",
   "metadata": {},
   "source": [
    "### NOTE : WE can apply logical filterng to an ordinal category  "
   ]
  },
  {
   "cell_type": "code",
   "execution_count": 17,
   "id": "4196b847",
   "metadata": {},
   "outputs": [
    {
     "data": {
      "text/html": [
       "<div>\n",
       "<style scoped>\n",
       "    .dataframe tbody tr th:only-of-type {\n",
       "        vertical-align: middle;\n",
       "    }\n",
       "\n",
       "    .dataframe tbody tr th {\n",
       "        vertical-align: top;\n",
       "    }\n",
       "\n",
       "    .dataframe thead th {\n",
       "        text-align: right;\n",
       "    }\n",
       "</style>\n",
       "<table border=\"1\" class=\"dataframe\">\n",
       "  <thead>\n",
       "    <tr style=\"text-align: right;\">\n",
       "      <th></th>\n",
       "      <th>Name</th>\n",
       "      <th>Education</th>\n",
       "    </tr>\n",
       "  </thead>\n",
       "  <tbody>\n",
       "    <tr>\n",
       "      <th>1</th>\n",
       "      <td>Bob</td>\n",
       "      <td>Masters</td>\n",
       "    </tr>\n",
       "    <tr>\n",
       "      <th>2</th>\n",
       "      <td>Charlie</td>\n",
       "      <td>PhD</td>\n",
       "    </tr>\n",
       "  </tbody>\n",
       "</table>\n",
       "</div>"
      ],
      "text/plain": [
       "      Name Education\n",
       "1      Bob   Masters\n",
       "2  Charlie       PhD"
      ]
     },
     "execution_count": 17,
     "metadata": {},
     "output_type": "execute_result"
    }
   ],
   "source": [
    "# Find all folks with Education level higher than Bachelors\n",
    "sample_df[sample_df[\"Education\"]>\"Bachelors\"]"
   ]
  },
  {
   "cell_type": "code",
   "execution_count": 18,
   "id": "a73f8c8d",
   "metadata": {},
   "outputs": [
    {
     "data": {
      "text/html": [
       "<div>\n",
       "<style scoped>\n",
       "    .dataframe tbody tr th:only-of-type {\n",
       "        vertical-align: middle;\n",
       "    }\n",
       "\n",
       "    .dataframe tbody tr th {\n",
       "        vertical-align: top;\n",
       "    }\n",
       "\n",
       "    .dataframe thead th {\n",
       "        text-align: right;\n",
       "    }\n",
       "</style>\n",
       "<table border=\"1\" class=\"dataframe\">\n",
       "  <thead>\n",
       "    <tr style=\"text-align: right;\">\n",
       "      <th></th>\n",
       "      <th>Name</th>\n",
       "      <th>Education</th>\n",
       "    </tr>\n",
       "  </thead>\n",
       "  <tbody>\n",
       "    <tr>\n",
       "      <th>2</th>\n",
       "      <td>Charlie</td>\n",
       "      <td>PhD</td>\n",
       "    </tr>\n",
       "    <tr>\n",
       "      <th>1</th>\n",
       "      <td>Bob</td>\n",
       "      <td>Masters</td>\n",
       "    </tr>\n",
       "    <tr>\n",
       "      <th>3</th>\n",
       "      <td>David</td>\n",
       "      <td>Bachelors</td>\n",
       "    </tr>\n",
       "    <tr>\n",
       "      <th>0</th>\n",
       "      <td>Alice</td>\n",
       "      <td>High School</td>\n",
       "    </tr>\n",
       "    <tr>\n",
       "      <th>4</th>\n",
       "      <td>Eve</td>\n",
       "      <td>High School</td>\n",
       "    </tr>\n",
       "  </tbody>\n",
       "</table>\n",
       "</div>"
      ],
      "text/plain": [
       "      Name    Education\n",
       "2  Charlie          PhD\n",
       "1      Bob      Masters\n",
       "3    David    Bachelors\n",
       "0    Alice  High School\n",
       "4      Eve  High School"
      ]
     },
     "execution_count": 18,
     "metadata": {},
     "output_type": "execute_result"
    }
   ],
   "source": [
    "# Also soring will be in logical order as opposed to lexical order\n",
    "sample_df.sort_values(\"Education\")\n",
    "\n",
    "sample_df.sort_values(\"Education\", ascending=False)"
   ]
  },
  {
   "cell_type": "markdown",
   "id": "d6afb51c",
   "metadata": {},
   "source": [
    "### Assiging dtypes while loading a dataset\n",
    "- Using the `dtype` argument to pass `key-value` combinations with:\n",
    "    - column name as the Key and \n",
    "    - required dtype as the value\n",
    "\n",
    "In below example , converting a column during the initial datafrmae creation step itself"
   ]
  },
  {
   "cell_type": "code",
   "execution_count": 19,
   "id": "dcc62aa5",
   "metadata": {},
   "outputs": [],
   "source": [
    "status_dtypes = {\"Marital Status\":\"category\"}\n",
    "new_adults = pd.read_csv(\"./grownups_census.csv\", dtype=status_dtypes)"
   ]
  },
  {
   "cell_type": "code",
   "execution_count": 20,
   "id": "042c4c46",
   "metadata": {},
   "outputs": [
    {
     "name": "stdout",
     "output_type": "stream",
     "text": [
      "<class 'pandas.core.frame.DataFrame'>\n",
      "RangeIndex: 32561 entries, 0 to 32560\n",
      "Data columns (total 15 columns):\n",
      " #   Column           Non-Null Count  Dtype   \n",
      "---  ------           --------------  -----   \n",
      " 0   Age              32561 non-null  int64   \n",
      " 1   Workclass        32561 non-null  object  \n",
      " 2   fnlgwt           32561 non-null  int64   \n",
      " 3   Education        32561 non-null  object  \n",
      " 4   Education Num    32561 non-null  int64   \n",
      " 5   Marital Status   32561 non-null  category\n",
      " 6   Occupation       32561 non-null  object  \n",
      " 7   Relationship     32561 non-null  object  \n",
      " 8   Race             32561 non-null  object  \n",
      " 9   Sex              32561 non-null  object  \n",
      " 10  Capital Gain     32561 non-null  int64   \n",
      " 11  Capital Loss     32561 non-null  int64   \n",
      " 12  Hours/Week       32561 non-null  int64   \n",
      " 13  Country          32561 non-null  object  \n",
      " 14  Above/Below 50k  32561 non-null  object  \n",
      "dtypes: category(1), int64(6), object(8)\n",
      "memory usage: 3.5+ MB\n"
     ]
    }
   ],
   "source": [
    "new_adults.info()"
   ]
  },
  {
   "cell_type": "code",
   "execution_count": 21,
   "id": "0c6add28",
   "metadata": {},
   "outputs": [
    {
     "name": "stdout",
     "output_type": "stream",
     "text": [
      "<class 'pandas.core.frame.DataFrame'>\n",
      "RangeIndex: 32561 entries, 0 to 32560\n",
      "Data columns (total 15 columns):\n",
      " #   Column           Non-Null Count  Dtype \n",
      "---  ------           --------------  ----- \n",
      " 0   Age              32561 non-null  int64 \n",
      " 1   Workclass        32561 non-null  object\n",
      " 2   fnlgwt           32561 non-null  int64 \n",
      " 3   Education        32561 non-null  object\n",
      " 4   Education Num    32561 non-null  int64 \n",
      " 5   Marital Status   32561 non-null  object\n",
      " 6   Occupation       32561 non-null  object\n",
      " 7   Relationship     32561 non-null  object\n",
      " 8   Race             32561 non-null  object\n",
      " 9   Sex              32561 non-null  object\n",
      " 10  Capital Gain     32561 non-null  int64 \n",
      " 11  Capital Loss     32561 non-null  int64 \n",
      " 12  Hours/Week       32561 non-null  int64 \n",
      " 13  Country          32561 non-null  object\n",
      " 14  Above/Below 50k  32561 non-null  object\n",
      "dtypes: int64(6), object(9)\n",
      "memory usage: 3.7+ MB\n"
     ]
    }
   ],
   "source": [
    "adults.info()"
   ]
  },
  {
   "cell_type": "markdown",
   "id": "64b473df",
   "metadata": {},
   "source": [
    "> As observed upon calling `info()` of both the dataframes, assigning category dtype to even one columns resulted in the new dataframe having a significantly lower memory usage (difference of almost 2MB)"
   ]
  },
  {
   "cell_type": "code",
   "execution_count": 22,
   "id": "b2dd0f11",
   "metadata": {},
   "outputs": [
    {
     "data": {
      "text/plain": [
       "['small', 'medium', 'large', 'medium']"
      ]
     },
     "execution_count": 22,
     "metadata": {},
     "output_type": "execute_result"
    }
   ],
   "source": [
    "aa"
   ]
  },
  {
   "cell_type": "code",
   "execution_count": 23,
   "id": "f3d74ada",
   "metadata": {},
   "outputs": [
    {
     "data": {
      "text/plain": [
       "0     small\n",
       "1    medium\n",
       "2     large\n",
       "3    medium\n",
       "dtype: category\n",
       "Categories (3, object): ['large', 'medium', 'small']"
      ]
     },
     "execution_count": 23,
     "metadata": {},
     "output_type": "execute_result"
    }
   ],
   "source": [
    "pd.Series(aa, dtype=\"category\")"
   ]
  },
  {
   "cell_type": "markdown",
   "id": "c8941f31",
   "metadata": {},
   "source": [
    "### Converting on sample dataset\n",
    "Now , converting the columns - `\"Workclass\"`, `\"Education\"`, `\"Relationship\"`, and `\"Above/Below 50k\"` of the adult_Census dataframe into categories"
   ]
  },
  {
   "cell_type": "code",
   "execution_count": 24,
   "id": "63310b66",
   "metadata": {},
   "outputs": [
    {
     "name": "stdout",
     "output_type": "stream",
     "text": [
      "<class 'pandas.core.frame.DataFrame'>\n",
      "RangeIndex: 32561 entries, 0 to 32560\n",
      "Data columns (total 15 columns):\n",
      " #   Column           Non-Null Count  Dtype \n",
      "---  ------           --------------  ----- \n",
      " 0   Age              32561 non-null  int64 \n",
      " 1   Workclass        32561 non-null  object\n",
      " 2   fnlgwt           32561 non-null  int64 \n",
      " 3   Education        32561 non-null  object\n",
      " 4   Education Num    32561 non-null  int64 \n",
      " 5   Marital Status   32561 non-null  object\n",
      " 6   Occupation       32561 non-null  object\n",
      " 7   Relationship     32561 non-null  object\n",
      " 8   Race             32561 non-null  object\n",
      " 9   Sex              32561 non-null  object\n",
      " 10  Capital Gain     32561 non-null  int64 \n",
      " 11  Capital Loss     32561 non-null  int64 \n",
      " 12  Hours/Week       32561 non-null  int64 \n",
      " 13  Country          32561 non-null  object\n",
      " 14  Above/Below 50k  32561 non-null  object\n",
      "dtypes: int64(6), object(9)\n",
      "memory usage: 3.7+ MB\n"
     ]
    }
   ],
   "source": [
    "# Before dtype conversion -- \n",
    "adults.info()"
   ]
  },
  {
   "cell_type": "code",
   "execution_count": 25,
   "id": "bd3bdd6e",
   "metadata": {},
   "outputs": [],
   "source": [
    "# After conversion of column dtypes --\n",
    "change_dtype = [\"Workclass\", \"Education\" , \"Relationship\", \"Above/Below 50k\"]\n",
    "adults[change_dtype] = adults[change_dtype].astype(\"category\")"
   ]
  },
  {
   "cell_type": "code",
   "execution_count": 26,
   "id": "4955ca42",
   "metadata": {},
   "outputs": [
    {
     "name": "stdout",
     "output_type": "stream",
     "text": [
      "<class 'pandas.core.frame.DataFrame'>\n",
      "RangeIndex: 32561 entries, 0 to 32560\n",
      "Data columns (total 15 columns):\n",
      " #   Column           Non-Null Count  Dtype   \n",
      "---  ------           --------------  -----   \n",
      " 0   Age              32561 non-null  int64   \n",
      " 1   Workclass        32561 non-null  category\n",
      " 2   fnlgwt           32561 non-null  int64   \n",
      " 3   Education        32561 non-null  category\n",
      " 4   Education Num    32561 non-null  int64   \n",
      " 5   Marital Status   32561 non-null  object  \n",
      " 6   Occupation       32561 non-null  object  \n",
      " 7   Relationship     32561 non-null  category\n",
      " 8   Race             32561 non-null  object  \n",
      " 9   Sex              32561 non-null  object  \n",
      " 10  Capital Gain     32561 non-null  int64   \n",
      " 11  Capital Loss     32561 non-null  int64   \n",
      " 12  Hours/Week       32561 non-null  int64   \n",
      " 13  Country          32561 non-null  object  \n",
      " 14  Above/Below 50k  32561 non-null  category\n",
      "dtypes: category(4), int64(6), object(5)\n",
      "memory usage: 2.9+ MB\n"
     ]
    }
   ],
   "source": [
    "adults.info()"
   ]
  },
  {
   "cell_type": "markdown",
   "id": "2ba2b2d5",
   "metadata": {},
   "source": [
    "> We can see a remarkable drop in the memory usage of the dataframe -- from 3.7MB to 2.9MB\n",
    "______\n",
    "### Grouping data by categories\n",
    "\n",
    "Use of `.groupby()` ;  Helpful when trying to get catrgory-wise statistical insigts\n",
    "\n",
    "**NOTE** - For some versions of python, We might need to pass `observer` parameter as False since we're grouping by columns that have a categorical dtype. "
   ]
  },
  {
   "cell_type": "code",
   "execution_count": 27,
   "id": "6c05abbd",
   "metadata": {},
   "outputs": [
    {
     "name": "stdout",
     "output_type": "stream",
     "text": [
      "Index(['Age', 'fnlgwt', 'Education Num', 'Capital Gain', 'Capital Loss',\n",
      "       'Hours/Week'],\n",
      "      dtype='object')\n"
     ]
    }
   ],
   "source": [
    "print(adults.select_dtypes(\"int\").columns)"
   ]
  },
  {
   "cell_type": "code",
   "execution_count": 28,
   "id": "c0388887",
   "metadata": {},
   "outputs": [
    {
     "name": "stderr",
     "output_type": "stream",
     "text": [
      "C:\\Users\\abhijeet.bhambere\\AppData\\Local\\Temp\\ipykernel_20380\\3214560366.py:2: FutureWarning: The default of observed=False is deprecated and will be changed to True in a future version of pandas. Pass observed=False to retain current behavior or observed=True to adopt the future default and silence this warning.\n",
      "  adults.groupby(by=\"Above/Below 50k\")[adults.select_dtypes('number').columns].mean()\n"
     ]
    },
    {
     "data": {
      "text/html": [
       "<div>\n",
       "<style scoped>\n",
       "    .dataframe tbody tr th:only-of-type {\n",
       "        vertical-align: middle;\n",
       "    }\n",
       "\n",
       "    .dataframe tbody tr th {\n",
       "        vertical-align: top;\n",
       "    }\n",
       "\n",
       "    .dataframe thead th {\n",
       "        text-align: right;\n",
       "    }\n",
       "</style>\n",
       "<table border=\"1\" class=\"dataframe\">\n",
       "  <thead>\n",
       "    <tr style=\"text-align: right;\">\n",
       "      <th></th>\n",
       "      <th>Age</th>\n",
       "      <th>fnlgwt</th>\n",
       "      <th>Education Num</th>\n",
       "      <th>Capital Gain</th>\n",
       "      <th>Capital Loss</th>\n",
       "      <th>Hours/Week</th>\n",
       "    </tr>\n",
       "    <tr>\n",
       "      <th>Above/Below 50k</th>\n",
       "      <th></th>\n",
       "      <th></th>\n",
       "      <th></th>\n",
       "      <th></th>\n",
       "      <th></th>\n",
       "      <th></th>\n",
       "    </tr>\n",
       "  </thead>\n",
       "  <tbody>\n",
       "    <tr>\n",
       "      <th>&lt;=50K</th>\n",
       "      <td>36.783738</td>\n",
       "      <td>190340.86517</td>\n",
       "      <td>9.595065</td>\n",
       "      <td>148.752468</td>\n",
       "      <td>53.142921</td>\n",
       "      <td>38.840210</td>\n",
       "    </tr>\n",
       "    <tr>\n",
       "      <th>&gt;50K</th>\n",
       "      <td>44.249841</td>\n",
       "      <td>188005.00000</td>\n",
       "      <td>11.611657</td>\n",
       "      <td>4006.142456</td>\n",
       "      <td>195.001530</td>\n",
       "      <td>45.473026</td>\n",
       "    </tr>\n",
       "  </tbody>\n",
       "</table>\n",
       "</div>"
      ],
      "text/plain": [
       "                       Age        fnlgwt  Education Num  Capital Gain  \\\n",
       "Above/Below 50k                                                         \n",
       "<=50K            36.783738  190340.86517       9.595065    148.752468   \n",
       ">50K             44.249841  188005.00000      11.611657   4006.142456   \n",
       "\n",
       "                 Capital Loss  Hours/Week  \n",
       "Above/Below 50k                            \n",
       "<=50K               53.142921   38.840210  \n",
       ">50K               195.001530   45.473026  "
      ]
     },
     "execution_count": 28,
     "metadata": {},
     "output_type": "execute_result"
    }
   ],
   "source": [
    "# Groups by the column \"Above/Below 50k\" ; returns mean of all numeric columns\n",
    "adults.groupby(by=\"Above/Below 50k\")[adults.select_dtypes('number').columns].mean()"
   ]
  },
  {
   "cell_type": "code",
   "execution_count": 29,
   "id": "8ae7edf1",
   "metadata": {},
   "outputs": [
    {
     "name": "stderr",
     "output_type": "stream",
     "text": [
      "C:\\Users\\abhijeet.bhambere\\AppData\\Local\\Temp\\ipykernel_20380\\1287522727.py:2: FutureWarning: The default of observed=False is deprecated and will be changed to True in a future version of pandas. Pass observed=False to retain current behavior or observed=True to adopt the future default and silence this warning.\n",
      "  adults.groupby(by=[\"Above/Below 50k\",\"Marital Status\"])[\"Age\"].median()\n"
     ]
    },
    {
     "data": {
      "text/plain": [
       "Above/Below 50k  Marital Status       \n",
       "<=50K            Divorced                 42.0\n",
       "                 Married-AF-spouse        30.0\n",
       "                 Married-civ-spouse       40.0\n",
       "                 Married-spouse-absent    39.0\n",
       "                 Never-married            25.0\n",
       "                 Separated                38.0\n",
       "                 Widowed                  60.0\n",
       ">50K             Divorced                 45.0\n",
       "                 Married-AF-spouse        29.5\n",
       "                 Married-civ-spouse       44.0\n",
       "                 Married-spouse-absent    47.5\n",
       "                 Never-married            36.0\n",
       "                 Separated                42.0\n",
       "                 Widowed                  58.0\n",
       "Name: Age, dtype: float64"
      ]
     },
     "execution_count": 29,
     "metadata": {},
     "output_type": "execute_result"
    }
   ],
   "source": [
    "# Grouping by multiple columns for Age column's median\n",
    "adults.groupby(by=[\"Above/Below 50k\",\"Marital Status\"])[\"Age\"].median()"
   ]
  },
  {
   "cell_type": "markdown",
   "id": "0bc30a63",
   "metadata": {},
   "source": [
    "______\n",
    "### TEST QUESTIONS\n",
    "**Q - find the mean Age of adults when grouping by the following categories:**\n",
    "\n",
    "- \"Workclass\" (which has 9 categories)\n",
    "- \"Above/Below 50k\" (which has 2 categories)\n",
    "- \"Education\" (which has 16 categories)."
   ]
  },
  {
   "cell_type": "code",
   "execution_count": 30,
   "id": "ec50ca17",
   "metadata": {},
   "outputs": [
    {
     "data": {
      "text/html": [
       "<div>\n",
       "<style scoped>\n",
       "    .dataframe tbody tr th:only-of-type {\n",
       "        vertical-align: middle;\n",
       "    }\n",
       "\n",
       "    .dataframe tbody tr th {\n",
       "        vertical-align: top;\n",
       "    }\n",
       "\n",
       "    .dataframe thead th {\n",
       "        text-align: right;\n",
       "    }\n",
       "</style>\n",
       "<table border=\"1\" class=\"dataframe\">\n",
       "  <thead>\n",
       "    <tr style=\"text-align: right;\">\n",
       "      <th></th>\n",
       "      <th></th>\n",
       "      <th></th>\n",
       "      <th>Age</th>\n",
       "    </tr>\n",
       "    <tr>\n",
       "      <th>Workclass</th>\n",
       "      <th>Above/Below 50k</th>\n",
       "      <th>Education</th>\n",
       "      <th></th>\n",
       "    </tr>\n",
       "  </thead>\n",
       "  <tbody>\n",
       "    <tr>\n",
       "      <th rowspan=\"5\" valign=\"top\">?</th>\n",
       "      <th rowspan=\"5\" valign=\"top\">&lt;=50K</th>\n",
       "      <th>10th</th>\n",
       "      <td>33.357143</td>\n",
       "    </tr>\n",
       "    <tr>\n",
       "      <th>11th</th>\n",
       "      <td>32.372881</td>\n",
       "    </tr>\n",
       "    <tr>\n",
       "      <th>12th</th>\n",
       "      <td>30.736842</td>\n",
       "    </tr>\n",
       "    <tr>\n",
       "      <th>1st-4th</th>\n",
       "      <td>63.833333</td>\n",
       "    </tr>\n",
       "    <tr>\n",
       "      <th>5th-6th</th>\n",
       "      <td>53.642857</td>\n",
       "    </tr>\n",
       "    <tr>\n",
       "      <th>...</th>\n",
       "      <th>...</th>\n",
       "      <th>...</th>\n",
       "      <td>...</td>\n",
       "    </tr>\n",
       "    <tr>\n",
       "      <th rowspan=\"5\" valign=\"top\">Without-pay</th>\n",
       "      <th rowspan=\"5\" valign=\"top\">&gt;50K</th>\n",
       "      <th>HS-grad</th>\n",
       "      <td>NaN</td>\n",
       "    </tr>\n",
       "    <tr>\n",
       "      <th>Masters</th>\n",
       "      <td>NaN</td>\n",
       "    </tr>\n",
       "    <tr>\n",
       "      <th>Preschool</th>\n",
       "      <td>NaN</td>\n",
       "    </tr>\n",
       "    <tr>\n",
       "      <th>Prof-school</th>\n",
       "      <td>NaN</td>\n",
       "    </tr>\n",
       "    <tr>\n",
       "      <th>Some-college</th>\n",
       "      <td>NaN</td>\n",
       "    </tr>\n",
       "  </tbody>\n",
       "</table>\n",
       "<p>288 rows × 1 columns</p>\n",
       "</div>"
      ],
      "text/plain": [
       "                                                Age\n",
       "Workclass   Above/Below 50k Education              \n",
       "?           <=50K           10th          33.357143\n",
       "                            11th          32.372881\n",
       "                            12th          30.736842\n",
       "                            1st-4th       63.833333\n",
       "                            5th-6th       53.642857\n",
       "...                                             ...\n",
       "Without-pay >50K            HS-grad             NaN\n",
       "                            Masters             NaN\n",
       "                            Preschool           NaN\n",
       "                            Prof-school         NaN\n",
       "                            Some-college        NaN\n",
       "\n",
       "[288 rows x 1 columns]"
      ]
     },
     "execution_count": 30,
     "metadata": {},
     "output_type": "execute_result"
    }
   ],
   "source": [
    "\n",
    "adults.groupby(by=[\"Workclass\",\"Above/Below 50k\",\"Education\"], observed=False)[[\"Age\"]].mean()"
   ]
  },
  {
   "cell_type": "code",
   "execution_count": 31,
   "id": "dfad74e3",
   "metadata": {},
   "outputs": [],
   "source": [
    "gb = adults.groupby(by=[\"Workclass\",\"Above/Below 50k\",\"Education\"], observed=False)"
   ]
  },
  {
   "cell_type": "code",
   "execution_count": 32,
   "id": "e85ba419",
   "metadata": {},
   "outputs": [
    {
     "data": {
      "text/plain": [
       "208"
      ]
     },
     "execution_count": 32,
     "metadata": {},
     "output_type": "execute_result"
    }
   ],
   "source": [
    "gb.ngroups"
   ]
  },
  {
   "cell_type": "code",
   "execution_count": 33,
   "id": "bf87c522",
   "metadata": {},
   "outputs": [
    {
     "data": {
      "text/plain": [
       "Workclass    Above/Below 50k  Education   \n",
       "?            <=50K            10th             98\n",
       "                              11th            118\n",
       "                              12th             38\n",
       "                              1st-4th          12\n",
       "                              5th-6th          28\n",
       "                                             ... \n",
       "Without-pay  >50K             HS-grad           0\n",
       "                              Masters           0\n",
       "                              Preschool         0\n",
       "                              Prof-school       0\n",
       "                              Some-college      0\n",
       "Length: 288, dtype: int64"
      ]
     },
     "execution_count": 33,
     "metadata": {},
     "output_type": "execute_result"
    }
   ],
   "source": [
    "# Another way o fknowing groupby object summary\n",
    "gb.size()"
   ]
  },
  {
   "cell_type": "code",
   "execution_count": 34,
   "id": "a32a52d8",
   "metadata": {},
   "outputs": [
    {
     "data": {
      "text/plain": [
       "Sex     Above/Below 50k\n",
       "Female  <=50K               9592\n",
       "        >50K                1179\n",
       "Male    <=50K              15128\n",
       "        >50K                6662\n",
       "dtype: int64"
      ]
     },
     "execution_count": 34,
     "metadata": {},
     "output_type": "execute_result"
    }
   ],
   "source": [
    "adults.groupby(by=[\"Sex\",\"Above/Below 50k\"], observed=False).size()"
   ]
  },
  {
   "cell_type": "code",
   "execution_count": 35,
   "id": "9176a560",
   "metadata": {},
   "outputs": [
    {
     "data": {
      "image/png": "[encoded data removed]",
      "text/plain": [
       "<Figure size 640x480 with 2 Axes>"
      ]
     },
     "metadata": {},
     "output_type": "display_data"
    }
   ],
   "source": [
    "sns.heatmap(adults.corr(numeric_only=True), annot=True)\n",
    "plt.show()"
   ]
  },
  {
   "cell_type": "markdown",
   "id": "b16542ab",
   "metadata": {},
   "source": [
    "# Categoical pandas Series\n",
    "Learning of all methods available to apply on a pandas Series with dtype Category\n",
    "\n",
    "### Set / add / remove categories"
   ]
  },
  {
   "cell_type": "code",
   "execution_count": 36,
   "id": "8467e23d",
   "metadata": {},
   "outputs": [
    {
     "data": {
      "text/html": [
       "<div>\n",
       "<style scoped>\n",
       "    .dataframe tbody tr th:only-of-type {\n",
       "        vertical-align: middle;\n",
       "    }\n",
       "\n",
       "    .dataframe tbody tr th {\n",
       "        vertical-align: top;\n",
       "    }\n",
       "\n",
       "    .dataframe thead th {\n",
       "        text-align: right;\n",
       "    }\n",
       "</style>\n",
       "<table border=\"1\" class=\"dataframe\">\n",
       "  <thead>\n",
       "    <tr style=\"text-align: right;\">\n",
       "      <th></th>\n",
       "      <th>ID</th>\n",
       "      <th>name</th>\n",
       "      <th>age</th>\n",
       "      <th>sex</th>\n",
       "      <th>breed</th>\n",
       "      <th>date_found</th>\n",
       "      <th>adoptable_from</th>\n",
       "      <th>posted</th>\n",
       "      <th>color</th>\n",
       "      <th>coat</th>\n",
       "      <th>size</th>\n",
       "      <th>neutered</th>\n",
       "      <th>housebroken</th>\n",
       "      <th>likes_people</th>\n",
       "      <th>likes_children</th>\n",
       "      <th>get_along_males</th>\n",
       "      <th>get_along_females</th>\n",
       "      <th>get_along_cats</th>\n",
       "      <th>keep_in</th>\n",
       "    </tr>\n",
       "  </thead>\n",
       "  <tbody>\n",
       "    <tr>\n",
       "      <th>0</th>\n",
       "      <td>23807</td>\n",
       "      <td>Gida</td>\n",
       "      <td>0.25</td>\n",
       "      <td>female</td>\n",
       "      <td>Unknown Mix</td>\n",
       "      <td>12/10/19</td>\n",
       "      <td>12/11/19</td>\n",
       "      <td>12/11/19</td>\n",
       "      <td>red</td>\n",
       "      <td>short</td>\n",
       "      <td>small</td>\n",
       "      <td>no</td>\n",
       "      <td>NaN</td>\n",
       "      <td>NaN</td>\n",
       "      <td>NaN</td>\n",
       "      <td>NaN</td>\n",
       "      <td>NaN</td>\n",
       "      <td>NaN</td>\n",
       "      <td>NaN</td>\n",
       "    </tr>\n",
       "    <tr>\n",
       "      <th>1</th>\n",
       "      <td>533</td>\n",
       "      <td>Frida És Ricsi</td>\n",
       "      <td>0.17</td>\n",
       "      <td>female</td>\n",
       "      <td>Unknown Mix</td>\n",
       "      <td>12/1/19</td>\n",
       "      <td>12/1/19</td>\n",
       "      <td>12/9/19</td>\n",
       "      <td>black and white</td>\n",
       "      <td>short</td>\n",
       "      <td>small</td>\n",
       "      <td>no</td>\n",
       "      <td>NaN</td>\n",
       "      <td>yes</td>\n",
       "      <td>yes</td>\n",
       "      <td>yes</td>\n",
       "      <td>yes</td>\n",
       "      <td>yes</td>\n",
       "      <td>NaN</td>\n",
       "    </tr>\n",
       "  </tbody>\n",
       "</table>\n",
       "</div>"
      ],
      "text/plain": [
       "      ID            name   age     sex        breed date_found adoptable_from  \\\n",
       "0  23807            Gida  0.25  female  Unknown Mix   12/10/19       12/11/19   \n",
       "1    533  Frida És Ricsi  0.17  female  Unknown Mix    12/1/19        12/1/19   \n",
       "\n",
       "     posted            color   coat   size neutered housebroken likes_people  \\\n",
       "0  12/11/19              red  short  small       no         NaN          NaN   \n",
       "1   12/9/19  black and white  short  small       no         NaN          yes   \n",
       "\n",
       "  likes_children get_along_males get_along_females get_along_cats keep_in  \n",
       "0            NaN             NaN               NaN            NaN     NaN  \n",
       "1            yes             yes               yes            yes     NaN  "
      ]
     },
     "execution_count": 36,
     "metadata": {},
     "output_type": "execute_result"
    }
   ],
   "source": [
    "dogs = pd.read_csv(\"./Shelterdogs.csv\")\n",
    "dogs.head(2)"
   ]
  },
  {
   "cell_type": "code",
   "execution_count": 37,
   "id": "2d2af706",
   "metadata": {},
   "outputs": [
    {
     "name": "stdout",
     "output_type": "stream",
     "text": [
      "<class 'pandas.core.frame.DataFrame'>\n",
      "RangeIndex: 2937 entries, 0 to 2936\n",
      "Data columns (total 19 columns):\n",
      " #   Column             Non-Null Count  Dtype  \n",
      "---  ------             --------------  -----  \n",
      " 0   ID                 2937 non-null   int64  \n",
      " 1   name               2845 non-null   object \n",
      " 2   age                2937 non-null   float64\n",
      " 3   sex                2937 non-null   object \n",
      " 4   breed              2937 non-null   object \n",
      " 5   date_found         2937 non-null   object \n",
      " 6   adoptable_from     2937 non-null   object \n",
      " 7   posted             2937 non-null   object \n",
      " 8   color              2937 non-null   object \n",
      " 9   coat               2937 non-null   object \n",
      " 10  size               2937 non-null   object \n",
      " 11  neutered           1852 non-null   object \n",
      " 12  housebroken        460 non-null    object \n",
      " 13  likes_people       1999 non-null   object \n",
      " 14  likes_children     1219 non-null   object \n",
      " 15  get_along_males    1633 non-null   object \n",
      " 16  get_along_females  1673 non-null   object \n",
      " 17  get_along_cats     431 non-null    object \n",
      " 18  keep_in            1916 non-null   object \n",
      "dtypes: float64(1), int64(1), object(17)\n",
      "memory usage: 436.1+ KB\n"
     ]
    }
   ],
   "source": [
    "dogs.info()"
   ]
  },
  {
   "cell_type": "markdown",
   "id": "a203e907",
   "metadata": {},
   "source": [
    "Checking different columns for their value counts to identify which columns can be converted to categorical\n",
    "\n",
    "**NOTE:** set the `dropna` parameter to False to include even NaN values (if present) into the value_count result.\n"
   ]
  },
  {
   "cell_type": "code",
   "execution_count": 38,
   "id": "f7dc4274",
   "metadata": {},
   "outputs": [
    {
     "data": {
      "text/plain": [
       "coat\n",
       "short         1972\n",
       "medium         565\n",
       "wirehaired     220\n",
       "long           180\n",
       "Name: count, dtype: int64"
      ]
     },
     "execution_count": 38,
     "metadata": {},
     "output_type": "execute_result"
    }
   ],
   "source": [
    "dogs[\"coat\"].value_counts(dropna=False)"
   ]
  },
  {
   "cell_type": "markdown",
   "id": "137c2530",
   "metadata": {},
   "source": [
    "### The `Series.cat` accessor\n",
    "More details in [documentation](https://pandas.pydata.org/docs/reference/api/pandas.Series.cat.html). Most commonly used parameters:\n",
    "**Accessing Categorical Properties:**\n",
    "It allows direct access to properties unique to categorical data, such as:\n",
    "- `.cat.categories`: Returns the unique categories (labels) defined for the categorical data.\n",
    "- `.cat.ordered`: Indicates whether the categories have a defined order.\n",
    "- `.cat.codes`: Returns the integer codes assigned to each category, representing their underlying numerical representation.\n",
    "\n",
    "**Manipulating Categories:**\n",
    "The .cat accessor provides methods for modifying the categories themselves:\n",
    "- `.cat.rename_categories()`: Renames existing categories.\n",
    "- `.cat.reorder_categories()`: Changes the order of categories.\n",
    "- `.cat.add_categories()`: Adds new categories to the existing set.\n",
    "- `.cat.remove_categories()`: Removes specified categories.\n",
    "- `.cat.remove_unused_categories()`: Removes categories that are defined but not present in the data.\n",
    "- `.cat.set_categories()`: Sets a completely new set of categories.\n",
    "\n",
    "NOTE: The column dtype has to be convertd to category first."
   ]
  },
  {
   "cell_type": "code",
   "execution_count": 39,
   "id": "d011886e",
   "metadata": {},
   "outputs": [
    {
     "data": {
      "text/html": [
       "<div>\n",
       "<style scoped>\n",
       "    .dataframe tbody tr th:only-of-type {\n",
       "        vertical-align: middle;\n",
       "    }\n",
       "\n",
       "    .dataframe tbody tr th {\n",
       "        vertical-align: top;\n",
       "    }\n",
       "\n",
       "    .dataframe thead th {\n",
       "        text-align: right;\n",
       "    }\n",
       "</style>\n",
       "<table border=\"1\" class=\"dataframe\">\n",
       "  <thead>\n",
       "    <tr style=\"text-align: right;\">\n",
       "      <th></th>\n",
       "      <th>ID</th>\n",
       "      <th>name</th>\n",
       "      <th>age</th>\n",
       "      <th>sex</th>\n",
       "      <th>breed</th>\n",
       "      <th>date_found</th>\n",
       "      <th>adoptable_from</th>\n",
       "      <th>posted</th>\n",
       "      <th>color</th>\n",
       "      <th>coat</th>\n",
       "      <th>size</th>\n",
       "      <th>neutered</th>\n",
       "      <th>housebroken</th>\n",
       "      <th>likes_people</th>\n",
       "      <th>likes_children</th>\n",
       "      <th>get_along_males</th>\n",
       "      <th>get_along_females</th>\n",
       "      <th>get_along_cats</th>\n",
       "      <th>keep_in</th>\n",
       "    </tr>\n",
       "  </thead>\n",
       "  <tbody>\n",
       "    <tr>\n",
       "      <th>0</th>\n",
       "      <td>23807</td>\n",
       "      <td>Gida</td>\n",
       "      <td>0.25</td>\n",
       "      <td>female</td>\n",
       "      <td>Unknown Mix</td>\n",
       "      <td>12/10/19</td>\n",
       "      <td>12/11/19</td>\n",
       "      <td>12/11/19</td>\n",
       "      <td>red</td>\n",
       "      <td>short</td>\n",
       "      <td>small</td>\n",
       "      <td>no</td>\n",
       "      <td>NaN</td>\n",
       "      <td>NaN</td>\n",
       "      <td>NaN</td>\n",
       "      <td>NaN</td>\n",
       "      <td>NaN</td>\n",
       "      <td>NaN</td>\n",
       "      <td>NaN</td>\n",
       "    </tr>\n",
       "    <tr>\n",
       "      <th>1</th>\n",
       "      <td>533</td>\n",
       "      <td>Frida És Ricsi</td>\n",
       "      <td>0.17</td>\n",
       "      <td>female</td>\n",
       "      <td>Unknown Mix</td>\n",
       "      <td>12/1/19</td>\n",
       "      <td>12/1/19</td>\n",
       "      <td>12/9/19</td>\n",
       "      <td>black and white</td>\n",
       "      <td>short</td>\n",
       "      <td>small</td>\n",
       "      <td>no</td>\n",
       "      <td>NaN</td>\n",
       "      <td>yes</td>\n",
       "      <td>yes</td>\n",
       "      <td>yes</td>\n",
       "      <td>yes</td>\n",
       "      <td>yes</td>\n",
       "      <td>NaN</td>\n",
       "    </tr>\n",
       "  </tbody>\n",
       "</table>\n",
       "</div>"
      ],
      "text/plain": [
       "      ID            name   age     sex        breed date_found adoptable_from  \\\n",
       "0  23807            Gida  0.25  female  Unknown Mix   12/10/19       12/11/19   \n",
       "1    533  Frida És Ricsi  0.17  female  Unknown Mix    12/1/19        12/1/19   \n",
       "\n",
       "     posted            color   coat   size neutered housebroken likes_people  \\\n",
       "0  12/11/19              red  short  small       no         NaN          NaN   \n",
       "1   12/9/19  black and white  short  small       no         NaN          yes   \n",
       "\n",
       "  likes_children get_along_males get_along_females get_along_cats keep_in  \n",
       "0            NaN             NaN               NaN            NaN     NaN  \n",
       "1            yes             yes               yes            yes     NaN  "
      ]
     },
     "execution_count": 39,
     "metadata": {},
     "output_type": "execute_result"
    }
   ],
   "source": [
    "new_dogsdf = pd.read_csv(\"./Shelterdogs.csv\")\n",
    "new_dogsdf.head(2)"
   ]
  },
  {
   "cell_type": "code",
   "execution_count": 40,
   "id": "102cde7c",
   "metadata": {},
   "outputs": [
    {
     "data": {
      "text/plain": [
       "coat\n",
       "short         1972\n",
       "medium         565\n",
       "wirehaired     220\n",
       "long           180\n",
       "Name: count, dtype: int64"
      ]
     },
     "execution_count": 40,
     "metadata": {},
     "output_type": "execute_result"
    }
   ],
   "source": [
    "new_dogsdf[\"coat\"].value_counts()"
   ]
  },
  {
   "cell_type": "code",
   "execution_count": 41,
   "id": "763714fd",
   "metadata": {},
   "outputs": [],
   "source": [
    "# Converting dtype to category\n",
    "new_dogsdf[\"coat\"] = new_dogsdf[\"coat\"].astype(\"category\")"
   ]
  },
  {
   "cell_type": "code",
   "execution_count": 42,
   "id": "eaf8c735",
   "metadata": {},
   "outputs": [
    {
     "data": {
      "text/plain": [
       "CategoricalDtype(categories=['long', 'medium', 'short', 'wirehaired'], ordered=False, categories_dtype=object)"
      ]
     },
     "execution_count": 42,
     "metadata": {},
     "output_type": "execute_result"
    }
   ],
   "source": [
    "new_dogsdf[\"coat\"].dtype"
   ]
  },
  {
   "cell_type": "code",
   "execution_count": 43,
   "id": "ebb8fe74",
   "metadata": {},
   "outputs": [
    {
     "data": {
      "text/plain": [
       "0     short\n",
       "1     short\n",
       "2     short\n",
       "3    medium\n",
       "4     short\n",
       "Name: coat, dtype: category\n",
       "Categories (3, object): ['short', 'medium', 'long']"
      ]
     },
     "execution_count": 43,
     "metadata": {},
     "output_type": "execute_result"
    }
   ],
   "source": [
    "# Setting categories -- unordered\n",
    "new_dogsdf[\"coat\"] = new_dogsdf[\"coat\"].cat.set_categories(new_categories=[\"short\", \"medium\", \"long\"])\n",
    "new_dogsdf[\"coat\"].head()"
   ]
  },
  {
   "cell_type": "code",
   "execution_count": 44,
   "id": "d9c52881",
   "metadata": {},
   "outputs": [
    {
     "data": {
      "text/plain": [
       "coat\n",
       "short     1972\n",
       "medium     565\n",
       "NaN        220\n",
       "long       180\n",
       "Name: count, dtype: int64"
      ]
     },
     "execution_count": 44,
     "metadata": {},
     "output_type": "execute_result"
    }
   ],
   "source": [
    "# Values not listed in categories list have been dropped \n",
    "new_dogsdf[\"coat\"].value_counts(dropna=False)"
   ]
  },
  {
   "cell_type": "code",
   "execution_count": 45,
   "id": "66783e84",
   "metadata": {},
   "outputs": [
    {
     "data": {
      "text/plain": [
       "0     short\n",
       "1     short\n",
       "2     short\n",
       "3    medium\n",
       "4     short\n",
       "Name: coat, dtype: category\n",
       "Categories (3, object): ['short' < 'medium' < 'long']"
      ]
     },
     "execution_count": 45,
     "metadata": {},
     "output_type": "execute_result"
    }
   ],
   "source": [
    "# Setting categories -- Ordered\n",
    "new_dogsdf[\"coat\"] = new_dogsdf[\"coat\"].cat.set_categories(new_categories=[\"short\", \"medium\", \"long\"], ordered=True)\n",
    "new_dogsdf[\"coat\"].head()"
   ]
  },
  {
   "cell_type": "markdown",
   "id": "a48ce6a9",
   "metadata": {},
   "source": [
    "Notice how the rows with 'wirehaired' entry previously now have NaN instead. \n",
    "\n",
    "This is because there is no category assigned while setting the `new_categories` in the latest update to the dataframe (i.e. when the `.cat.set_categories()` method was applied)\n",
    "\n",
    "**Adding the remaining category using `.cat.add_categories()` method :**"
   ]
  },
  {
   "cell_type": "code",
   "execution_count": 46,
   "id": "164dfa4d",
   "metadata": {},
   "outputs": [],
   "source": [
    "new_dogsdf[\"coat\"] = new_dogsdf[\"coat\"].cat.add_categories(new_categories=[\"wirehaired\"])"
   ]
  },
  {
   "cell_type": "markdown",
   "id": "7d6be4aa",
   "metadata": {},
   "source": [
    "**NOTE that this only adds a new categorical variable that _CAN BE_ assigned but It is yet to be assigned in the column values.** \n",
    "\n",
    "Assigning one of these categorical variables to the rows is done using filtering of rows by various conditions (filtering)OR by methods\\ accessors(`loc`\\ `iloc`) based on observations / domain knowledge.\n",
    "\n",
    "\n",
    "______\n",
    "### TEST QUESTIONS - \n",
    "**Q - One of the most common questions they have been receiving lately is: \"What type of area was the dog previously kept in?\".** <br> \n",
    "You are setting up a pipeline to do some analysis and want to look into what information is available regarding the \"keep_in\" variable."
   ]
  },
  {
   "cell_type": "code",
   "execution_count": 47,
   "id": "c64fc14a",
   "metadata": {},
   "outputs": [
    {
     "data": {
      "text/plain": [
       "keep_in\n",
       "both flat and garden    1224\n",
       "NaN                     1021\n",
       "garden                   510\n",
       "flat                     182\n",
       "Name: count, dtype: int64"
      ]
     },
     "execution_count": 47,
     "metadata": {},
     "output_type": "execute_result"
    }
   ],
   "source": [
    "new_dogsdf[\"keep_in\"].value_counts(dropna=False)"
   ]
  },
  {
   "cell_type": "markdown",
   "id": "15722f24",
   "metadata": {},
   "source": [
    ">This shows there are about 1K records without any information on area to keep the dog in"
   ]
  },
  {
   "cell_type": "code",
   "execution_count": 48,
   "id": "09a75cc5",
   "metadata": {},
   "outputs": [],
   "source": [
    "new_dogsdf[\"keep_in\"] = new_dogsdf[\"keep_in\"].astype(\"category\")"
   ]
  },
  {
   "cell_type": "code",
   "execution_count": 49,
   "id": "d8fac1bd",
   "metadata": {},
   "outputs": [
    {
     "data": {
      "text/plain": [
       "0                        NaN\n",
       "1                        NaN\n",
       "2                        NaN\n",
       "3                        NaN\n",
       "4                        NaN\n",
       "                ...         \n",
       "2932                  garden\n",
       "2933                     NaN\n",
       "2934                     NaN\n",
       "2935                     NaN\n",
       "2936    both flat and garden\n",
       "Name: keep_in, Length: 2937, dtype: category\n",
       "Categories (3, object): ['both flat and garden', 'flat', 'garden']"
      ]
     },
     "execution_count": 49,
     "metadata": {},
     "output_type": "execute_result"
    }
   ],
   "source": [
    "pd.Series(new_dogsdf[\"keep_in\"]).astype(\"category\")"
   ]
  },
  {
   "cell_type": "code",
   "execution_count": 50,
   "id": "cb05e23e",
   "metadata": {},
   "outputs": [],
   "source": [
    "new_categories = [\"Unknown History\", \"Open Yard (Countryside)\"]\n",
    "new_dogsdf[\"keep_in\"] = new_dogsdf[\"keep_in\"].cat.add_categories(new_categories = new_categories)"
   ]
  },
  {
   "cell_type": "code",
   "execution_count": 51,
   "id": "c87bc188",
   "metadata": {},
   "outputs": [
    {
     "data": {
      "text/plain": [
       "0    NaN\n",
       "1    NaN\n",
       "2    NaN\n",
       "3    NaN\n",
       "4    NaN\n",
       "Name: keep_in, dtype: category\n",
       "Categories (5, object): ['both flat and garden', 'flat', 'garden', 'Unknown History', 'Open Yard (Countryside)']"
      ]
     },
     "execution_count": 51,
     "metadata": {},
     "output_type": "execute_result"
    }
   ],
   "source": [
    "new_dogsdf[\"keep_in\"].head()"
   ]
  },
  {
   "cell_type": "markdown",
   "id": "3e948938",
   "metadata": {},
   "source": [
    "Before adopting dogs, parents might want to know whether or not a new dog likes children. When looking at the adoptable dogs dataset, dogs, you notice that the frequency of responses for the categorical Series \"likes_children\" has 'maybe'as one of the ctegorical variables.\n",
    "\n",
    "**Q - The owner of the data wants to convert all \"maybe\" responses to \"no\", as it would be unsafe to let a family adapt a dog if it doesn't like children.**"
   ]
  },
  {
   "cell_type": "code",
   "execution_count": 52,
   "id": "560b0856",
   "metadata": {},
   "outputs": [
    {
     "data": {
      "text/plain": [
       "likes_children\n",
       "yes    1172\n",
       "no       47\n",
       "Name: count, dtype: int64"
      ]
     },
     "execution_count": 52,
     "metadata": {},
     "output_type": "execute_result"
    }
   ],
   "source": [
    "new_dogsdf[\"likes_children\"].value_counts() #.cat.remove_categories(removals=[\"maybe\"])"
   ]
  },
  {
   "cell_type": "markdown",
   "id": "456b44a1",
   "metadata": {},
   "source": [
    "### Renaming categories\n",
    "`Series.cat.rename_categories(new_categories=dict)`\n",
    "\n",
    "The category variable is renamed by passing a key-value pair {old_name: new_name}\n",
    "\n",
    "Renaming will not work:\n",
    "- Category name already exists\n",
    "- Two previous categories cannot be renamed to same category"
   ]
  },
  {
   "cell_type": "code",
   "execution_count": 53,
   "id": "afe58a5a",
   "metadata": {},
   "outputs": [],
   "source": [
    "# Renaming the \"unknown mix\" category to just \"unknown\"\n",
    "new_dogsdf[\"breed\"].value_counts()\n",
    "new_dogsdf[\"breed\"] = new_dogsdf[\"breed\"].astype(\"category\")"
   ]
  },
  {
   "cell_type": "code",
   "execution_count": 54,
   "id": "3f051194",
   "metadata": {},
   "outputs": [],
   "source": [
    "new_dogsdf[\"breed\"] = new_dogsdf[\"breed\"].cat.rename_categories(new_categories={\"Unknown Mix\":\"Unknown\"})"
   ]
  },
  {
   "cell_type": "code",
   "execution_count": 55,
   "id": "29145113",
   "metadata": {},
   "outputs": [
    {
     "data": {
      "text/plain": [
       "breed\n",
       "Unknown                                                           1524\n",
       "German Shepherd Dog Mix                                            190\n",
       "Dachshund Mix                                                      147\n",
       "Labrador Retriever Mix                                              83\n",
       "Staffordshire Terrier Mix                                           62\n",
       "                                                                  ... \n",
       "Tibetan Terrier                                                      1\n",
       "American Bulldog Mix                                                 1\n",
       "Alaskan Malamute, Caucasian Ovtcharka, German Shepherd Dog Mix       1\n",
       "Akita, Labrador Retriever Mix                                        1\n",
       "Akita, German Shepherd Dog Mix                                       1\n",
       "Name: count, Length: 277, dtype: int64"
      ]
     },
     "execution_count": 55,
     "metadata": {},
     "output_type": "execute_result"
    }
   ],
   "source": [
    "new_dogsdf[\"breed\"].value_counts()"
   ]
  },
  {
   "cell_type": "markdown",
   "id": "2cb090f0",
   "metadata": {},
   "source": [
    "### Renaming categories with lambda functions\n"
   ]
  },
  {
   "cell_type": "code",
   "execution_count": 56,
   "id": "7f203ddd",
   "metadata": {},
   "outputs": [],
   "source": [
    "new_dogsdf[\"color\"] = new_dogsdf[\"color\"].astype(\"category\")"
   ]
  },
  {
   "cell_type": "code",
   "execution_count": 57,
   "id": "10985fd2",
   "metadata": {},
   "outputs": [],
   "source": [
    "# Converting \n",
    "new_dogsdf[\"color\"] = new_dogsdf[\"color\"].cat.rename_categories(lambda x:x.title())"
   ]
  },
  {
   "cell_type": "code",
   "execution_count": 58,
   "id": "bcb7fcda",
   "metadata": {},
   "outputs": [
    {
     "data": {
      "text/html": [
       "<div>\n",
       "<style scoped>\n",
       "    .dataframe tbody tr th:only-of-type {\n",
       "        vertical-align: middle;\n",
       "    }\n",
       "\n",
       "    .dataframe tbody tr th {\n",
       "        vertical-align: top;\n",
       "    }\n",
       "\n",
       "    .dataframe thead th {\n",
       "        text-align: right;\n",
       "    }\n",
       "</style>\n",
       "<table border=\"1\" class=\"dataframe\">\n",
       "  <thead>\n",
       "    <tr style=\"text-align: right;\">\n",
       "      <th></th>\n",
       "      <th>ID</th>\n",
       "      <th>name</th>\n",
       "      <th>age</th>\n",
       "      <th>sex</th>\n",
       "      <th>breed</th>\n",
       "      <th>date_found</th>\n",
       "      <th>adoptable_from</th>\n",
       "      <th>posted</th>\n",
       "      <th>color</th>\n",
       "      <th>coat</th>\n",
       "      <th>size</th>\n",
       "      <th>neutered</th>\n",
       "      <th>housebroken</th>\n",
       "      <th>likes_people</th>\n",
       "      <th>likes_children</th>\n",
       "      <th>get_along_males</th>\n",
       "      <th>get_along_females</th>\n",
       "      <th>get_along_cats</th>\n",
       "      <th>keep_in</th>\n",
       "    </tr>\n",
       "  </thead>\n",
       "  <tbody>\n",
       "    <tr>\n",
       "      <th>0</th>\n",
       "      <td>23807</td>\n",
       "      <td>Gida</td>\n",
       "      <td>0.25</td>\n",
       "      <td>female</td>\n",
       "      <td>Unknown</td>\n",
       "      <td>12/10/19</td>\n",
       "      <td>12/11/19</td>\n",
       "      <td>12/11/19</td>\n",
       "      <td>Red</td>\n",
       "      <td>short</td>\n",
       "      <td>small</td>\n",
       "      <td>no</td>\n",
       "      <td>NaN</td>\n",
       "      <td>NaN</td>\n",
       "      <td>NaN</td>\n",
       "      <td>NaN</td>\n",
       "      <td>NaN</td>\n",
       "      <td>NaN</td>\n",
       "      <td>NaN</td>\n",
       "    </tr>\n",
       "    <tr>\n",
       "      <th>1</th>\n",
       "      <td>533</td>\n",
       "      <td>Frida És Ricsi</td>\n",
       "      <td>0.17</td>\n",
       "      <td>female</td>\n",
       "      <td>Unknown</td>\n",
       "      <td>12/1/19</td>\n",
       "      <td>12/1/19</td>\n",
       "      <td>12/9/19</td>\n",
       "      <td>Black And White</td>\n",
       "      <td>short</td>\n",
       "      <td>small</td>\n",
       "      <td>no</td>\n",
       "      <td>NaN</td>\n",
       "      <td>yes</td>\n",
       "      <td>yes</td>\n",
       "      <td>yes</td>\n",
       "      <td>yes</td>\n",
       "      <td>yes</td>\n",
       "      <td>NaN</td>\n",
       "    </tr>\n",
       "    <tr>\n",
       "      <th>2</th>\n",
       "      <td>23793</td>\n",
       "      <td>NaN</td>\n",
       "      <td>4.00</td>\n",
       "      <td>male</td>\n",
       "      <td>Unknown</td>\n",
       "      <td>12/8/19</td>\n",
       "      <td>12/23/19</td>\n",
       "      <td>12/8/19</td>\n",
       "      <td>Saddle Back</td>\n",
       "      <td>short</td>\n",
       "      <td>medium</td>\n",
       "      <td>no</td>\n",
       "      <td>NaN</td>\n",
       "      <td>NaN</td>\n",
       "      <td>NaN</td>\n",
       "      <td>NaN</td>\n",
       "      <td>NaN</td>\n",
       "      <td>NaN</td>\n",
       "      <td>NaN</td>\n",
       "    </tr>\n",
       "    <tr>\n",
       "      <th>3</th>\n",
       "      <td>23795</td>\n",
       "      <td>NaN</td>\n",
       "      <td>1.00</td>\n",
       "      <td>male</td>\n",
       "      <td>Unknown</td>\n",
       "      <td>12/8/19</td>\n",
       "      <td>12/23/19</td>\n",
       "      <td>12/8/19</td>\n",
       "      <td>Yellow-Brown</td>\n",
       "      <td>medium</td>\n",
       "      <td>medium</td>\n",
       "      <td>no</td>\n",
       "      <td>NaN</td>\n",
       "      <td>NaN</td>\n",
       "      <td>NaN</td>\n",
       "      <td>NaN</td>\n",
       "      <td>NaN</td>\n",
       "      <td>NaN</td>\n",
       "      <td>NaN</td>\n",
       "    </tr>\n",
       "    <tr>\n",
       "      <th>4</th>\n",
       "      <td>23806</td>\n",
       "      <td>Amy</td>\n",
       "      <td>2.00</td>\n",
       "      <td>female</td>\n",
       "      <td>French Bulldog Mix</td>\n",
       "      <td>12/10/19</td>\n",
       "      <td>12/11/19</td>\n",
       "      <td>12/11/19</td>\n",
       "      <td>Black</td>\n",
       "      <td>short</td>\n",
       "      <td>small</td>\n",
       "      <td>no</td>\n",
       "      <td>NaN</td>\n",
       "      <td>NaN</td>\n",
       "      <td>NaN</td>\n",
       "      <td>NaN</td>\n",
       "      <td>NaN</td>\n",
       "      <td>NaN</td>\n",
       "      <td>NaN</td>\n",
       "    </tr>\n",
       "  </tbody>\n",
       "</table>\n",
       "</div>"
      ],
      "text/plain": [
       "      ID            name   age     sex               breed date_found  \\\n",
       "0  23807            Gida  0.25  female             Unknown   12/10/19   \n",
       "1    533  Frida És Ricsi  0.17  female             Unknown    12/1/19   \n",
       "2  23793             NaN  4.00    male             Unknown    12/8/19   \n",
       "3  23795             NaN  1.00    male             Unknown    12/8/19   \n",
       "4  23806             Amy  2.00  female  French Bulldog Mix   12/10/19   \n",
       "\n",
       "  adoptable_from    posted            color    coat    size neutered  \\\n",
       "0       12/11/19  12/11/19              Red   short   small       no   \n",
       "1        12/1/19   12/9/19  Black And White   short   small       no   \n",
       "2       12/23/19   12/8/19      Saddle Back   short  medium       no   \n",
       "3       12/23/19   12/8/19     Yellow-Brown  medium  medium       no   \n",
       "4       12/11/19  12/11/19            Black   short   small       no   \n",
       "\n",
       "  housebroken likes_people likes_children get_along_males get_along_females  \\\n",
       "0         NaN          NaN            NaN             NaN               NaN   \n",
       "1         NaN          yes            yes             yes               yes   \n",
       "2         NaN          NaN            NaN             NaN               NaN   \n",
       "3         NaN          NaN            NaN             NaN               NaN   \n",
       "4         NaN          NaN            NaN             NaN               NaN   \n",
       "\n",
       "  get_along_cats keep_in  \n",
       "0            NaN     NaN  \n",
       "1            yes     NaN  \n",
       "2            NaN     NaN  \n",
       "3            NaN     NaN  \n",
       "4            NaN     NaN  "
      ]
     },
     "execution_count": 58,
     "metadata": {},
     "output_type": "execute_result"
    }
   ],
   "source": [
    "new_dogsdf.head()"
   ]
  },
  {
   "cell_type": "code",
   "execution_count": 59,
   "id": "f9029f24",
   "metadata": {},
   "outputs": [
    {
     "data": {
      "text/plain": [
       "Index(['Apricot', 'Black', 'Black And Brown', 'Black And Tan',\n",
       "       'Black And White', 'Brown', 'Brown And White', 'Dotted', 'Golden',\n",
       "       'Gray', 'Gray And Black', 'Gray And White', 'Red', 'Red And White',\n",
       "       'Sable', 'Saddle Back', 'Spotty', 'Striped', 'Tricolor', 'White',\n",
       "       'Wild Boar', 'Yellow', 'Yellow-Brown'],\n",
       "      dtype='object')"
      ]
     },
     "execution_count": 59,
     "metadata": {},
     "output_type": "execute_result"
    }
   ],
   "source": [
    "new_dogsdf[\"color\"].cat.categories"
   ]
  },
  {
   "cell_type": "markdown",
   "id": "834d4377",
   "metadata": {},
   "source": [
    "### Collapsing categories\n",
    "Passing a `{\"current_name\":\"old_name\"}` dict to a `Series.replace()` method will only operate on the string values in the Series.<br>\n",
    "Also ,the column dtype will be changed from `category` to `object`.\n",
    "\n",
    "For given example changing some of the categories into one single category.\n",
    "\n",
    "The above method is used because multiple categories cannot be converted into one single category will raise a `ValueError`. "
   ]
  },
  {
   "cell_type": "code",
   "execution_count": 60,
   "id": "6b175aad",
   "metadata": {},
   "outputs": [],
   "source": [
    "update_colors = {'Black And Brown':'Black', 'Black And Tan':'Black', 'Black And White':'Black'}"
   ]
  },
  {
   "cell_type": "code",
   "execution_count": 61,
   "id": "7313c2ae",
   "metadata": {},
   "outputs": [],
   "source": [
    "# Below code will raise a ValueError: Categorical categories must be unique\n",
    "# new_dogsdf[\"color\"] = new_dogsdf[\"color\"].cat.rename_categories(update_colors)"
   ]
  },
  {
   "cell_type": "code",
   "execution_count": 62,
   "id": "449f80b6",
   "metadata": {},
   "outputs": [
    {
     "data": {
      "text/plain": [
       "color\n",
       "Black              620\n",
       "Brown              293\n",
       "Black And Brown    287\n",
       "Yellow-Brown       212\n",
       "Black And White    190\n",
       "Black And Tan      155\n",
       "Apricot            142\n",
       "Brown And White    124\n",
       "White              124\n",
       "Sable              118\n",
       "Tricolor            99\n",
       "Saddle Back         91\n",
       "Striped             89\n",
       "Gray                64\n",
       "Yellow              63\n",
       "Golden              61\n",
       "Red                 53\n",
       "Spotty              47\n",
       "Gray And White      35\n",
       "Gray And Black      28\n",
       "Wild Boar           18\n",
       "Red And White       14\n",
       "Dotted              10\n",
       "Name: count, dtype: int64"
      ]
     },
     "execution_count": 62,
     "metadata": {},
     "output_type": "execute_result"
    }
   ],
   "source": [
    "new_dogsdf[\"color\"].value_counts()"
   ]
  },
  {
   "cell_type": "markdown",
   "id": "4002949b",
   "metadata": {},
   "source": [
    "### Re-ordering categories\n",
    "Useful when creating ordinal categorical variables."
   ]
  },
  {
   "cell_type": "code",
   "execution_count": 63,
   "id": "a664cca4",
   "metadata": {},
   "outputs": [
    {
     "data": {
      "text/plain": [
       "coat\n",
       "short         1972\n",
       "medium         565\n",
       "wirehaired     220\n",
       "long           180\n",
       "Name: count, dtype: int64"
      ]
     },
     "execution_count": 63,
     "metadata": {},
     "output_type": "execute_result"
    }
   ],
   "source": [
    "dogs[\"coat\"].value_counts()"
   ]
  },
  {
   "cell_type": "code",
   "execution_count": 64,
   "id": "02654b5c",
   "metadata": {},
   "outputs": [
    {
     "data": {
      "text/plain": [
       "Index(['short', 'medium', 'long', 'wirehaired'], dtype='object')"
      ]
     },
     "execution_count": 64,
     "metadata": {},
     "output_type": "execute_result"
    }
   ],
   "source": [
    "new_dogsdf[\"coat\"].cat.categories"
   ]
  },
  {
   "cell_type": "code",
   "execution_count": 65,
   "id": "ef2a43c2",
   "metadata": {},
   "outputs": [],
   "source": [
    "# Re-ordering the coat column\n",
    "dogs[\"coat\"] = new_dogsdf[\"coat\"].cat.reorder_categories(new_categories=[\"short\",\"medium\",\"wirehaired\",\"long\"], ordered=True)\n"
   ]
  },
  {
   "cell_type": "code",
   "execution_count": 66,
   "id": "d92a9044",
   "metadata": {},
   "outputs": [
    {
     "data": {
      "text/plain": [
       "0    short\n",
       "1    short\n",
       "Name: coat, dtype: category\n",
       "Categories (4, object): ['short' < 'medium' < 'wirehaired' < 'long']"
      ]
     },
     "execution_count": 66,
     "metadata": {},
     "output_type": "execute_result"
    }
   ],
   "source": [
    "dogs[\"coat\"].head(2)"
   ]
  },
  {
   "cell_type": "markdown",
   "id": "d5c96224",
   "metadata": {},
   "source": [
    "All further visualizaitons/ print/ groupby outputs will show this order"
   ]
  },
  {
   "cell_type": "code",
   "execution_count": 67,
   "id": "01b96e1b",
   "metadata": {},
   "outputs": [
    {
     "data": {
      "text/plain": [
       "coat\n",
       "short         8.364746\n",
       "medium        9.027982\n",
       "wirehaired         NaN\n",
       "long          9.552056\n",
       "Name: age, dtype: float64"
      ]
     },
     "execution_count": 67,
     "metadata": {},
     "output_type": "execute_result"
    }
   ],
   "source": [
    "dogs.groupby(by=[\"coat\"], observed=False)[\"age\"].mean()"
   ]
  },
  {
   "cell_type": "markdown",
   "id": "9289cbde",
   "metadata": {},
   "source": [
    "### Cleaning & accessing data\n",
    "Some common issues while handling categorical variables in a dataframe include:\n",
    "- Inconsistent values (i.e. some values are capitalized while some are in smallcase / whitespaces)\n",
    "- Misspelled values\n",
    "- Wrong dtypes (i.e. ensure column dtype is `category`)\n",
    "\n",
    "Firstly , identify the issues using `value_counts()` method OR the`Series.cat.categories` accessor.\n",
    "\n",
    "Once one or more of the above issues is idenfited, we can the fix the issues :\n",
    "- mostly it'll be using some `str.` methods such as `.title` , `.capitalize` , `.lower` etc\n",
    "- OR replacing one or more variables with the correct one `Series.replace(replace_dict_map)` / `Series.cat.rename_categories(replace_dict_map)`\n",
    "\n",
    "NOTE: Column dtype may have to be converted back to `category`."
   ]
  },
  {
   "cell_type": "code",
   "execution_count": 68,
   "id": "bf087763",
   "metadata": {},
   "outputs": [
    {
     "data": {
      "text/plain": [
       "get_along_males\n",
       "yes    1470\n",
       "no      163\n",
       "Name: count, dtype: int64"
      ]
     },
     "execution_count": 68,
     "metadata": {},
     "output_type": "execute_result"
    }
   ],
   "source": [
    "new_dogsdf[\"get_along_males\"].value_counts()"
   ]
  },
  {
   "cell_type": "markdown",
   "id": "4ab3be33",
   "metadata": {},
   "source": [
    "### Filtering using `str` methods"
   ]
  },
  {
   "cell_type": "code",
   "execution_count": 69,
   "id": "2a93d4cc",
   "metadata": {},
   "outputs": [
    {
     "data": {
      "text/html": [
       "<div>\n",
       "<style scoped>\n",
       "    .dataframe tbody tr th:only-of-type {\n",
       "        vertical-align: middle;\n",
       "    }\n",
       "\n",
       "    .dataframe tbody tr th {\n",
       "        vertical-align: top;\n",
       "    }\n",
       "\n",
       "    .dataframe thead th {\n",
       "        text-align: right;\n",
       "    }\n",
       "</style>\n",
       "<table border=\"1\" class=\"dataframe\">\n",
       "  <thead>\n",
       "    <tr style=\"text-align: right;\">\n",
       "      <th></th>\n",
       "      <th>ID</th>\n",
       "      <th>name</th>\n",
       "      <th>age</th>\n",
       "      <th>sex</th>\n",
       "      <th>breed</th>\n",
       "      <th>date_found</th>\n",
       "      <th>adoptable_from</th>\n",
       "      <th>posted</th>\n",
       "      <th>color</th>\n",
       "      <th>coat</th>\n",
       "      <th>size</th>\n",
       "      <th>neutered</th>\n",
       "      <th>housebroken</th>\n",
       "      <th>likes_people</th>\n",
       "      <th>likes_children</th>\n",
       "      <th>get_along_males</th>\n",
       "      <th>get_along_females</th>\n",
       "      <th>get_along_cats</th>\n",
       "      <th>keep_in</th>\n",
       "    </tr>\n",
       "  </thead>\n",
       "  <tbody>\n",
       "    <tr>\n",
       "      <th>27</th>\n",
       "      <td>4488</td>\n",
       "      <td>Kehlani</td>\n",
       "      <td>0.42</td>\n",
       "      <td>female</td>\n",
       "      <td>German Shepherd Dog Mix</td>\n",
       "      <td>12/1/19</td>\n",
       "      <td>12/1/19</td>\n",
       "      <td>12/7/19</td>\n",
       "      <td>Black And Brown</td>\n",
       "      <td>short</td>\n",
       "      <td>medium</td>\n",
       "      <td>NaN</td>\n",
       "      <td>NaN</td>\n",
       "      <td>yes</td>\n",
       "      <td>NaN</td>\n",
       "      <td>NaN</td>\n",
       "      <td>NaN</td>\n",
       "      <td>NaN</td>\n",
       "      <td>both flat and garden</td>\n",
       "    </tr>\n",
       "    <tr>\n",
       "      <th>63</th>\n",
       "      <td>1787</td>\n",
       "      <td>Inárcsi Hektor</td>\n",
       "      <td>0.25</td>\n",
       "      <td>male</td>\n",
       "      <td>German Shepherd Dog, Staffordshire Terrier Mix</td>\n",
       "      <td>11/24/19</td>\n",
       "      <td>11/24/19</td>\n",
       "      <td>11/25/19</td>\n",
       "      <td>Yellow-Brown</td>\n",
       "      <td>short</td>\n",
       "      <td>medium</td>\n",
       "      <td>no</td>\n",
       "      <td>NaN</td>\n",
       "      <td>yes</td>\n",
       "      <td>yes</td>\n",
       "      <td>yes</td>\n",
       "      <td>yes</td>\n",
       "      <td>yes</td>\n",
       "      <td>both flat and garden</td>\n",
       "    </tr>\n",
       "    <tr>\n",
       "      <th>100</th>\n",
       "      <td>23736</td>\n",
       "      <td>Csöpi</td>\n",
       "      <td>9.33</td>\n",
       "      <td>female</td>\n",
       "      <td>German Shepherd Dog Mix</td>\n",
       "      <td>11/14/19</td>\n",
       "      <td>11/29/19</td>\n",
       "      <td>11/14/19</td>\n",
       "      <td>Saddle Back</td>\n",
       "      <td>medium</td>\n",
       "      <td>large</td>\n",
       "      <td>no</td>\n",
       "      <td>NaN</td>\n",
       "      <td>NaN</td>\n",
       "      <td>NaN</td>\n",
       "      <td>NaN</td>\n",
       "      <td>NaN</td>\n",
       "      <td>NaN</td>\n",
       "      <td>NaN</td>\n",
       "    </tr>\n",
       "    <tr>\n",
       "      <th>101</th>\n",
       "      <td>23730</td>\n",
       "      <td>Suzi</td>\n",
       "      <td>13.08</td>\n",
       "      <td>female</td>\n",
       "      <td>German Shepherd Dog Mix</td>\n",
       "      <td>11/13/19</td>\n",
       "      <td>11/28/19</td>\n",
       "      <td>11/14/19</td>\n",
       "      <td>Sable</td>\n",
       "      <td>medium</td>\n",
       "      <td>large</td>\n",
       "      <td>yes</td>\n",
       "      <td>NaN</td>\n",
       "      <td>NaN</td>\n",
       "      <td>NaN</td>\n",
       "      <td>NaN</td>\n",
       "      <td>NaN</td>\n",
       "      <td>NaN</td>\n",
       "      <td>NaN</td>\n",
       "    </tr>\n",
       "    <tr>\n",
       "      <th>115</th>\n",
       "      <td>1778</td>\n",
       "      <td>Alsónémedi Sidney</td>\n",
       "      <td>0.42</td>\n",
       "      <td>female</td>\n",
       "      <td>Dachshund, German Shepherd Dog Mix</td>\n",
       "      <td>11/11/19</td>\n",
       "      <td>11/11/19</td>\n",
       "      <td>11/12/19</td>\n",
       "      <td>Black</td>\n",
       "      <td>short</td>\n",
       "      <td>small</td>\n",
       "      <td>no</td>\n",
       "      <td>NaN</td>\n",
       "      <td>yes</td>\n",
       "      <td>yes</td>\n",
       "      <td>yes</td>\n",
       "      <td>yes</td>\n",
       "      <td>yes</td>\n",
       "      <td>both flat and garden</td>\n",
       "    </tr>\n",
       "    <tr>\n",
       "      <th>...</th>\n",
       "      <td>...</td>\n",
       "      <td>...</td>\n",
       "      <td>...</td>\n",
       "      <td>...</td>\n",
       "      <td>...</td>\n",
       "      <td>...</td>\n",
       "      <td>...</td>\n",
       "      <td>...</td>\n",
       "      <td>...</td>\n",
       "      <td>...</td>\n",
       "      <td>...</td>\n",
       "      <td>...</td>\n",
       "      <td>...</td>\n",
       "      <td>...</td>\n",
       "      <td>...</td>\n",
       "      <td>...</td>\n",
       "      <td>...</td>\n",
       "      <td>...</td>\n",
       "      <td>...</td>\n",
       "    </tr>\n",
       "    <tr>\n",
       "      <th>2915</th>\n",
       "      <td>20</td>\n",
       "      <td>Lea</td>\n",
       "      <td>13.17</td>\n",
       "      <td>female</td>\n",
       "      <td>English Bloodhound, German Shepherd Dog Mix</td>\n",
       "      <td>12/1/06</td>\n",
       "      <td>5/1/07</td>\n",
       "      <td>7/23/07</td>\n",
       "      <td>Tricolor</td>\n",
       "      <td>short</td>\n",
       "      <td>medium</td>\n",
       "      <td>yes</td>\n",
       "      <td>NaN</td>\n",
       "      <td>yes</td>\n",
       "      <td>yes</td>\n",
       "      <td>yes</td>\n",
       "      <td>yes</td>\n",
       "      <td>NaN</td>\n",
       "      <td>both flat and garden</td>\n",
       "    </tr>\n",
       "    <tr>\n",
       "      <th>2917</th>\n",
       "      <td>14</td>\n",
       "      <td>Kormi</td>\n",
       "      <td>17.67</td>\n",
       "      <td>male</td>\n",
       "      <td>German Shepherd Dog Mix</td>\n",
       "      <td>4/1/03</td>\n",
       "      <td>4/1/04</td>\n",
       "      <td>7/23/07</td>\n",
       "      <td>Black</td>\n",
       "      <td>short</td>\n",
       "      <td>medium</td>\n",
       "      <td>no</td>\n",
       "      <td>NaN</td>\n",
       "      <td>yes</td>\n",
       "      <td>yes</td>\n",
       "      <td>yes</td>\n",
       "      <td>yes</td>\n",
       "      <td>NaN</td>\n",
       "      <td>garden</td>\n",
       "    </tr>\n",
       "    <tr>\n",
       "      <th>2918</th>\n",
       "      <td>6</td>\n",
       "      <td>Fifi</td>\n",
       "      <td>13.67</td>\n",
       "      <td>female</td>\n",
       "      <td>German Shepherd Dog Mix</td>\n",
       "      <td>4/1/07</td>\n",
       "      <td>4/1/07</td>\n",
       "      <td>5/21/07</td>\n",
       "      <td>Sable</td>\n",
       "      <td>short</td>\n",
       "      <td>medium</td>\n",
       "      <td>yes</td>\n",
       "      <td>NaN</td>\n",
       "      <td>yes</td>\n",
       "      <td>yes</td>\n",
       "      <td>yes</td>\n",
       "      <td>yes</td>\n",
       "      <td>NaN</td>\n",
       "      <td>NaN</td>\n",
       "    </tr>\n",
       "    <tr>\n",
       "      <th>2925</th>\n",
       "      <td>427</td>\n",
       "      <td>Yuki</td>\n",
       "      <td>13.75</td>\n",
       "      <td>male</td>\n",
       "      <td>German Shepherd Dog Mix</td>\n",
       "      <td>6/1/06</td>\n",
       "      <td>6/1/06</td>\n",
       "      <td>11/29/06</td>\n",
       "      <td>Red</td>\n",
       "      <td>short</td>\n",
       "      <td>medium</td>\n",
       "      <td>yes</td>\n",
       "      <td>NaN</td>\n",
       "      <td>yes</td>\n",
       "      <td>yes</td>\n",
       "      <td>yes</td>\n",
       "      <td>yes</td>\n",
       "      <td>no</td>\n",
       "      <td>both flat and garden</td>\n",
       "    </tr>\n",
       "    <tr>\n",
       "      <th>2936</th>\n",
       "      <td>248</td>\n",
       "      <td>Kedves</td>\n",
       "      <td>16.08</td>\n",
       "      <td>male</td>\n",
       "      <td>German Shepherd Dog, Hound Mix</td>\n",
       "      <td>4/2/05</td>\n",
       "      <td>4/2/05</td>\n",
       "      <td>6/30/05</td>\n",
       "      <td>Sable</td>\n",
       "      <td>short</td>\n",
       "      <td>medium</td>\n",
       "      <td>yes</td>\n",
       "      <td>NaN</td>\n",
       "      <td>yes</td>\n",
       "      <td>NaN</td>\n",
       "      <td>yes</td>\n",
       "      <td>yes</td>\n",
       "      <td>NaN</td>\n",
       "      <td>both flat and garden</td>\n",
       "    </tr>\n",
       "  </tbody>\n",
       "</table>\n",
       "<p>284 rows × 19 columns</p>\n",
       "</div>"
      ],
      "text/plain": [
       "         ID               name    age     sex  \\\n",
       "27     4488            Kehlani   0.42  female   \n",
       "63     1787     Inárcsi Hektor   0.25    male   \n",
       "100   23736              Csöpi   9.33  female   \n",
       "101   23730               Suzi  13.08  female   \n",
       "115    1778  Alsónémedi Sidney   0.42  female   \n",
       "...     ...                ...    ...     ...   \n",
       "2915     20                Lea  13.17  female   \n",
       "2917     14              Kormi  17.67    male   \n",
       "2918      6               Fifi  13.67  female   \n",
       "2925    427               Yuki  13.75    male   \n",
       "2936    248             Kedves  16.08    male   \n",
       "\n",
       "                                               breed date_found  \\\n",
       "27                           German Shepherd Dog Mix    12/1/19   \n",
       "63    German Shepherd Dog, Staffordshire Terrier Mix   11/24/19   \n",
       "100                          German Shepherd Dog Mix   11/14/19   \n",
       "101                          German Shepherd Dog Mix   11/13/19   \n",
       "115               Dachshund, German Shepherd Dog Mix   11/11/19   \n",
       "...                                              ...        ...   \n",
       "2915     English Bloodhound, German Shepherd Dog Mix    12/1/06   \n",
       "2917                         German Shepherd Dog Mix     4/1/03   \n",
       "2918                         German Shepherd Dog Mix     4/1/07   \n",
       "2925                         German Shepherd Dog Mix     6/1/06   \n",
       "2936                  German Shepherd Dog, Hound Mix     4/2/05   \n",
       "\n",
       "     adoptable_from    posted            color    coat    size neutered  \\\n",
       "27          12/1/19   12/7/19  Black And Brown   short  medium      NaN   \n",
       "63         11/24/19  11/25/19     Yellow-Brown   short  medium       no   \n",
       "100        11/29/19  11/14/19      Saddle Back  medium   large       no   \n",
       "101        11/28/19  11/14/19            Sable  medium   large      yes   \n",
       "115        11/11/19  11/12/19            Black   short   small       no   \n",
       "...             ...       ...              ...     ...     ...      ...   \n",
       "2915         5/1/07   7/23/07         Tricolor   short  medium      yes   \n",
       "2917         4/1/04   7/23/07            Black   short  medium       no   \n",
       "2918         4/1/07   5/21/07            Sable   short  medium      yes   \n",
       "2925         6/1/06  11/29/06              Red   short  medium      yes   \n",
       "2936         4/2/05   6/30/05            Sable   short  medium      yes   \n",
       "\n",
       "     housebroken likes_people likes_children get_along_males  \\\n",
       "27           NaN          yes            NaN             NaN   \n",
       "63           NaN          yes            yes             yes   \n",
       "100          NaN          NaN            NaN             NaN   \n",
       "101          NaN          NaN            NaN             NaN   \n",
       "115          NaN          yes            yes             yes   \n",
       "...          ...          ...            ...             ...   \n",
       "2915         NaN          yes            yes             yes   \n",
       "2917         NaN          yes            yes             yes   \n",
       "2918         NaN          yes            yes             yes   \n",
       "2925         NaN          yes            yes             yes   \n",
       "2936         NaN          yes            NaN             yes   \n",
       "\n",
       "     get_along_females get_along_cats               keep_in  \n",
       "27                 NaN            NaN  both flat and garden  \n",
       "63                 yes            yes  both flat and garden  \n",
       "100                NaN            NaN                   NaN  \n",
       "101                NaN            NaN                   NaN  \n",
       "115                yes            yes  both flat and garden  \n",
       "...                ...            ...                   ...  \n",
       "2915               yes            NaN  both flat and garden  \n",
       "2917               yes            NaN                garden  \n",
       "2918               yes            NaN                   NaN  \n",
       "2925               yes             no  both flat and garden  \n",
       "2936               yes            NaN  both flat and garden  \n",
       "\n",
       "[284 rows x 19 columns]"
      ]
     },
     "execution_count": 69,
     "metadata": {},
     "output_type": "execute_result"
    }
   ],
   "source": [
    "new_dogsdf[new_dogsdf[\"breed\"].str.contains(\"Shepherd\", regex=True)]"
   ]
  },
  {
   "cell_type": "markdown",
   "id": "33e7630e",
   "metadata": {},
   "source": [
    "### Filtering using `loc` / `iloc` accessors"
   ]
  },
  {
   "cell_type": "code",
   "execution_count": 70,
   "id": "bcd55e2c",
   "metadata": {},
   "outputs": [],
   "source": [
    "new_dogsdf[\"size\"] = new_dogsdf[\"size\"].astype(\"category\")"
   ]
  },
  {
   "cell_type": "code",
   "execution_count": 71,
   "id": "928780bb",
   "metadata": {},
   "outputs": [
    {
     "data": {
      "text/plain": [
       "size\n",
       "large     112\n",
       "medium    167\n",
       "small       5\n",
       "Name: count, dtype: int64"
      ]
     },
     "execution_count": 71,
     "metadata": {},
     "output_type": "execute_result"
    }
   ],
   "source": [
    "new_dogsdf.loc[new_dogsdf[\"breed\"].str.contains(\"Shepherd\",regex=False),\"size\"].value_counts(sort=False)"
   ]
  },
  {
   "cell_type": "code",
   "execution_count": 72,
   "id": "21592ac3",
   "metadata": {},
   "outputs": [
    {
     "data": {
      "text/plain": [
       "'short'"
      ]
     },
     "execution_count": 72,
     "metadata": {},
     "output_type": "execute_result"
    }
   ],
   "source": [
    "new_dogsdf.head()\n",
    "new_dogsdf.loc[1,\"coat\"]"
   ]
  },
  {
   "cell_type": "markdown",
   "id": "215dad75",
   "metadata": {},
   "source": [
    "# Visualizing categorical data\n",
    "\n",
    "Using seaborn to create visualizations\n",
    "\n",
    "Loading the dataset --> inspecting the dataframe --> identifying columns that can be set to category dtype"
   ]
  },
  {
   "cell_type": "code",
   "execution_count": 73,
   "id": "dd206169",
   "metadata": {},
   "outputs": [
    {
     "name": "stdout",
     "output_type": "stream",
     "text": [
      "<class 'pandas.core.frame.DataFrame'>\n",
      "RangeIndex: 504 entries, 0 to 503\n",
      "Data columns (total 20 columns):\n",
      " #   Column             Non-Null Count  Dtype \n",
      "---  ------             --------------  ----- \n",
      " 0   User country       504 non-null    object\n",
      " 1   Nr. reviews        504 non-null    int64 \n",
      " 2   Nr. hotel reviews  504 non-null    int64 \n",
      " 3   Helpful votes      504 non-null    int64 \n",
      " 4   Score              504 non-null    int64 \n",
      " 5   Period of stay     504 non-null    object\n",
      " 6   Traveler type      504 non-null    object\n",
      " 7   Pool               504 non-null    object\n",
      " 8   Gym                504 non-null    object\n",
      " 9   Tennis court       504 non-null    object\n",
      " 10  Spa                504 non-null    object\n",
      " 11  Casino             504 non-null    object\n",
      " 12  Free internet      504 non-null    object\n",
      " 13  Hotel name         504 non-null    object\n",
      " 14  Hotel stars        504 non-null    int64 \n",
      " 15  Nr. rooms          504 non-null    int64 \n",
      " 16  User continent     504 non-null    object\n",
      " 17  Member years       504 non-null    int64 \n",
      " 18  Review month       504 non-null    object\n",
      " 19  Review weekday     504 non-null    object\n",
      "dtypes: int64(7), object(13)\n",
      "memory usage: 78.9+ KB\n"
     ]
    }
   ],
   "source": [
    "hotels = pd.read_csv(\"./lasvegas_tripadvisor.csv\")\n",
    "hotels.info()"
   ]
  },
  {
   "cell_type": "code",
   "execution_count": 74,
   "id": "90462714",
   "metadata": {},
   "outputs": [
    {
     "data": {
      "text/plain": [
       "Score\n",
       "5    227\n",
       "4    164\n",
       "3     72\n",
       "2     30\n",
       "1     11\n",
       "Name: count, dtype: int64"
      ]
     },
     "execution_count": 74,
     "metadata": {},
     "output_type": "execute_result"
    }
   ],
   "source": [
    "hotels[\"Score\"].value_counts()"
   ]
  },
  {
   "cell_type": "code",
   "execution_count": 75,
   "id": "22a6f888",
   "metadata": {},
   "outputs": [
    {
     "data": {
      "text/plain": [
       "Pool\n",
       "YES    480\n",
       "NO      24\n",
       "Name: count, dtype: int64"
      ]
     },
     "execution_count": 75,
     "metadata": {},
     "output_type": "execute_result"
    }
   ],
   "source": [
    "hotels[\"Pool\"].value_counts()"
   ]
  },
  {
   "cell_type": "code",
   "execution_count": 76,
   "id": "22fa1d5c",
   "metadata": {},
   "outputs": [
    {
     "data": {
      "image/png": "[encoded data removed]",
      "text/plain": [
       "<Figure size 500x500 with 1 Axes>"
      ]
     },
     "metadata": {},
     "output_type": "display_data"
    }
   ],
   "source": [
    "sns.catplot(data=hotels, x=\"Pool\", y=\"Score\", kind=\"box\" ,hue=\"Pool\")\n",
    "plt.title(\"Score based on whether Pool presence\")\n",
    "plt.show()"
   ]
  },
  {
   "cell_type": "markdown",
   "id": "7f45e407",
   "metadata": {},
   "source": [
    ">It appers that a couple of guests that stayed at hotels with pools did not like the experience"
   ]
  },
  {
   "cell_type": "markdown",
   "id": "42d9e017",
   "metadata": {},
   "source": [
    "### TEST QUESTION --\n",
    "When people leave reviews for products, services, or destinations, people reading those reviews can sometimes mark the original review as helpful.<br>\n",
    "If enough people mark the review as helpful, future readers of these reviews might be more likely to trust the content of the original review.\n",
    "\n",
    "Using the reviews dataset, explore the continuous variable \"Helpful votes\" across the different categories found in the \"Traveler type\" variable.\n",
    "\n",
    "\n",
    "- Set the font size of your graphic to be 1.25.\n",
    "- Set the background of the graphic to be \"darkgrid\".\n",
    "- Create a boxplot using catplot() with \"Helpful votes\" as the continuous variable split across each \"Traveler type\". Make sure that you are using the reviews dataset."
   ]
  },
  {
   "cell_type": "code",
   "execution_count": 77,
   "id": "799a3035",
   "metadata": {},
   "outputs": [
    {
     "data": {
      "image/png": "[encoded data removed]",
      "text/plain": [
       "<Figure size 500x500 with 1 Axes>"
      ]
     },
     "metadata": {},
     "output_type": "display_data"
    }
   ],
   "source": [
    "sns.set_theme(font_scale=1.25)\n",
    "sns.set_style(\"whitegrid\")\n",
    "sns.catplot(data=hotels , x=\"Traveler type\" , y=\"Helpful votes\", kind=\"box\", hue=\"Traveler type\")\n",
    "\n",
    "plt.show()"
   ]
  },
  {
   "cell_type": "markdown",
   "id": "c9dc1553",
   "metadata": {},
   "source": [
    ">All traveler types have similar central tendencies - Median of all helpful votes nearly along similar counts (about 25)\n",
    "\n",
    ">Business & couple travellers have left the most helpful reviews - These outliers represent reviews that received exceptionally high numbers of helpful votes.<br>\n",
    "Business travelers have some of the highest individual outliers, with several reviews receiving 300+ helpful votes\n",
    "\n",
    ">**Overall Conclusion:** The data suggests that while most reviews across all traveler types receive similar levels of community appreciation (as shown by similar medians), certain reviews from Business, Friends, and Couples travelers occasionally achieve viral-like status with exceptionally high helpful vote counts.<br>\n",
    "This could indicate that these traveler types sometimes produce content that resonates more broadly with the reviewing community, possibly due to more detailed insights, unique perspectives, or better writing quality."
   ]
  },
  {
   "cell_type": "markdown",
   "id": "d9fabdaf",
   "metadata": {},
   "source": [
    "### Seaborn Bar plots"
   ]
  },
  {
   "cell_type": "code",
   "execution_count": 78,
   "id": "f43d238d",
   "metadata": {},
   "outputs": [
    {
     "data": {
      "image/png": "[encoded data removed]",
      "text/plain": [
       "<Figure size 640x480 with 1 Axes>"
      ]
     },
     "metadata": {},
     "output_type": "display_data"
    }
   ],
   "source": [
    "sns.set_style('darkgrid')\n",
    "hotels[\"Traveler type\"].value_counts().plot(kind='bar')\n",
    "plt.title(\"Traveler type by count\")\n",
    "plt.show()"
   ]
  },
  {
   "cell_type": "markdown",
   "id": "7ecc5f76",
   "metadata": {},
   "source": [
    "However bar plots in seaborn are applied with a different intent: summarize a numerical variable across different levels of a categorical variable.\n",
    "\n",
    "Those black ticks on top of each count represents range of the 95% confidence interval -- ie. the range extent of values where the true population mean is likely to fall 95% of the time.\n",
    "\n",
    "A shorter confidence interval indicates greater certainty about the mean & vice-versa"
   ]
  },
  {
   "cell_type": "code",
   "execution_count": 79,
   "id": "c65c0a95",
   "metadata": {},
   "outputs": [
    {
     "data": {
      "image/png": "[encoded data removed]",
      "text/plain": [
       "<Figure size 500x500 with 1 Axes>"
      ]
     },
     "metadata": {},
     "output_type": "display_data"
    }
   ],
   "source": [
    "sns.catplot(data=hotels, x=\"Traveler type\", y='Score', kind='bar' ,hue=\"Traveler type\", )\n",
    "plt.title(\"Average of scores given by each \\ncategory of traveler\")\n",
    "plt.tight_layout()\n",
    "plt.show()"
   ]
  },
  {
   "cell_type": "markdown",
   "id": "57dfac64",
   "metadata": {},
   "source": [
    "### Effect of setting `category` dtype on a column\n",
    "How it affects visualization when a column is set to category dtype"
   ]
  },
  {
   "cell_type": "code",
   "execution_count": 80,
   "id": "c56d2cb8",
   "metadata": {},
   "outputs": [
    {
     "data": {
      "text/plain": [
       "Index(['Business', 'Couples', 'Families', 'Friends', 'Solo'], dtype='object')"
      ]
     },
     "execution_count": 80,
     "metadata": {},
     "output_type": "execute_result"
    }
   ],
   "source": [
    "# Converting Traveler type to category dtype\n",
    "hotels[\"Traveler type\"] = hotels[\"Traveler type\"].astype(\"category\")\n",
    "\n",
    "# Checking the categories for this column\n",
    "hotels[\"Traveler type\"].cat.categories"
   ]
  },
  {
   "cell_type": "markdown",
   "id": "21f33b66",
   "metadata": {},
   "source": [
    "Plotting again after declaring the category dtype.\n",
    "\n",
    "> Notice the order of the categorical variables is now as per arrangement of the category"
   ]
  },
  {
   "cell_type": "code",
   "execution_count": 81,
   "id": "c24df677",
   "metadata": {},
   "outputs": [
    {
     "data": {
      "image/png": "[encoded data removed]",
      "text/plain": [
       "<Figure size 500x500 with 1 Axes>"
      ]
     },
     "metadata": {},
     "output_type": "display_data"
    }
   ],
   "source": [
    "sns.catplot(data=hotels, x=\"Traveler type\", y='Score', kind='bar' ,hue=\"Traveler type\", )\n",
    "plt.title(\"Average scores given by each \\ncategory of traveler (category dtype)\")\n",
    "plt.tight_layout()\n",
    "plt.show()"
   ]
  },
  {
   "cell_type": "markdown",
   "id": "bb9e2086",
   "metadata": {},
   "source": [
    "### Use of the `hue` parameter\n",
    "\n",
    "Helps introduce another categorical variable into the plot that adds a layer of distinction to the visual"
   ]
  },
  {
   "cell_type": "code",
   "execution_count": 82,
   "id": "6c795539",
   "metadata": {},
   "outputs": [
    {
     "data": {
      "image/png": "[encoded data removed]",
      "text/plain": [
       "<Figure size 628.153x500 with 1 Axes>"
      ]
     },
     "metadata": {},
     "output_type": "display_data"
    }
   ],
   "source": [
    "sns.catplot(data=hotels, x=\"Traveler type\", y='Score', kind='bar' ,hue=\"Tennis court\", )\n",
    "plt.title(\"Average of scores given by each \\ncategory & Tennis court presence\")\n",
    "plt.show()"
   ]
  },
  {
   "cell_type": "markdown",
   "id": "18f4963e",
   "metadata": {},
   "source": [
    ">Hotels with tennis courts recieved good ratings from all Traverler tyeps except Business class who seemd to favour them relatively less\n",
    "\n",
    "### TEST QUESTOINS :\n",
    "Las Vegas hotels are seeing large variations in how helpful reviews appear to other people. The owners of these hotels are curious if there are times of the year when reviews have been more helpful to their potential guests.\n",
    "\n",
    "Create a bar plot of the average number of helpful votes per review across the categorical variable \"Period of stay\""
   ]
  },
  {
   "cell_type": "code",
   "execution_count": 83,
   "id": "e2d443ae",
   "metadata": {},
   "outputs": [
    {
     "data": {
      "text/plain": [
       "Period of stay\n",
       "Mar-May    128\n",
       "Jun-Aug    126\n",
       "Sep-Nov    126\n",
       "Dec-Feb    124\n",
       "Name: count, dtype: int64"
      ]
     },
     "execution_count": 83,
     "metadata": {},
     "output_type": "execute_result"
    }
   ],
   "source": [
    "hotels[\"Period of stay\"].value_counts()"
   ]
  },
  {
   "cell_type": "code",
   "execution_count": 84,
   "id": "91c6b6d0",
   "metadata": {},
   "outputs": [
    {
     "data": {
      "image/png": "[encoded data removed]",
      "text/plain": [
       "<Figure size 500x500 with 1 Axes>"
      ]
     },
     "metadata": {},
     "output_type": "display_data"
    }
   ],
   "source": [
    "sns.catplot(data=hotels, x=\"Period of stay\" , y='Helpful votes', kind='bar', hue=\"Period of stay\")\n",
    "\n",
    "plt.title(\"Average of Helpful votes vs Periods of stay\")\n",
    "plt.show()"
   ]
  },
  {
   "cell_type": "code",
   "execution_count": 85,
   "id": "966f4091",
   "metadata": {},
   "outputs": [
    {
     "data": {
      "text/plain": [
       "Period of stay\n",
       "Dec-Feb    36.427419\n",
       "Jun-Aug    31.579365\n",
       "Mar-May    32.820312\n",
       "Sep-Nov    26.238095\n",
       "Name: Helpful votes, dtype: float64"
      ]
     },
     "execution_count": 85,
     "metadata": {},
     "output_type": "execute_result"
    }
   ],
   "source": [
    "# Arriving at same calculation by groupby\n",
    "hotels.groupby(\"Period of stay\")[\"Helpful votes\"].mean()"
   ]
  },
  {
   "cell_type": "markdown",
   "id": "583ef876",
   "metadata": {},
   "source": [
    ">Seems most detailed & helpful reviews are from December-Feb period while those from Sep-Nov period are least helpful."
   ]
  },
  {
   "cell_type": "code",
   "execution_count": 86,
   "id": "cb5d0a45",
   "metadata": {},
   "outputs": [],
   "source": [
    "reviews = pd.read_csv(\"./lasvegas_tripadvisor.csv\")"
   ]
  },
  {
   "cell_type": "code",
   "execution_count": 87,
   "id": "feda5f7a",
   "metadata": {},
   "outputs": [],
   "source": [
    "reviews[\"User continent\"] = reviews[\"User continent\"].astype('category')"
   ]
  },
  {
   "cell_type": "code",
   "execution_count": 88,
   "id": "aa3b72d7",
   "metadata": {},
   "outputs": [
    {
     "data": {
      "text/plain": [
       "User continent\n",
       "North America    295\n",
       "Europe           118\n",
       "Oceania           41\n",
       "Asia              36\n",
       "Africa             7\n",
       "South America      7\n",
       "Name: count, dtype: int64"
      ]
     },
     "execution_count": 88,
     "metadata": {},
     "output_type": "execute_result"
    }
   ],
   "source": [
    "reviews[\"User continent\"].value_counts()\n"
   ]
  },
  {
   "cell_type": "code",
   "execution_count": 89,
   "id": "e4ac4e58",
   "metadata": {},
   "outputs": [],
   "source": [
    "updated_categories = list(reviews[\"User continent\"].value_counts().index)"
   ]
  },
  {
   "cell_type": "code",
   "execution_count": 90,
   "id": "7d02f1fe",
   "metadata": {},
   "outputs": [],
   "source": [
    "reviews[\"User continent\"] = reviews[\"User continent\"].cat.reorder_categories(updated_categories)"
   ]
  },
  {
   "cell_type": "code",
   "execution_count": 91,
   "id": "a4f68319",
   "metadata": {},
   "outputs": [
    {
     "data": {
      "image/png": "[encoded data removed]",
      "text/plain": [
       "<Figure size 500x500 with 1 Axes>"
      ]
     },
     "metadata": {},
     "output_type": "display_data"
    }
   ],
   "source": [
    "sns.catplot(x=\"User continent\", y=\"Score\", data=reviews, kind=\"bar\", hue=\"User continent\")\n",
    "\n",
    "plt.title(\"Average Scores vs Users by continent\")\n",
    "plt.show()"
   ]
  },
  {
   "cell_type": "markdown",
   "id": "378a2fcb",
   "metadata": {},
   "source": [
    ">X-axis in above plot is re-odered based on user concentration. The dataset has most users from NAR , Europe & Oceania<br>\n",
    "Confidence intervals are smaller for continents with higher user count, as the data is less varying to calculate the mean.\n",
    "\n",
    "_______\n",
    "\n",
    "Q - Aggregating information across multiple categories is often necessary to help stakeholders better understand their data.<br>\n",
    "To prepare for building a dashboard that allows users to select up to 2 variables ,test visualizations that use different combinations of categorical variables using a bar plot."
   ]
  },
  {
   "cell_type": "code",
   "execution_count": 92,
   "id": "0e9710dc",
   "metadata": {},
   "outputs": [
    {
     "data": {
      "image/png": "[encoded data removed]",
      "text/plain": [
       "<Figure size 633.903x500 with 1 Axes>"
      ]
     },
     "metadata": {},
     "output_type": "display_data"
    }
   ],
   "source": [
    "# Update the plot so that \"Casino\" (along the x-axis) and \"Free internet\" (to color the bars) are used to split the data.\n",
    "sns.catplot(data=reviews, x=\"Casino\", y=\"Score\", hue=\"Free internet\", kind=\"bar\")\n",
    "plt.title(\"Average Score by Casino presence & free Wifi\")\n",
    "plt.show()"
   ]
  },
  {
   "cell_type": "code",
   "execution_count": 93,
   "id": "ecd7a4c0",
   "metadata": {},
   "outputs": [
    {
     "data": {
      "image/png": "[encoded data removed]",
      "text/plain": [
       "<Figure size 607.125x500 with 1 Axes>"
      ]
     },
     "metadata": {},
     "output_type": "display_data"
    }
   ],
   "source": [
    "# Switching the hue & x-axis variables\n",
    "sns.catplot(data=reviews, x=\"Free internet\", y=\"Score\", hue=\"Casino\", kind=\"bar\")\n",
    "plt.title(\"Average Score by free Wifi & Casino presense - pt2\")\n",
    "plt.show()"
   ]
  },
  {
   "cell_type": "code",
   "execution_count": 94,
   "id": "697e4405",
   "metadata": {},
   "outputs": [
    {
     "data": {
      "image/png": "[encoded data removed]",
      "text/plain": [
       "<Figure size 585.375x500 with 1 Axes>"
      ]
     },
     "metadata": {},
     "output_type": "display_data"
    }
   ],
   "source": [
    "# Switching the hue & x-axis variables\n",
    "sns.set(font_scale=1)\n",
    "sns.catplot(data=reviews, x=\"User continent\", y=\"Score\", hue=\"Casino\", kind=\"bar\")\n",
    "plt.title(\"Average Score by User continent & Casino presence - pt2\")\n",
    "plt.show()"
   ]
  },
  {
   "cell_type": "markdown",
   "id": "a6e67419",
   "metadata": {},
   "source": [
    ">Users from South America & Europe greatly appreciate having a casino at their hotel stays.<br>\n",
    "Users in Asia seem to not prefer having a casino at the hotel premises. Opinions of users from Africa are mostly positive but not quite reliable .\n",
    "\n",
    "_____\n",
    "### The Point plot\n",
    "It is quite similar to a bar plot -- this visualization also plots mean (default) of the y-axis variable against the categories on x-axis.<br> Where it is different is the intent of the plot -- point plot tries to bring attention to the relative difference of the mean values amongst categories."
   ]
  },
  {
   "cell_type": "code",
   "execution_count": 95,
   "id": "4ec6de9f",
   "metadata": {},
   "outputs": [
    {
     "data": {
      "image/png": "[encoded data removed]",
      "text/plain": [
       "<Figure size 640x480 with 2 Axes>"
      ]
     },
     "metadata": {},
     "output_type": "display_data"
    }
   ],
   "source": [
    "fig,ax = plt.subplots(nrows=1,ncols=2)\n",
    "\n",
    "sns.pointplot(data=reviews, x=\"Pool\" , y=\"Score\",ax=ax[0])\n",
    "ax[0].set_title(\"Point plot\")\n",
    "\n",
    "sns.barplot(data=reviews, x=\"Pool\" , y=\"Score\",  ax=ax[1])\n",
    "ax[1].set_title(\"Bar plot\")\n",
    "\n",
    "plt.suptitle(\"Mean scores by Pool presence\")\n",
    "plt.tight_layout()\n",
    "plt.show()"
   ]
  },
  {
   "cell_type": "markdown",
   "id": "e79109e1",
   "metadata": {},
   "source": [
    "The points show means of the Score (y-axis) for each of the categories (X-axis). "
   ]
  },
  {
   "cell_type": "code",
   "execution_count": 96,
   "id": "c69e17d5",
   "metadata": {},
   "outputs": [
    {
     "data": {
      "text/plain": [
       "Pool\n",
       "NO     3.208333\n",
       "YES    4.168750\n",
       "Name: Score, dtype: float64"
      ]
     },
     "execution_count": 96,
     "metadata": {},
     "output_type": "execute_result"
    }
   ],
   "source": [
    "# Proving with a groupby\n",
    "reviews.groupby(\"Pool\")[\"Score\"].mean()"
   ]
  },
  {
   "cell_type": "code",
   "execution_count": 97,
   "id": "a4200448",
   "metadata": {},
   "outputs": [],
   "source": [
    "# Next challenge -- figure out how to show two plots side-by-side\n",
    "# Using only catplots"
   ]
  },
  {
   "cell_type": "code",
   "execution_count": 98,
   "id": "13066e91",
   "metadata": {},
   "outputs": [
    {
     "data": {
      "image/png": "[encoded data removed]",
      "text/plain": [
       "<Figure size 601.847x500 with 1 Axes>"
      ]
     },
     "metadata": {},
     "output_type": "display_data"
    }
   ],
   "source": [
    "# dodge parameter avoids overlap of the two point plots\n",
    "sns.catplot(kind=\"point\", data=reviews, x=\"Spa\", y=\"Score\", hue=\"Tennis court\", dodge=True)\n",
    "\n",
    "plt.show()"
   ]
  },
  {
   "cell_type": "markdown",
   "id": "e2225987",
   "metadata": {},
   "source": [
    ">Having a tennis court without spa makes a big difference to the average score as compared to hotels with a spa and no tennis court"
   ]
  },
  {
   "cell_type": "code",
   "execution_count": 99,
   "id": "35757cb7",
   "metadata": {},
   "outputs": [
    {
     "name": "stderr",
     "output_type": "stream",
     "text": [
      "C:\\Users\\abhijeet.bhambere\\AppData\\Local\\Temp\\ipykernel_20380\\450339355.py:2: UserWarning: \n",
      "\n",
      "The `join` parameter is deprecated and will be removed in v0.15.0. You can remove the line between points with `linestyle='none'`.\n",
      "\n",
      "  sns.catplot(kind=\"point\", data=reviews, x=\"Spa\", y=\"Score\", hue=\"Tennis court\", dodge=True, join=False)\n"
     ]
    },
    {
     "data": {
      "image/png": "[encoded data removed]",
      "text/plain": [
       "<Figure size 601.847x500 with 1 Axes>"
      ]
     },
     "metadata": {},
     "output_type": "display_data"
    }
   ],
   "source": [
    "# dodge parameter avoids overlap of the two point plots\n",
    "sns.catplot(kind=\"point\", data=reviews, x=\"Spa\", y=\"Score\", hue=\"Tennis court\", dodge=True, join=False)\n",
    "\n",
    "plt.show()"
   ]
  },
  {
   "cell_type": "code",
   "execution_count": 100,
   "id": "a9a66d08",
   "metadata": {},
   "outputs": [
    {
     "data": {
      "text/plain": [
       "Spa  Tennis court\n",
       "NO   NO              3.947917\n",
       "     YES             4.375000\n",
       "YES  NO              4.131944\n",
       "     YES             4.208333\n",
       "Name: Score, dtype: float64"
      ]
     },
     "execution_count": 100,
     "metadata": {},
     "output_type": "execute_result"
    }
   ],
   "source": [
    "reviews.groupby([\"Spa\",\"Tennis court\"])[\"Score\"].mean()"
   ]
  },
  {
   "cell_type": "markdown",
   "id": "f23e09c7",
   "metadata": {},
   "source": [
    "### Countplot\n",
    "Instead of aggregating the y-axis variable, the countplot simply counts the no. of occurrences of the y-axis variable for each category  (i.e. x-axis variable)."
   ]
  },
  {
   "cell_type": "code",
   "execution_count": 101,
   "id": "2c4621ed",
   "metadata": {},
   "outputs": [
    {
     "data": {
      "image/png": "[encoded data removed]",
      "text/plain": [
       "<Figure size 585.375x500 with 1 Axes>"
      ]
     },
     "metadata": {},
     "output_type": "display_data"
    }
   ],
   "source": [
    "# The plot simply counts the no. of occurrences of the 'x' or 'hue' parameters\n",
    "#  \n",
    "sns.catplot(data=reviews, x=\"Tennis court\" , kind='count', hue=\"Spa\")\n",
    "plt.title(\"Counts no. of records containing 'Tennis court' and 'Spa\")\n",
    "\n",
    "plt.show()"
   ]
  },
  {
   "cell_type": "markdown",
   "id": "5cb2d19a",
   "metadata": {},
   "source": [
    "____\n",
    "### TEST QUESTION\n",
    "Q - Create a visualization that shows the number of reviews, \"`Nr. reviews`\", which is the number of reviews a reviewer has previously written, across a hotel's star rating, \"`Hotel stars`\" and also divide it based on whether or not a hotel containsa pool. \n",
    "\n",
    "Since the number of reviews is numerical, you have decided to use a point plot to show the mean of the data across the categories."
   ]
  },
  {
   "cell_type": "code",
   "execution_count": 102,
   "id": "bc615a69",
   "metadata": {},
   "outputs": [
    {
     "data": {
      "image/png": "[encoded data removed]",
      "text/plain": [
       "<Figure size 585.375x500 with 1 Axes>"
      ]
     },
     "metadata": {},
     "output_type": "display_data"
    }
   ],
   "source": [
    "sns.catplot(data=reviews, x=\"Hotel stars\", y=\"Nr. reviews\",hue=\"Pool\",dodge=True, kind='point')\n",
    "\n",
    "plt.show()"
   ]
  },
  {
   "cell_type": "markdown",
   "id": "e2c06417",
   "metadata": {},
   "source": [
    ">Its observed dataset contains fewer reviews in general for non-pool-containing 4 & 5-star hotels.<br>\n",
    "Also, more luxurious 5-star hotels have lesser no. of reviews by reviewers\n",
    "\n",
    "______\n",
    "### TEST QUESTION\n",
    "Q - Although \"`Score`\" has been used as a numerical variable in the past, it can be used as a categorical variable given that it has five unique values that are ordered from worst to best.\n",
    "\n",
    "visualize the number of reviews by their \"Score\""
   ]
  },
  {
   "cell_type": "code",
   "execution_count": 103,
   "id": "10a86fce",
   "metadata": {},
   "outputs": [
    {
     "data": {
      "image/png": "[encoded data removed]",
      "text/plain": [
       "<Figure size 617.375x500 with 1 Axes>"
      ]
     },
     "metadata": {},
     "output_type": "display_data"
    }
   ],
   "source": [
    "sns.catplot(data=reviews, x=\"Score\", kind='count', hue=\"Traveler type\")\n",
    "\n",
    "plt.show()"
   ]
  },
  {
   "cell_type": "markdown",
   "id": "1c61f948",
   "metadata": {},
   "source": [
    ">Couples are the highest no. of reviewers among all traveler types. The dataset seems to contain quality hotel properties since the no.  of hotels recieving low scores is fairly low. <br>\n",
    "A couples traveler type with a 5-score is THE most occurring value in the dataset.\n",
    "\n",
    "### Additional catplot options\n",
    "Using the facetgrid-type output of `catplot` to get better control of the grid & axes properties.\n",
    "\n",
    "The rows & columns parameters be used to create multiple plots in the same figure. This helps in a way to zoom in on each category, allowing more detailed observation rathen than 'big picture'  "
   ]
  },
  {
   "cell_type": "code",
   "execution_count": 104,
   "id": "b13484d1",
   "metadata": {},
   "outputs": [
    {
     "data": {
      "image/png": "[encoded data removed]",
      "text/plain": [
       "<Figure size 654x500 with 1 Axes>"
      ]
     },
     "metadata": {},
     "output_type": "display_data"
    }
   ],
   "source": [
    "# Straight-forward plotting categories - creates a cluttered plot\n",
    "sns.catplot(data=reviews, x=\"Traveler type\", kind=\"count\", hue=\"User continent\")\n",
    "plt.show()"
   ]
  },
  {
   "cell_type": "markdown",
   "id": "678d0b49",
   "metadata": {},
   "source": [
    "Now using more detailed plot for each continent"
   ]
  },
  {
   "cell_type": "code",
   "execution_count": 105,
   "id": "b27ccae1",
   "metadata": {},
   "outputs": [
    {
     "data": {
      "text/plain": [
       "<seaborn.axisgrid.FacetGrid at 0x1da929bf250>"
      ]
     },
     "execution_count": 105,
     "metadata": {},
     "output_type": "execute_result"
    },
    {
     "data": {
      "image/png": "[encoded data removed]",
      "text/plain": [
       "<Figure size 1617.37x1000 with 6 Axes>"
      ]
     },
     "metadata": {},
     "output_type": "display_data"
    }
   ],
   "source": [
    "sns.catplot(data=reviews, x=\"Traveler type\", \n",
    "            kind=\"count\",\n",
    "            hue=\"Traveler type\",\n",
    "            col=\"User continent\",\n",
    "            col_wrap=3,\n",
    "            legend=True\n",
    "            )"
   ]
  },
  {
   "cell_type": "markdown",
   "id": "5d25220e",
   "metadata": {},
   "source": [
    "Using matplotlib objets to modify axes, titles , ticklabel properties"
   ]
  },
  {
   "cell_type": "code",
   "execution_count": 106,
   "id": "82d6764c",
   "metadata": {},
   "outputs": [
    {
     "data": {
      "image/png": "[encoded data removed]",
      "text/plain": [
       "<Figure size 1617.37x1000 with 6 Axes>"
      ]
     },
     "metadata": {},
     "output_type": "display_data"
    }
   ],
   "source": [
    "ax = sns.catplot(data=reviews, x=\"Traveler type\",kind=\"count\",hue=\"Traveler type\",col=\"User continent\",col_wrap=3, legend=True)\n",
    "ax.fig.suptitle(\"Hotel Score by Travel type & User Continent\")\n",
    "ax.set_axis_labels(\"Traveler type\", \"No. of reviews\")\n",
    "plt.subplots_adjust(top=0.9)\n",
    "plt.show()"
   ]
  },
  {
   "cell_type": "markdown",
   "id": "03a162fa",
   "metadata": {},
   "source": [
    ">Except for Asia - where majority of reviewers belonged to Families travel type, majority of reviews for NAR, Europe & Oceania are from people belonging to Couples traveler type.<br>\n",
    "\n"
   ]
  },
  {
   "cell_type": "code",
   "execution_count": 107,
   "id": "3e58da45",
   "metadata": {},
   "outputs": [
    {
     "data": {
      "text/plain": [
       "User continent  Traveler type\n",
       "North America   Couples          125\n",
       "                Families          61\n",
       "                Business          50\n",
       "                Friends           46\n",
       "                Solo              13\n",
       "Europe          Couples           56\n",
       "                Friends           23\n",
       "                Families          22\n",
       "                Business          12\n",
       "                Solo               5\n",
       "Oceania         Couples           21\n",
       "                Families          11\n",
       "                Friends            6\n",
       "                Business           2\n",
       "                Solo               1\n",
       "Asia            Families          11\n",
       "                Couples            9\n",
       "                Business           8\n",
       "                Friends            4\n",
       "                Solo               4\n",
       "Africa          Business           2\n",
       "                Families           2\n",
       "                Friends            2\n",
       "                Solo               1\n",
       "                Couples            0\n",
       "South America   Couples            3\n",
       "                Families           3\n",
       "                Friends            1\n",
       "                Business           0\n",
       "                Solo               0\n",
       "Name: count, dtype: int64"
      ]
     },
     "execution_count": 107,
     "metadata": {},
     "output_type": "execute_result"
    }
   ],
   "source": [
    "# Arriving same results using groupby\n",
    "reviews.groupby([\"User continent\"],observed=False)[\"Traveler type\"].value_counts()\n"
   ]
  },
  {
   "cell_type": "code",
   "execution_count": 108,
   "id": "b55f1c3c",
   "metadata": {},
   "outputs": [
    {
     "data": {
      "text/plain": [
       "Index(['User country', 'Nr. reviews', 'Nr. hotel reviews', 'Helpful votes',\n",
       "       'Score', 'Period of stay', 'Traveler type', 'Pool', 'Gym',\n",
       "       'Tennis court', 'Spa', 'Casino', 'Free internet', 'Hotel name',\n",
       "       'Hotel stars', 'Nr. rooms', 'User continent', 'Member years',\n",
       "       'Review month', 'Review weekday'],\n",
       "      dtype='object')"
      ]
     },
     "execution_count": 108,
     "metadata": {},
     "output_type": "execute_result"
    }
   ],
   "source": [
    "reviews.columns"
   ]
  },
  {
   "cell_type": "code",
   "execution_count": 109,
   "id": "1d6f1fdd",
   "metadata": {},
   "outputs": [
    {
     "name": "stderr",
     "output_type": "stream",
     "text": [
      "C:\\Users\\abhijeet.bhambere\\AppData\\Local\\Temp\\ipykernel_20380\\1922778981.py:2: UserWarning: The palette list has more values (8) than needed (5), which may not be intended.\n",
      "  ax = sns.catplot(\n"
     ]
    },
    {
     "data": {
      "image/png": "[encoded data removed]",
      "text/plain": [
       "<Figure size 617.375x500 with 1 Axes>"
      ]
     },
     "metadata": {},
     "output_type": "display_data"
    }
   ],
   "source": [
    "# Adjust the color\n",
    "ax = sns.catplot(\n",
    "  x=\"Free internet\", y=\"Score\",\n",
    "  hue=\"Traveler type\", kind=\"bar\",\n",
    "  data=reviews,\n",
    "  palette=sns.color_palette(\"Set2\")\n",
    ")\n",
    "\n",
    "# Add a title\n",
    "ax.fig.suptitle(\"Hotel Score by Traveler Type and Free Internet Access\")\n",
    "# Update the axis labels\n",
    "ax.set_axis_labels(\"Free Internet\", \"Average Review Rating\")\n",
    "\n",
    "# Adjust the starting height of the graphic\n",
    "plt.subplots_adjust(top=0.93)\n",
    "plt.show()"
   ]
  },
  {
   "cell_type": "markdown",
   "id": "7707b349",
   "metadata": {},
   "source": [
    ">Free access to internet is a clear definitive factor in travelers rating hotel stays, especially for Business class travelers\n",
    "\n",
    "_______\n",
    "# Categorical pitfalls:\n",
    "\n",
    "- A column should be carefully identified & decided upon to convert to category dtype. \n",
    "- While converting to category dtype can reduce the memory usage of a dataframe, it should be ensured that only the relevant columns are converted to category dtype\n",
    "- A numerical column converted to category will not be as effective in saving dataframe memory.\n",
    "- For numerical values converted to a category dtype, note that NumPy functions will not work.\n",
    "- The .cat accessor methods also won't handle the NumPy methods as expected in such cases.\n",
    "- Use `value_counts(dropna=False)` to check if the categorical variables contain NaN values"
   ]
  },
  {
   "cell_type": "code",
   "execution_count": 110,
   "id": "08efa819",
   "metadata": {},
   "outputs": [
    {
     "name": "stdout",
     "output_type": "stream",
     "text": [
      "<class 'pandas.core.frame.DataFrame'>\n",
      "RangeIndex: 38531 entries, 0 to 38530\n",
      "Data columns (total 30 columns):\n",
      " #   Column             Non-Null Count  Dtype  \n",
      "---  ------             --------------  -----  \n",
      " 0   manufacturer_name  38531 non-null  object \n",
      " 1   model_name         38531 non-null  object \n",
      " 2   transmission       38531 non-null  object \n",
      " 3   color              38531 non-null  object \n",
      " 4   odometer_value     38531 non-null  int64  \n",
      " 5   year_produced      38531 non-null  int64  \n",
      " 6   engine_fuel        38531 non-null  object \n",
      " 7   engine_has_gas     38531 non-null  bool   \n",
      " 8   engine_type        38531 non-null  object \n",
      " 9   engine_capacity    38521 non-null  float64\n",
      " 10  body_type          38531 non-null  object \n",
      " 11  has_warranty       38531 non-null  bool   \n",
      " 12  state              38531 non-null  object \n",
      " 13  drivetrain         38531 non-null  object \n",
      " 14  price_usd          38531 non-null  float64\n",
      " 15  is_exchangeable    38531 non-null  bool   \n",
      " 16  location_region    38531 non-null  object \n",
      " 17  number_of_photos   38531 non-null  int64  \n",
      " 18  up_counter         38531 non-null  int64  \n",
      " 19  feature_0          38531 non-null  bool   \n",
      " 20  feature_1          38531 non-null  bool   \n",
      " 21  feature_2          38531 non-null  bool   \n",
      " 22  feature_3          38531 non-null  bool   \n",
      " 23  feature_4          38531 non-null  bool   \n",
      " 24  feature_5          38531 non-null  bool   \n",
      " 25  feature_6          38531 non-null  bool   \n",
      " 26  feature_7          38531 non-null  bool   \n",
      " 27  feature_8          38531 non-null  bool   \n",
      " 28  feature_9          38531 non-null  bool   \n",
      " 29  duration_listed    38531 non-null  int64  \n",
      "dtypes: bool(13), float64(2), int64(5), object(10)\n",
      "memory usage: 5.5+ MB\n"
     ]
    }
   ],
   "source": [
    "used_cars = pd.read_csv(\"./cars.csv\")\n",
    "used_cars.info()"
   ]
  },
  {
   "cell_type": "code",
   "execution_count": 111,
   "id": "60b284cb",
   "metadata": {},
   "outputs": [
    {
     "data": {
      "text/html": [
       "<div>\n",
       "<style scoped>\n",
       "    .dataframe tbody tr th:only-of-type {\n",
       "        vertical-align: middle;\n",
       "    }\n",
       "\n",
       "    .dataframe tbody tr th {\n",
       "        vertical-align: top;\n",
       "    }\n",
       "\n",
       "    .dataframe thead th {\n",
       "        text-align: right;\n",
       "    }\n",
       "</style>\n",
       "<table border=\"1\" class=\"dataframe\">\n",
       "  <thead>\n",
       "    <tr style=\"text-align: right;\">\n",
       "      <th></th>\n",
       "      <th>manufacturer_name</th>\n",
       "      <th>model_name</th>\n",
       "      <th>transmission</th>\n",
       "      <th>color</th>\n",
       "      <th>odometer_value</th>\n",
       "      <th>year_produced</th>\n",
       "      <th>engine_fuel</th>\n",
       "      <th>engine_has_gas</th>\n",
       "      <th>engine_type</th>\n",
       "      <th>engine_capacity</th>\n",
       "      <th>...</th>\n",
       "      <th>feature_1</th>\n",
       "      <th>feature_2</th>\n",
       "      <th>feature_3</th>\n",
       "      <th>feature_4</th>\n",
       "      <th>feature_5</th>\n",
       "      <th>feature_6</th>\n",
       "      <th>feature_7</th>\n",
       "      <th>feature_8</th>\n",
       "      <th>feature_9</th>\n",
       "      <th>duration_listed</th>\n",
       "    </tr>\n",
       "  </thead>\n",
       "  <tbody>\n",
       "    <tr>\n",
       "      <th>0</th>\n",
       "      <td>Subaru</td>\n",
       "      <td>Outback</td>\n",
       "      <td>automatic</td>\n",
       "      <td>silver</td>\n",
       "      <td>190000</td>\n",
       "      <td>2010</td>\n",
       "      <td>gasoline</td>\n",
       "      <td>False</td>\n",
       "      <td>gasoline</td>\n",
       "      <td>2.5</td>\n",
       "      <td>...</td>\n",
       "      <td>True</td>\n",
       "      <td>True</td>\n",
       "      <td>True</td>\n",
       "      <td>False</td>\n",
       "      <td>True</td>\n",
       "      <td>False</td>\n",
       "      <td>True</td>\n",
       "      <td>True</td>\n",
       "      <td>True</td>\n",
       "      <td>16</td>\n",
       "    </tr>\n",
       "    <tr>\n",
       "      <th>1</th>\n",
       "      <td>Subaru</td>\n",
       "      <td>Outback</td>\n",
       "      <td>automatic</td>\n",
       "      <td>blue</td>\n",
       "      <td>290000</td>\n",
       "      <td>2002</td>\n",
       "      <td>gasoline</td>\n",
       "      <td>False</td>\n",
       "      <td>gasoline</td>\n",
       "      <td>3.0</td>\n",
       "      <td>...</td>\n",
       "      <td>True</td>\n",
       "      <td>False</td>\n",
       "      <td>False</td>\n",
       "      <td>True</td>\n",
       "      <td>True</td>\n",
       "      <td>False</td>\n",
       "      <td>False</td>\n",
       "      <td>False</td>\n",
       "      <td>True</td>\n",
       "      <td>83</td>\n",
       "    </tr>\n",
       "    <tr>\n",
       "      <th>2</th>\n",
       "      <td>Subaru</td>\n",
       "      <td>Forester</td>\n",
       "      <td>automatic</td>\n",
       "      <td>red</td>\n",
       "      <td>402000</td>\n",
       "      <td>2001</td>\n",
       "      <td>gasoline</td>\n",
       "      <td>False</td>\n",
       "      <td>gasoline</td>\n",
       "      <td>2.5</td>\n",
       "      <td>...</td>\n",
       "      <td>True</td>\n",
       "      <td>False</td>\n",
       "      <td>False</td>\n",
       "      <td>False</td>\n",
       "      <td>False</td>\n",
       "      <td>False</td>\n",
       "      <td>False</td>\n",
       "      <td>True</td>\n",
       "      <td>True</td>\n",
       "      <td>151</td>\n",
       "    </tr>\n",
       "    <tr>\n",
       "      <th>3</th>\n",
       "      <td>Subaru</td>\n",
       "      <td>Impreza</td>\n",
       "      <td>mechanical</td>\n",
       "      <td>blue</td>\n",
       "      <td>10000</td>\n",
       "      <td>1999</td>\n",
       "      <td>gasoline</td>\n",
       "      <td>False</td>\n",
       "      <td>gasoline</td>\n",
       "      <td>3.0</td>\n",
       "      <td>...</td>\n",
       "      <td>False</td>\n",
       "      <td>False</td>\n",
       "      <td>False</td>\n",
       "      <td>False</td>\n",
       "      <td>False</td>\n",
       "      <td>False</td>\n",
       "      <td>False</td>\n",
       "      <td>False</td>\n",
       "      <td>False</td>\n",
       "      <td>86</td>\n",
       "    </tr>\n",
       "    <tr>\n",
       "      <th>4</th>\n",
       "      <td>Subaru</td>\n",
       "      <td>Legacy</td>\n",
       "      <td>automatic</td>\n",
       "      <td>black</td>\n",
       "      <td>280000</td>\n",
       "      <td>2001</td>\n",
       "      <td>gasoline</td>\n",
       "      <td>False</td>\n",
       "      <td>gasoline</td>\n",
       "      <td>2.5</td>\n",
       "      <td>...</td>\n",
       "      <td>True</td>\n",
       "      <td>False</td>\n",
       "      <td>True</td>\n",
       "      <td>True</td>\n",
       "      <td>False</td>\n",
       "      <td>False</td>\n",
       "      <td>False</td>\n",
       "      <td>False</td>\n",
       "      <td>True</td>\n",
       "      <td>7</td>\n",
       "    </tr>\n",
       "  </tbody>\n",
       "</table>\n",
       "<p>5 rows × 30 columns</p>\n",
       "</div>"
      ],
      "text/plain": [
       "  manufacturer_name model_name transmission   color  odometer_value  \\\n",
       "0            Subaru    Outback    automatic  silver          190000   \n",
       "1            Subaru    Outback    automatic    blue          290000   \n",
       "2            Subaru   Forester    automatic     red          402000   \n",
       "3            Subaru    Impreza   mechanical    blue           10000   \n",
       "4            Subaru     Legacy    automatic   black          280000   \n",
       "\n",
       "   year_produced engine_fuel  engine_has_gas engine_type  engine_capacity  \\\n",
       "0           2010    gasoline           False    gasoline              2.5   \n",
       "1           2002    gasoline           False    gasoline              3.0   \n",
       "2           2001    gasoline           False    gasoline              2.5   \n",
       "3           1999    gasoline           False    gasoline              3.0   \n",
       "4           2001    gasoline           False    gasoline              2.5   \n",
       "\n",
       "   ... feature_1  feature_2 feature_3 feature_4  feature_5  feature_6  \\\n",
       "0  ...      True       True      True     False       True      False   \n",
       "1  ...      True      False     False      True       True      False   \n",
       "2  ...      True      False     False     False      False      False   \n",
       "3  ...     False      False     False     False      False      False   \n",
       "4  ...      True      False      True      True      False      False   \n",
       "\n",
       "  feature_7  feature_8  feature_9  duration_listed  \n",
       "0      True       True       True               16  \n",
       "1     False      False       True               83  \n",
       "2     False       True       True              151  \n",
       "3     False      False      False               86  \n",
       "4     False      False       True                7  \n",
       "\n",
       "[5 rows x 30 columns]"
      ]
     },
     "execution_count": 111,
     "metadata": {},
     "output_type": "execute_result"
    }
   ],
   "source": [
    "used_cars.head()"
   ]
  },
  {
   "cell_type": "markdown",
   "id": "5e843bc9",
   "metadata": {},
   "source": [
    "## Label Encoding\n",
    "Label encoding is a technique for converting categorical data into numerical format, where each unique category gets assigned a unique integer.\n",
    "\n",
    "In Python, these codes often start at 0 and end at n - 1, with n being the total number of categories. A -1 code is often used to indicate any missing values.\n",
    "\n",
    "EXAMPLE: converting 'manufacturer_name' to category dtype in below dataset. Since the manufacturer names are nominal (just labels, no logical heirarchy), the numerical codes are assigned in alphabetical order of the categorical variables."
   ]
  },
  {
   "cell_type": "code",
   "execution_count": 112,
   "id": "33523f23",
   "metadata": {},
   "outputs": [],
   "source": [
    "used_cars[\"manufacturer_name\"] = used_cars[\"manufacturer_name\"].astype('category')"
   ]
  },
  {
   "cell_type": "code",
   "execution_count": 113,
   "id": "90ad640a",
   "metadata": {},
   "outputs": [
    {
     "data": {
      "text/plain": [
       "0        45\n",
       "1        45\n",
       "2        45\n",
       "3        45\n",
       "4        45\n",
       "         ..\n",
       "38526     8\n",
       "38527     8\n",
       "38528     8\n",
       "38529     8\n",
       "38530     8\n",
       "Length: 38531, dtype: int8"
      ]
     },
     "execution_count": 113,
     "metadata": {},
     "output_type": "execute_result"
    }
   ],
   "source": [
    "used_cars[\"manufacturer_name\"].cat.codes"
   ]
  },
  {
   "cell_type": "markdown",
   "id": "14f61b79",
   "metadata": {},
   "source": [
    "Adding a column with these cat.codes:"
   ]
  },
  {
   "cell_type": "code",
   "execution_count": 114,
   "id": "572ad6ac",
   "metadata": {},
   "outputs": [
    {
     "data": {
      "text/html": [
       "<div>\n",
       "<style scoped>\n",
       "    .dataframe tbody tr th:only-of-type {\n",
       "        vertical-align: middle;\n",
       "    }\n",
       "\n",
       "    .dataframe tbody tr th {\n",
       "        vertical-align: top;\n",
       "    }\n",
       "\n",
       "    .dataframe thead th {\n",
       "        text-align: right;\n",
       "    }\n",
       "</style>\n",
       "<table border=\"1\" class=\"dataframe\">\n",
       "  <thead>\n",
       "    <tr style=\"text-align: right;\">\n",
       "      <th></th>\n",
       "      <th>manufacturer_name</th>\n",
       "      <th>model_name</th>\n",
       "      <th>transmission</th>\n",
       "      <th>color</th>\n",
       "      <th>odometer_value</th>\n",
       "      <th>year_produced</th>\n",
       "      <th>engine_fuel</th>\n",
       "      <th>engine_has_gas</th>\n",
       "      <th>engine_type</th>\n",
       "      <th>engine_capacity</th>\n",
       "      <th>...</th>\n",
       "      <th>feature_2</th>\n",
       "      <th>feature_3</th>\n",
       "      <th>feature_4</th>\n",
       "      <th>feature_5</th>\n",
       "      <th>feature_6</th>\n",
       "      <th>feature_7</th>\n",
       "      <th>feature_8</th>\n",
       "      <th>feature_9</th>\n",
       "      <th>duration_listed</th>\n",
       "      <th>manufacturer_code</th>\n",
       "    </tr>\n",
       "  </thead>\n",
       "  <tbody>\n",
       "    <tr>\n",
       "      <th>0</th>\n",
       "      <td>Subaru</td>\n",
       "      <td>Outback</td>\n",
       "      <td>automatic</td>\n",
       "      <td>silver</td>\n",
       "      <td>190000</td>\n",
       "      <td>2010</td>\n",
       "      <td>gasoline</td>\n",
       "      <td>False</td>\n",
       "      <td>gasoline</td>\n",
       "      <td>2.5</td>\n",
       "      <td>...</td>\n",
       "      <td>True</td>\n",
       "      <td>True</td>\n",
       "      <td>False</td>\n",
       "      <td>True</td>\n",
       "      <td>False</td>\n",
       "      <td>True</td>\n",
       "      <td>True</td>\n",
       "      <td>True</td>\n",
       "      <td>16</td>\n",
       "      <td>45</td>\n",
       "    </tr>\n",
       "    <tr>\n",
       "      <th>1</th>\n",
       "      <td>Subaru</td>\n",
       "      <td>Outback</td>\n",
       "      <td>automatic</td>\n",
       "      <td>blue</td>\n",
       "      <td>290000</td>\n",
       "      <td>2002</td>\n",
       "      <td>gasoline</td>\n",
       "      <td>False</td>\n",
       "      <td>gasoline</td>\n",
       "      <td>3.0</td>\n",
       "      <td>...</td>\n",
       "      <td>False</td>\n",
       "      <td>False</td>\n",
       "      <td>True</td>\n",
       "      <td>True</td>\n",
       "      <td>False</td>\n",
       "      <td>False</td>\n",
       "      <td>False</td>\n",
       "      <td>True</td>\n",
       "      <td>83</td>\n",
       "      <td>45</td>\n",
       "    </tr>\n",
       "    <tr>\n",
       "      <th>2</th>\n",
       "      <td>Subaru</td>\n",
       "      <td>Forester</td>\n",
       "      <td>automatic</td>\n",
       "      <td>red</td>\n",
       "      <td>402000</td>\n",
       "      <td>2001</td>\n",
       "      <td>gasoline</td>\n",
       "      <td>False</td>\n",
       "      <td>gasoline</td>\n",
       "      <td>2.5</td>\n",
       "      <td>...</td>\n",
       "      <td>False</td>\n",
       "      <td>False</td>\n",
       "      <td>False</td>\n",
       "      <td>False</td>\n",
       "      <td>False</td>\n",
       "      <td>False</td>\n",
       "      <td>True</td>\n",
       "      <td>True</td>\n",
       "      <td>151</td>\n",
       "      <td>45</td>\n",
       "    </tr>\n",
       "    <tr>\n",
       "      <th>3</th>\n",
       "      <td>Subaru</td>\n",
       "      <td>Impreza</td>\n",
       "      <td>mechanical</td>\n",
       "      <td>blue</td>\n",
       "      <td>10000</td>\n",
       "      <td>1999</td>\n",
       "      <td>gasoline</td>\n",
       "      <td>False</td>\n",
       "      <td>gasoline</td>\n",
       "      <td>3.0</td>\n",
       "      <td>...</td>\n",
       "      <td>False</td>\n",
       "      <td>False</td>\n",
       "      <td>False</td>\n",
       "      <td>False</td>\n",
       "      <td>False</td>\n",
       "      <td>False</td>\n",
       "      <td>False</td>\n",
       "      <td>False</td>\n",
       "      <td>86</td>\n",
       "      <td>45</td>\n",
       "    </tr>\n",
       "    <tr>\n",
       "      <th>4</th>\n",
       "      <td>Subaru</td>\n",
       "      <td>Legacy</td>\n",
       "      <td>automatic</td>\n",
       "      <td>black</td>\n",
       "      <td>280000</td>\n",
       "      <td>2001</td>\n",
       "      <td>gasoline</td>\n",
       "      <td>False</td>\n",
       "      <td>gasoline</td>\n",
       "      <td>2.5</td>\n",
       "      <td>...</td>\n",
       "      <td>False</td>\n",
       "      <td>True</td>\n",
       "      <td>True</td>\n",
       "      <td>False</td>\n",
       "      <td>False</td>\n",
       "      <td>False</td>\n",
       "      <td>False</td>\n",
       "      <td>True</td>\n",
       "      <td>7</td>\n",
       "      <td>45</td>\n",
       "    </tr>\n",
       "  </tbody>\n",
       "</table>\n",
       "<p>5 rows × 31 columns</p>\n",
       "</div>"
      ],
      "text/plain": [
       "  manufacturer_name model_name transmission   color  odometer_value  \\\n",
       "0            Subaru    Outback    automatic  silver          190000   \n",
       "1            Subaru    Outback    automatic    blue          290000   \n",
       "2            Subaru   Forester    automatic     red          402000   \n",
       "3            Subaru    Impreza   mechanical    blue           10000   \n",
       "4            Subaru     Legacy    automatic   black          280000   \n",
       "\n",
       "   year_produced engine_fuel  engine_has_gas engine_type  engine_capacity  \\\n",
       "0           2010    gasoline           False    gasoline              2.5   \n",
       "1           2002    gasoline           False    gasoline              3.0   \n",
       "2           2001    gasoline           False    gasoline              2.5   \n",
       "3           1999    gasoline           False    gasoline              3.0   \n",
       "4           2001    gasoline           False    gasoline              2.5   \n",
       "\n",
       "   ... feature_2  feature_3 feature_4 feature_5  feature_6  feature_7  \\\n",
       "0  ...      True       True     False      True      False       True   \n",
       "1  ...     False      False      True      True      False      False   \n",
       "2  ...     False      False     False     False      False      False   \n",
       "3  ...     False      False     False     False      False      False   \n",
       "4  ...     False       True      True     False      False      False   \n",
       "\n",
       "  feature_8  feature_9  duration_listed  manufacturer_code  \n",
       "0      True       True               16                 45  \n",
       "1     False       True               83                 45  \n",
       "2      True       True              151                 45  \n",
       "3     False      False               86                 45  \n",
       "4     False       True                7                 45  \n",
       "\n",
       "[5 rows x 31 columns]"
      ]
     },
     "execution_count": 114,
     "metadata": {},
     "output_type": "execute_result"
    }
   ],
   "source": [
    "used_cars[\"manufacturer_code\"] = used_cars[\"manufacturer_name\"].cat.codes\n",
    "used_cars.head()"
   ]
  },
  {
   "cell_type": "markdown",
   "id": "558bbe38",
   "metadata": {},
   "source": [
    "Mapping the cat.codes to respective car-maker:"
   ]
  },
  {
   "cell_type": "code",
   "execution_count": 115,
   "id": "1fb91f88",
   "metadata": {},
   "outputs": [],
   "source": [
    "maker_encoding = used_cars[\"manufacturer_name\"].cat.codes\n",
    "maker_names = used_cars[\"manufacturer_name\"]"
   ]
  },
  {
   "cell_type": "code",
   "execution_count": 116,
   "id": "3af83f11",
   "metadata": {},
   "outputs": [
    {
     "name": "stdout",
     "output_type": "stream",
     "text": [
      "{45: 'Subaru', 24: 'LADA', 12: 'Dodge', 54: 'УАЗ', 23: 'Kia', 35: 'Opel', 53: 'Москвич', 1: 'Alfa Romeo', 0: 'Acura', 10: 'Dacia', 27: 'Lexus', 33: 'Mitsubishi', 25: 'Lancia', 9: 'Citroen', 32: 'Mini', 21: 'Jaguar', 38: 'Porsche', 44: 'SsangYong', 11: 'Daewoo', 15: 'Geely', 50: 'ВАЗ', 13: 'Fiat', 14: 'Ford', 39: 'Renault', 42: 'Seat', 40: 'Rover', 48: 'Volkswagen', 28: 'Lifan', 22: 'Jeep', 5: 'Cadillac', 2: 'Audi', 52: 'ЗАЗ', 47: 'Toyota', 51: 'ГАЗ', 49: 'Volvo', 7: 'Chevrolet', 16: 'Great Wall', 4: 'Buick', 37: 'Pontiac', 29: 'Lincoln', 18: 'Hyundai', 34: 'Nissan', 46: 'Suzuki', 3: 'BMW', 30: 'Mazda', 26: 'Land Rover', 20: 'Iveco', 43: 'Skoda', 41: 'Saab', 19: 'Infiniti', 6: 'Chery', 17: 'Honda', 31: 'Mercedes-Benz', 36: 'Peugeot', 8: 'Chrysler'}\n"
     ]
    }
   ],
   "source": [
    "name_map = dict(zip(maker_encoding,maker_names))\n",
    "print(name_map)"
   ]
  },
  {
   "cell_type": "markdown",
   "id": "fd22c683",
   "metadata": {},
   "source": [
    ">Label encoding is often used when creating survey datasets. This is because Label encoding assigns integers arbitrarily (usually alphabetically or by order of appearance), which means the numerical values don't represent any inherent ordering.<br>\n",
    "\n",
    ">Recording a categorical variable as a numeric code helps save memory taken up by the dataset as compared to direct string characters\n",
    "\n",
    "## Boolean/ Binary encoding:\n",
    "Boolean encoding typically refers to converting True/False values to 1/0"
   ]
  },
  {
   "cell_type": "code",
   "execution_count": 117,
   "id": "8d532c5a",
   "metadata": {},
   "outputs": [],
   "source": [
    "used_cars[\"van_code\"] = np.where(used_cars[\"body_type\"].str.contains(\"van\"),1,0)"
   ]
  },
  {
   "cell_type": "code",
   "execution_count": 118,
   "id": "ee81635f",
   "metadata": {},
   "outputs": [
    {
     "data": {
      "text/plain": [
       "van_code\n",
       "0    34115\n",
       "1     4416\n",
       "Name: count, dtype: int64"
      ]
     },
     "execution_count": 118,
     "metadata": {},
     "output_type": "execute_result"
    }
   ],
   "source": [
    "used_cars[\"van_code\"].value_counts()"
   ]
  },
  {
   "cell_type": "markdown",
   "id": "2da23039",
   "metadata": {},
   "source": [
    "### TEST QUESTIONS\n",
    "Q- A used car company believes that they can predict a car's sales price reasonably well using their used_cars dataset. One of the variables they want to use, \"color\", needs to be converted to codes. The company believes that a car's color will be important when predicting sales price. \n",
    "\n",
    "- Cnvert the color column to categorical.\n",
    "- Create a new column, \"color_code\", by creating a label encoding for the variable \"color\".\n",
    "- Create a color map using the codes and categories objects."
   ]
  },
  {
   "cell_type": "code",
   "execution_count": 119,
   "id": "1923a9bf",
   "metadata": {},
   "outputs": [],
   "source": [
    "used_cars[\"color\"] = used_cars[\"color\"].astype(\"category\")"
   ]
  },
  {
   "cell_type": "code",
   "execution_count": 120,
   "id": "e02638b4",
   "metadata": {},
   "outputs": [
    {
     "data": {
      "text/plain": [
       "color\n",
       "black     7705\n",
       "silver    6852\n",
       "blue      5802\n",
       "white     4212\n",
       "grey      3751\n",
       "red       2925\n",
       "green     2760\n",
       "other     2688\n",
       "brown      886\n",
       "violet     463\n",
       "yellow     303\n",
       "orange     184\n",
       "Name: count, dtype: int64"
      ]
     },
     "execution_count": 120,
     "metadata": {},
     "output_type": "execute_result"
    }
   ],
   "source": [
    "used_cars[\"color\"].value_counts()"
   ]
  },
  {
   "cell_type": "code",
   "execution_count": 121,
   "id": "a2aa00ef",
   "metadata": {},
   "outputs": [],
   "source": [
    "used_cars[\"color_code\"] = used_cars[\"color\"].cat.codes"
   ]
  },
  {
   "cell_type": "code",
   "execution_count": 122,
   "id": "3c9be466",
   "metadata": {},
   "outputs": [
    {
     "name": "stdout",
     "output_type": "stream",
     "text": [
      "{8: 'silver', 1: 'blue', 7: 'red', 0: 'black', 4: 'grey', 6: 'other', 2: 'brown', 10: 'white', 3: 'green', 9: 'violet', 5: 'orange', 11: 'yellow'}\n"
     ]
    }
   ],
   "source": [
    "# Creating a color map for the label encoding\n",
    "color_codes = used_cars[\"color_code\"]\n",
    "color_cats = used_cars[\"color\"]\n",
    "color_map = dict(zip(color_codes, color_cats))\n",
    "print(color_map)"
   ]
  },
  {
   "cell_type": "markdown",
   "id": "f12d796e",
   "metadata": {},
   "source": [
    "> So this is how label encoding is created. In this case we applied label-endocing on the 'color' column of the dataset.\n",
    "\n",
    ">Creating an encoding like this can save on memory & improve performance. Reading & writing files that use codes instead of strings can save a lot of time.\n",
    "\n",
    "NOTE: When using the code columns for visualizations, convert the numerical values back to categorical (string) vales using:<br>\n",
    "`df[col] =- df['col].map(mapping_dict)`"
   ]
  },
  {
   "cell_type": "markdown",
   "id": "97dd2278",
   "metadata": {},
   "source": [
    "### TEST QUESTION\n",
    "Using saved Mappings- \n",
    "- Update the \"color\" column back to its original values using the color_map dictionary.\n",
    "- Update the \"transmission\" column back to its original values using the transmission_map dictionary.\n",
    "- Use .info() on the dataset to see if the dtypes have changed.\n",
    "\n",
    "_________\n",
    "### TEST QUESTIONS\n",
    "In preparation for running machine learning models to estimate the sale price of used cars, you are starting to analyze the available columns of the `used_cars` dataset and want to create columns that can be used in training. \n",
    "\n",
    "The manufacturer of the car is the most important aspect he considers when setting prices."
   ]
  },
  {
   "cell_type": "code",
   "execution_count": 123,
   "id": "20201564",
   "metadata": {},
   "outputs": [
    {
     "name": "stdout",
     "output_type": "stream",
     "text": [
      "manufacturer_name\n",
      "Volkswagen       4243\n",
      "Opel             2759\n",
      "BMW              2610\n",
      "Ford             2566\n",
      "Renault          2493\n",
      "Audi             2468\n",
      "Mercedes-Benz    2237\n",
      "Peugeot          1909\n",
      "Citroen          1562\n",
      "Nissan           1361\n",
      "Mazda            1328\n",
      "Toyota           1246\n",
      "Hyundai          1116\n",
      "Skoda            1089\n",
      "Kia               912\n",
      "Mitsubishi        887\n",
      "Fiat              824\n",
      "Honda             797\n",
      "Volvo             721\n",
      "ВАЗ               481\n",
      "Chevrolet         436\n",
      "Chrysler          410\n",
      "Seat              303\n",
      "Dodge             297\n",
      "Subaru            291\n",
      "Rover             235\n",
      "Suzuki            234\n",
      "Daewoo            221\n",
      "Lexus             213\n",
      "Alfa Romeo        207\n",
      "ГАЗ               200\n",
      "Land Rover        184\n",
      "Infiniti          162\n",
      "LADA              146\n",
      "Iveco             139\n",
      "Saab              108\n",
      "Jeep              107\n",
      "Lancia             92\n",
      "SsangYong          79\n",
      "УАЗ                74\n",
      "Geely              71\n",
      "Mini               68\n",
      "Acura              66\n",
      "Porsche            61\n",
      "Dacia              59\n",
      "Chery              58\n",
      "Москвич            55\n",
      "Jaguar             53\n",
      "Lifan              47\n",
      "Buick              47\n",
      "Cadillac           43\n",
      "ЗАЗ                42\n",
      "Pontiac            42\n",
      "Great Wall         36\n",
      "Lincoln            36\n",
      "Name: count, dtype: int64\n",
      "is_volkswagen\n",
      "0    34288\n",
      "1     4243\n",
      "Name: count, dtype: int64\n"
     ]
    }
   ],
   "source": [
    "# Print the \"manufacturer_name\" frequency table.\n",
    "print(used_cars[\"manufacturer_name\"].value_counts())\n",
    "\n",
    "# Create a Boolean column for the most common manufacturer name\n",
    "used_cars[\"is_volkswagen\"] = np.where(\n",
    "  used_cars[\"manufacturer_name\"].str.contains(\"Volkswagen\", regex=False), 1, 0\n",
    ")\n",
    "  \n",
    "# Check the final frequency table\n",
    "print(used_cars[\"is_volkswagen\"].value_counts())"
   ]
  },
  {
   "cell_type": "markdown",
   "id": "3138b489",
   "metadata": {},
   "source": [
    "## One-hot encoding:\n",
    "For features with no natural ordering, consider one-hot encoding instead, especially for linear models in machine learning, as label encoding can inadvertently introduce artificial ordinal relationships that may mislead algorithms into thinking there's a meaningful numerical relationship between categories.\n",
    "\n",
    "One-hot encoding creates multiple binary columns (0s and 1s) from categorical data - one column per category. For a feature with n categories, you get n columns (or n-1 to avoid multicollinearity).\n",
    "\n",
    "Since its basically a involves assigning a binary to each category, we use below function to help us easily implement this:\n",
    "`pandas.get_dummies(data, prefix=None, prefix_sep='_', dummy_na=False, columns=None, sparse=False, drop_first=False, dtype=None)\n",
    "`\n",
    "\n",
    "While `pd.get_dummies()` can automatically detect and convert columns with object or string dtypes into dummy variables, its alwats best practice to explicitly declare column dtypes"
   ]
  },
  {
   "cell_type": "code",
   "execution_count": 124,
   "id": "23eafad8",
   "metadata": {},
   "outputs": [
    {
     "data": {
      "text/plain": [
       "color\n",
       "black     7705\n",
       "silver    6852\n",
       "blue      5802\n",
       "white     4212\n",
       "grey      3751\n",
       "red       2925\n",
       "green     2760\n",
       "other     2688\n",
       "brown      886\n",
       "violet     463\n",
       "yellow     303\n",
       "orange     184\n",
       "Name: count, dtype: int64"
      ]
     },
     "execution_count": 124,
     "metadata": {},
     "output_type": "execute_result"
    }
   ],
   "source": [
    "used_cars[\"color\"].value_counts()"
   ]
  },
  {
   "cell_type": "code",
   "execution_count": 125,
   "id": "e3f91395",
   "metadata": {},
   "outputs": [
    {
     "data": {
      "text/html": [
       "<div>\n",
       "<style scoped>\n",
       "    .dataframe tbody tr th:only-of-type {\n",
       "        vertical-align: middle;\n",
       "    }\n",
       "\n",
       "    .dataframe tbody tr th {\n",
       "        vertical-align: top;\n",
       "    }\n",
       "\n",
       "    .dataframe thead th {\n",
       "        text-align: right;\n",
       "    }\n",
       "</style>\n",
       "<table border=\"1\" class=\"dataframe\">\n",
       "  <thead>\n",
       "    <tr style=\"text-align: right;\">\n",
       "      <th></th>\n",
       "      <th>odometer_value</th>\n",
       "      <th>color_black</th>\n",
       "      <th>color_blue</th>\n",
       "      <th>color_brown</th>\n",
       "      <th>color_green</th>\n",
       "      <th>color_grey</th>\n",
       "      <th>color_orange</th>\n",
       "      <th>color_other</th>\n",
       "      <th>color_red</th>\n",
       "      <th>color_silver</th>\n",
       "      <th>color_violet</th>\n",
       "      <th>color_white</th>\n",
       "      <th>color_yellow</th>\n",
       "    </tr>\n",
       "  </thead>\n",
       "  <tbody>\n",
       "    <tr>\n",
       "      <th>0</th>\n",
       "      <td>190000</td>\n",
       "      <td>False</td>\n",
       "      <td>False</td>\n",
       "      <td>False</td>\n",
       "      <td>False</td>\n",
       "      <td>False</td>\n",
       "      <td>False</td>\n",
       "      <td>False</td>\n",
       "      <td>False</td>\n",
       "      <td>True</td>\n",
       "      <td>False</td>\n",
       "      <td>False</td>\n",
       "      <td>False</td>\n",
       "    </tr>\n",
       "    <tr>\n",
       "      <th>1</th>\n",
       "      <td>290000</td>\n",
       "      <td>False</td>\n",
       "      <td>True</td>\n",
       "      <td>False</td>\n",
       "      <td>False</td>\n",
       "      <td>False</td>\n",
       "      <td>False</td>\n",
       "      <td>False</td>\n",
       "      <td>False</td>\n",
       "      <td>False</td>\n",
       "      <td>False</td>\n",
       "      <td>False</td>\n",
       "      <td>False</td>\n",
       "    </tr>\n",
       "    <tr>\n",
       "      <th>2</th>\n",
       "      <td>402000</td>\n",
       "      <td>False</td>\n",
       "      <td>False</td>\n",
       "      <td>False</td>\n",
       "      <td>False</td>\n",
       "      <td>False</td>\n",
       "      <td>False</td>\n",
       "      <td>False</td>\n",
       "      <td>True</td>\n",
       "      <td>False</td>\n",
       "      <td>False</td>\n",
       "      <td>False</td>\n",
       "      <td>False</td>\n",
       "    </tr>\n",
       "    <tr>\n",
       "      <th>3</th>\n",
       "      <td>10000</td>\n",
       "      <td>False</td>\n",
       "      <td>True</td>\n",
       "      <td>False</td>\n",
       "      <td>False</td>\n",
       "      <td>False</td>\n",
       "      <td>False</td>\n",
       "      <td>False</td>\n",
       "      <td>False</td>\n",
       "      <td>False</td>\n",
       "      <td>False</td>\n",
       "      <td>False</td>\n",
       "      <td>False</td>\n",
       "    </tr>\n",
       "    <tr>\n",
       "      <th>4</th>\n",
       "      <td>280000</td>\n",
       "      <td>True</td>\n",
       "      <td>False</td>\n",
       "      <td>False</td>\n",
       "      <td>False</td>\n",
       "      <td>False</td>\n",
       "      <td>False</td>\n",
       "      <td>False</td>\n",
       "      <td>False</td>\n",
       "      <td>False</td>\n",
       "      <td>False</td>\n",
       "      <td>False</td>\n",
       "      <td>False</td>\n",
       "    </tr>\n",
       "  </tbody>\n",
       "</table>\n",
       "</div>"
      ],
      "text/plain": [
       "   odometer_value  color_black  color_blue  color_brown  color_green  \\\n",
       "0          190000        False       False        False        False   \n",
       "1          290000        False        True        False        False   \n",
       "2          402000        False       False        False        False   \n",
       "3           10000        False        True        False        False   \n",
       "4          280000         True       False        False        False   \n",
       "\n",
       "   color_grey  color_orange  color_other  color_red  color_silver  \\\n",
       "0       False         False        False      False          True   \n",
       "1       False         False        False      False         False   \n",
       "2       False         False        False       True         False   \n",
       "3       False         False        False      False         False   \n",
       "4       False         False        False      False         False   \n",
       "\n",
       "   color_violet  color_white  color_yellow  \n",
       "0         False        False         False  \n",
       "1         False        False         False  \n",
       "2         False        False         False  \n",
       "3         False        False         False  \n",
       "4         False        False         False  "
      ]
     },
     "execution_count": 125,
     "metadata": {},
     "output_type": "execute_result"
    }
   ],
   "source": [
    "onehotEnc_used_cars = pd.get_dummies(used_cars[[\"odometer_value\",\"color\"]])\n",
    "onehotEnc_used_cars.head()"
   ]
  },
  {
   "cell_type": "markdown",
   "id": "4be11def",
   "metadata": {},
   "source": [
    "For the above subsetted dataframe, since odometer values are numeric, these were not one-hot encoded whereas since color column had object dtype(in fact, explicitly a category dtype), the original column was split into multiple columns, each representing a categorical variable. **The original column will be dropped.**"
   ]
  },
  {
   "cell_type": "code",
   "execution_count": 126,
   "id": "f7cca7c0",
   "metadata": {},
   "outputs": [
    {
     "data": {
      "text/plain": [
       "0    silver\n",
       "1      blue\n",
       "2       red\n",
       "3      blue\n",
       "4     black\n",
       "Name: color, dtype: category\n",
       "Categories (12, object): ['black', 'blue', 'brown', 'green', ..., 'silver', 'violet', 'white', 'yellow']"
      ]
     },
     "execution_count": 126,
     "metadata": {},
     "output_type": "execute_result"
    }
   ],
   "source": [
    "used_cars[\"color\"].head()"
   ]
  },
  {
   "cell_type": "markdown",
   "id": "ea2bcdc3",
   "metadata": {},
   "source": [
    ">Limiting which categorical columns are included in your algorithm may prevent overfitting"
   ]
  },
  {
   "cell_type": "markdown",
   "id": "cb92415b",
   "metadata": {},
   "source": [
    "_______\n",
    "# Project - Customer analytics\n",
    "Course objectives - You've been hired by a major online data science training provider to store their data much more efficiently, so they can create a model that predicts if course enrollees are looking for a job. You'll convert data types, create ordered categories, and filter ordered categorical data so the data is ready for modeling."
   ]
  }
 ],
 "metadata": {
  "kernelspec": {
   "display_name": "dcvenv",
   "language": "python",
   "name": "python3"
  },
  "language_info": {
   "codemirror_mode": {
    "name": "ipython",
    "version": 3
   },
   "file_extension": ".py",
   "mimetype": "text/x-python",
   "name": "python",
   "nbconvert_exporter": "python",
   "pygments_lexer": "ipython3",
   "version": "3.13.5"
  }
 },
 "nbformat": 4,
 "nbformat_minor": 5
}
