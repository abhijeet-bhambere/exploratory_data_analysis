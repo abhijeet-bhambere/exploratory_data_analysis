{
 "cells": [
  {
   "cell_type": "markdown",
   "id": "e61fde11",
   "metadata": {},
   "source": [
    "# Working on Categorical Data\n",
    "Intent is to enable understanding & utilizing Categorical data in a pandas dataFrame. \n",
    "\n",
    "Also, being able to  modify Categorical dtypes columns, generate features &  visualize the categorical data.\n",
    "\n",
    "____\n",
    "### Quick Refresher:\n",
    "- Categorical data is a kind of **Qualitative Data**. It also significantly decreases the overall memory utilized by the DataFrame.\n",
    "\n",
    "    - Ordinal Data - cariables have a natural order (eg. Rankings / Levels of Agreement etc. in a Survey). \n",
    "    <br>There is a certain relationship -- mostly a logical progression -- amongst the variables\n",
    "    <br>E.g. Rankings in a survey (Excellent >Good >Average etc.), severity of incidents (Critical >High >Low)\n",
    "\n",
    "    - Nominal Data - variables cannot be placed in a natural order i.e. don't contain any correlation to each other.\n",
    "    <br>E.g. Countries / Colours etc.\n",
    "\n",
    "- Assigning categorical dtype to a column **significantly reduces the DataFrame's memory footprint**.\n",
    "<br>Use `df.info` or `df[\"col\"].nbytes`to know the memory space taken up by a dataframes or series\n",
    "\n",
    "<img src=\"https://intellspot.com/wp-content/uploads/2018/08/Types-of-Data-Infographic.png\" width=\"600\">"
   ]
  },
  {
   "cell_type": "code",
   "execution_count": 1,
   "id": "e9902e9b",
   "metadata": {},
   "outputs": [],
   "source": [
    "import numpy as np\n",
    "import pandas as pd\n",
    "import matplotlib.pyplot as plt\n",
    "import seaborn as sns\n",
    "\n",
    "sns.set_style(style='darkgrid')"
   ]
  },
  {
   "cell_type": "markdown",
   "id": "4d88a945",
   "metadata": {},
   "source": [
    "## Starting with the basic EDA steps:\n",
    "- Importing the US Adults Census database. Trying to identify missing vlaues / column dtypes etc\n",
    "- Identifying columns with **object dtype** - can be checked further if any of them can be converted to a categorical dtype (using `.astype`)"
   ]
  },
  {
   "cell_type": "code",
   "execution_count": 2,
   "id": "8b7e4e35",
   "metadata": {},
   "outputs": [
    {
     "name": "stdout",
     "output_type": "stream",
     "text": [
      "<class 'pandas.core.frame.DataFrame'>\n",
      "RangeIndex: 32561 entries, 0 to 32560\n",
      "Data columns (total 15 columns):\n",
      " #   Column           Non-Null Count  Dtype \n",
      "---  ------           --------------  ----- \n",
      " 0   Age              32561 non-null  int64 \n",
      " 1   Workclass        32561 non-null  object\n",
      " 2   fnlgwt           32561 non-null  int64 \n",
      " 3   Education        32561 non-null  object\n",
      " 4   Education Num    32561 non-null  int64 \n",
      " 5   Marital Status   32561 non-null  object\n",
      " 6   Occupation       32561 non-null  object\n",
      " 7   Relationship     32561 non-null  object\n",
      " 8   Race             32561 non-null  object\n",
      " 9   Sex              32561 non-null  object\n",
      " 10  Capital Gain     32561 non-null  int64 \n",
      " 11  Capital Loss     32561 non-null  int64 \n",
      " 12  Hours/Week       32561 non-null  int64 \n",
      " 13  Country          32561 non-null  object\n",
      " 14  Above/Below 50k  32561 non-null  object\n",
      "dtypes: int64(6), object(9)\n",
      "memory usage: 3.7+ MB\n"
     ]
    }
   ],
   "source": [
    "adults = pd.read_csv(\"./grownups_census.csv\")\n",
    "\n",
    "adults.info()"
   ]
  },
  {
   "cell_type": "code",
   "execution_count": 3,
   "id": "82abd612",
   "metadata": {},
   "outputs": [
    {
     "data": {
      "text/html": [
       "<div>\n",
       "<style scoped>\n",
       "    .dataframe tbody tr th:only-of-type {\n",
       "        vertical-align: middle;\n",
       "    }\n",
       "\n",
       "    .dataframe tbody tr th {\n",
       "        vertical-align: top;\n",
       "    }\n",
       "\n",
       "    .dataframe thead th {\n",
       "        text-align: right;\n",
       "    }\n",
       "</style>\n",
       "<table border=\"1\" class=\"dataframe\">\n",
       "  <thead>\n",
       "    <tr style=\"text-align: right;\">\n",
       "      <th></th>\n",
       "      <th>Age</th>\n",
       "      <th>Workclass</th>\n",
       "      <th>fnlgwt</th>\n",
       "      <th>Education</th>\n",
       "      <th>Education Num</th>\n",
       "      <th>Marital Status</th>\n",
       "      <th>Occupation</th>\n",
       "      <th>Relationship</th>\n",
       "      <th>Race</th>\n",
       "      <th>Sex</th>\n",
       "      <th>Capital Gain</th>\n",
       "      <th>Capital Loss</th>\n",
       "      <th>Hours/Week</th>\n",
       "      <th>Country</th>\n",
       "      <th>Above/Below 50k</th>\n",
       "    </tr>\n",
       "  </thead>\n",
       "  <tbody>\n",
       "    <tr>\n",
       "      <th>0</th>\n",
       "      <td>39</td>\n",
       "      <td>State-gov</td>\n",
       "      <td>77516</td>\n",
       "      <td>Bachelors</td>\n",
       "      <td>13</td>\n",
       "      <td>Never-married</td>\n",
       "      <td>Adm-clerical</td>\n",
       "      <td>Not-in-family</td>\n",
       "      <td>White</td>\n",
       "      <td>Male</td>\n",
       "      <td>2174</td>\n",
       "      <td>0</td>\n",
       "      <td>40</td>\n",
       "      <td>United-States</td>\n",
       "      <td>&lt;=50K</td>\n",
       "    </tr>\n",
       "    <tr>\n",
       "      <th>1</th>\n",
       "      <td>50</td>\n",
       "      <td>Self-emp-not-inc</td>\n",
       "      <td>83311</td>\n",
       "      <td>Bachelors</td>\n",
       "      <td>13</td>\n",
       "      <td>Married-civ-spouse</td>\n",
       "      <td>Exec-managerial</td>\n",
       "      <td>Husband</td>\n",
       "      <td>White</td>\n",
       "      <td>Male</td>\n",
       "      <td>0</td>\n",
       "      <td>0</td>\n",
       "      <td>13</td>\n",
       "      <td>United-States</td>\n",
       "      <td>&lt;=50K</td>\n",
       "    </tr>\n",
       "    <tr>\n",
       "      <th>2</th>\n",
       "      <td>38</td>\n",
       "      <td>Private</td>\n",
       "      <td>215646</td>\n",
       "      <td>HS-grad</td>\n",
       "      <td>9</td>\n",
       "      <td>Divorced</td>\n",
       "      <td>Handlers-cleaners</td>\n",
       "      <td>Not-in-family</td>\n",
       "      <td>White</td>\n",
       "      <td>Male</td>\n",
       "      <td>0</td>\n",
       "      <td>0</td>\n",
       "      <td>40</td>\n",
       "      <td>United-States</td>\n",
       "      <td>&lt;=50K</td>\n",
       "    </tr>\n",
       "    <tr>\n",
       "      <th>3</th>\n",
       "      <td>53</td>\n",
       "      <td>Private</td>\n",
       "      <td>234721</td>\n",
       "      <td>11th</td>\n",
       "      <td>7</td>\n",
       "      <td>Married-civ-spouse</td>\n",
       "      <td>Handlers-cleaners</td>\n",
       "      <td>Husband</td>\n",
       "      <td>Black</td>\n",
       "      <td>Male</td>\n",
       "      <td>0</td>\n",
       "      <td>0</td>\n",
       "      <td>40</td>\n",
       "      <td>United-States</td>\n",
       "      <td>&lt;=50K</td>\n",
       "    </tr>\n",
       "    <tr>\n",
       "      <th>4</th>\n",
       "      <td>28</td>\n",
       "      <td>Private</td>\n",
       "      <td>338409</td>\n",
       "      <td>Bachelors</td>\n",
       "      <td>13</td>\n",
       "      <td>Married-civ-spouse</td>\n",
       "      <td>Prof-specialty</td>\n",
       "      <td>Wife</td>\n",
       "      <td>Black</td>\n",
       "      <td>Female</td>\n",
       "      <td>0</td>\n",
       "      <td>0</td>\n",
       "      <td>40</td>\n",
       "      <td>Cuba</td>\n",
       "      <td>&lt;=50K</td>\n",
       "    </tr>\n",
       "  </tbody>\n",
       "</table>\n",
       "</div>"
      ],
      "text/plain": [
       "   Age          Workclass  fnlgwt   Education  Education Num  \\\n",
       "0   39          State-gov   77516   Bachelors             13   \n",
       "1   50   Self-emp-not-inc   83311   Bachelors             13   \n",
       "2   38            Private  215646     HS-grad              9   \n",
       "3   53            Private  234721        11th              7   \n",
       "4   28            Private  338409   Bachelors             13   \n",
       "\n",
       "        Marital Status          Occupation    Relationship    Race      Sex  \\\n",
       "0        Never-married        Adm-clerical   Not-in-family   White     Male   \n",
       "1   Married-civ-spouse     Exec-managerial         Husband   White     Male   \n",
       "2             Divorced   Handlers-cleaners   Not-in-family   White     Male   \n",
       "3   Married-civ-spouse   Handlers-cleaners         Husband   Black     Male   \n",
       "4   Married-civ-spouse      Prof-specialty            Wife   Black   Female   \n",
       "\n",
       "   Capital Gain  Capital Loss  Hours/Week         Country Above/Below 50k  \n",
       "0          2174             0          40   United-States           <=50K  \n",
       "1             0             0          13   United-States           <=50K  \n",
       "2             0             0          40   United-States           <=50K  \n",
       "3             0             0          40   United-States           <=50K  \n",
       "4             0             0          40            Cuba           <=50K  "
      ]
     },
     "execution_count": 3,
     "metadata": {},
     "output_type": "execute_result"
    }
   ],
   "source": [
    "adults.head()"
   ]
  },
  {
   "cell_type": "markdown",
   "id": "d60afea1",
   "metadata": {},
   "source": [
    "- We can see there are certain columns - such as Marital status, Occupation, Race etc. that we can probe further for categorical data.\n",
    "\n",
    "- Use `.value_counts()` `.describe()` to gain more detailed understanding of the nature of this data"
   ]
  },
  {
   "cell_type": "code",
   "execution_count": 4,
   "id": "6f631b18",
   "metadata": {},
   "outputs": [
    {
     "data": {
      "text/plain": [
       "count                   32561\n",
       "unique                      7\n",
       "top        Married-civ-spouse\n",
       "freq                    14976\n",
       "Name: Marital Status, dtype: object"
      ]
     },
     "execution_count": 4,
     "metadata": {},
     "output_type": "execute_result"
    }
   ],
   "source": [
    "adults[\"Marital Status\"].describe()"
   ]
  },
  {
   "cell_type": "markdown",
   "id": "1e2a7ff0",
   "metadata": {},
   "source": [
    "`.describe()` identified that the column contains 7 unique values "
   ]
  },
  {
   "cell_type": "code",
   "execution_count": 5,
   "id": "e2e48695",
   "metadata": {},
   "outputs": [
    {
     "data": {
      "text/plain": [
       "Marital Status\n",
       "Married-civ-spouse       0.459937\n",
       "Never-married            0.328092\n",
       "Divorced                 0.136452\n",
       "Separated                0.031479\n",
       "Widowed                  0.030497\n",
       "Married-spouse-absent    0.012837\n",
       "Married-AF-spouse        0.000706\n",
       "Name: proportion, dtype: float64"
      ]
     },
     "execution_count": 5,
     "metadata": {},
     "output_type": "execute_result"
    }
   ],
   "source": [
    "adults[\"Marital Status\"].value_counts(normalize=True)"
   ]
  },
  {
   "cell_type": "markdown",
   "id": "9e9056bb",
   "metadata": {},
   "source": [
    "We can definitely conclude that `Marital Status` column contains some distinct categorical variables & their proportions \n",
    "\n",
    ">You have been asked to build a machine learning model to predict whether or not a person makes over $50,000 in a year. To understand the target variable, `Above/Below 50k`, you decide to explore the variable in more detail.\n",
    "_____\n",
    "### TEST QUESTIONS\n",
    "**Q - Explore the Above/Below 50k variable by printing out a description of the variable's contents.**\n",
    "\n",
    "- 2 unique variables ; '<=50k' is the top variable (alphabet-wise) with 24,720 frequency count(no. of occurrences) \n",
    "\n",
    "**Q - Explore the Above/Below 50k variable by printing out a frequency table of the values found in this column.**\n",
    "\n",
    "- Is observed that there's a greater proportion of people From the dataset who make less than 50K than people making more than 50K"
   ]
  },
  {
   "cell_type": "code",
   "execution_count": 6,
   "id": "15c35f78",
   "metadata": {},
   "outputs": [
    {
     "data": {
      "text/plain": [
       "count      32561\n",
       "unique         2\n",
       "top        <=50K\n",
       "freq       24720\n",
       "Name: Above/Below 50k, dtype: object"
      ]
     },
     "execution_count": 6,
     "metadata": {},
     "output_type": "execute_result"
    }
   ],
   "source": [
    "adults[\"Above/Below 50k\"].describe()"
   ]
  },
  {
   "cell_type": "code",
   "execution_count": 7,
   "id": "50163790",
   "metadata": {},
   "outputs": [
    {
     "data": {
      "text/plain": [
       "Above/Below 50k\n",
       "<=50K    0.75919\n",
       ">50K     0.24081\n",
       "Name: proportion, dtype: float64"
      ]
     },
     "execution_count": 7,
     "metadata": {},
     "output_type": "execute_result"
    }
   ],
   "source": [
    "adults[\"Above/Below 50k\"].value_counts(normalize=True)"
   ]
  },
  {
   "cell_type": "code",
   "execution_count": 8,
   "id": "d7c48dfe",
   "metadata": {},
   "outputs": [
    {
     "data": {
      "image/png": "[encoded data removed]",
      "text/plain": [
       "<Figure size 640x480 with 1 Axes>"
      ]
     },
     "metadata": {},
     "output_type": "display_data"
    }
   ],
   "source": [
    "# Visualizing the above -- with added distinction of gender\n",
    "sns.countplot(data=adults, x=\"Above/Below 50k\", hue=\"Sex\")\n",
    "plt.show()\n"
   ]
  },
  {
   "cell_type": "markdown",
   "id": "45101729",
   "metadata": {},
   "source": [
    "So its also observed that Males earn more than female counterparts in both income categories"
   ]
  },
  {
   "cell_type": "code",
   "execution_count": 9,
   "id": "548bbc28",
   "metadata": {},
   "outputs": [
    {
     "name": "stdout",
     "output_type": "stream",
     "text": [
      "object\n"
     ]
    }
   ],
   "source": [
    "print(adults[\"Marital Status\"].dtype)"
   ]
  },
  {
   "cell_type": "markdown",
   "id": "293970d3",
   "metadata": {},
   "source": [
    "### Converting a column dtype to categorical \n",
    "Use `.astype()` to convert existing column dtype . **However, above method mostly help in converting to nominal categorical data** i.e. the logical relations (if any) might be missed out from being applied to the categorical variables.\n",
    "\n",
    "OR use `pd.Categorical` on a list to create a series with 'Category' as default dtype. Details on [`pd.Categorical`](https://pandas.pydata.org/docs/user_guide/categorical.html). <br>\n",
    "This method helps apply logical relations using the `ordered` & `categories` keywords.\n",
    "\n",
    "**EXAMPLE: Converting an existing Series to categorical dtype :**"
   ]
  },
  {
   "cell_type": "code",
   "execution_count": 10,
   "id": "a0ccabb1",
   "metadata": {},
   "outputs": [
    {
     "name": "stdout",
     "output_type": "stream",
     "text": [
      "category\n"
     ]
    }
   ],
   "source": [
    "# EXAMPLES\n",
    "# Converting an existing Series to categorical dtype\n",
    "s = pd.Series(['small', 'medium', 'large', 'medium'])\n",
    "s_cat = s.astype('category')\n",
    "print(s_cat.dtype)"
   ]
  },
  {
   "cell_type": "markdown",
   "id": "c51ffa08",
   "metadata": {},
   "source": [
    "**EXAMPLE: Another method = declaring the dtype at the creation of the series :**"
   ]
  },
  {
   "cell_type": "code",
   "execution_count": 11,
   "id": "00ba1d07",
   "metadata": {},
   "outputs": [
    {
     "name": "stdout",
     "output_type": "stream",
     "text": [
      "0     small\n",
      "1    medium\n",
      "2     large\n",
      "3    medium\n",
      "dtype: category\n",
      "Categories (3, object): ['large', 'medium', 'small']\n"
     ]
    }
   ],
   "source": [
    "# EXAMPLES\n",
    "# Another method = declaring the dtype at the creation of the series\n",
    "aa = ['small', 'medium', 'large', 'medium']\n",
    "asd = pd.Series(aa, dtype=\"category\")\n",
    "print(asd)"
   ]
  },
  {
   "cell_type": "markdown",
   "id": "b349061c",
   "metadata": {},
   "source": [
    "**EXAMPLE: Creating a Series with categorical data (without order):**\n",
    "\n",
    "The categorical variables are simply nominal (no relation/ nor follow any logical progression)"
   ]
  },
  {
   "cell_type": "code",
   "execution_count": 12,
   "id": "d90ed380",
   "metadata": {},
   "outputs": [
    {
     "name": "stdout",
     "output_type": "stream",
     "text": [
      "['red', 'blue', 'green', 'red', 'blue']\n",
      "Categories (3, object): ['blue', 'green', 'red']\n"
     ]
    }
   ],
   "source": [
    "# EXAMPLE1\n",
    "# Creating a Series with categorical data\n",
    "data = ['red', 'blue', 'green', 'red', 'blue']\n",
    "categorical_series = pd.Categorical(data)\n",
    "print(categorical_series)"
   ]
  },
  {
   "cell_type": "markdown",
   "id": "de5ca9f0",
   "metadata": {},
   "source": [
    "**EXAMPLE: Creating a Series with categorical data (WITH order):**\n",
    "\n",
    "Categorical variables are ordinal (ie. with relation AND follow any logical progression)"
   ]
  },
  {
   "cell_type": "code",
   "execution_count": 13,
   "id": "11d39ad1",
   "metadata": {},
   "outputs": [
    {
     "data": {
      "text/html": [
       "<div>\n",
       "<style scoped>\n",
       "    .dataframe tbody tr th:only-of-type {\n",
       "        vertical-align: middle;\n",
       "    }\n",
       "\n",
       "    .dataframe tbody tr th {\n",
       "        vertical-align: top;\n",
       "    }\n",
       "\n",
       "    .dataframe thead th {\n",
       "        text-align: right;\n",
       "    }\n",
       "</style>\n",
       "<table border=\"1\" class=\"dataframe\">\n",
       "  <thead>\n",
       "    <tr style=\"text-align: right;\">\n",
       "      <th></th>\n",
       "      <th>Name</th>\n",
       "      <th>Education</th>\n",
       "    </tr>\n",
       "  </thead>\n",
       "  <tbody>\n",
       "    <tr>\n",
       "      <th>0</th>\n",
       "      <td>Alice</td>\n",
       "      <td>High School</td>\n",
       "    </tr>\n",
       "    <tr>\n",
       "      <th>1</th>\n",
       "      <td>Bob</td>\n",
       "      <td>Masters</td>\n",
       "    </tr>\n",
       "    <tr>\n",
       "      <th>2</th>\n",
       "      <td>Charlie</td>\n",
       "      <td>PhD</td>\n",
       "    </tr>\n",
       "    <tr>\n",
       "      <th>3</th>\n",
       "      <td>David</td>\n",
       "      <td>Bachelors</td>\n",
       "    </tr>\n",
       "    <tr>\n",
       "      <th>4</th>\n",
       "      <td>Eve</td>\n",
       "      <td>High School</td>\n",
       "    </tr>\n",
       "  </tbody>\n",
       "</table>\n",
       "</div>"
      ],
      "text/plain": [
       "      Name    Education\n",
       "0    Alice  High School\n",
       "1      Bob      Masters\n",
       "2  Charlie          PhD\n",
       "3    David    Bachelors\n",
       "4      Eve  High School"
      ]
     },
     "execution_count": 13,
     "metadata": {},
     "output_type": "execute_result"
    }
   ],
   "source": [
    "data = {\n",
    "    \"Name\": [\"Alice\", \"Bob\", \"Charlie\", \"David\", \"Eve\"],\n",
    "    \"Education\": [\"High School\", \"Masters\", \"PhD\", \"Bachelors\", \"High School\"]\n",
    "}\n",
    "\n",
    "sample_df = pd.DataFrame(data)\n",
    "sample_df"
   ]
  },
  {
   "cell_type": "code",
   "execution_count": 14,
   "id": "dc7955be",
   "metadata": {},
   "outputs": [],
   "source": [
    "# Defining the order of the variables\n",
    "edu_order = [\"High School\", \"Bachelors\", \"Masters\", \"PhD\"]\n",
    "\n",
    "# Converting the Education column into a categorical column\n",
    "sample_df[\"Education\"] = pd.Categorical(sample_df[\"Education\"], categories=edu_order, ordered=True)"
   ]
  },
  {
   "cell_type": "code",
   "execution_count": 15,
   "id": "23dd64b7",
   "metadata": {},
   "outputs": [
    {
     "name": "stdout",
     "output_type": "stream",
     "text": [
      "<class 'pandas.core.frame.DataFrame'>\n",
      "RangeIndex: 5 entries, 0 to 4\n",
      "Data columns (total 2 columns):\n",
      " #   Column     Non-Null Count  Dtype   \n",
      "---  ------     --------------  -----   \n",
      " 0   Name       5 non-null      object  \n",
      " 1   Education  5 non-null      category\n",
      "dtypes: category(1), object(1)\n",
      "memory usage: 381.0+ bytes\n"
     ]
    },
    {
     "data": {
      "text/plain": [
       "0    High School\n",
       "1        Masters\n",
       "2            PhD\n",
       "3      Bachelors\n",
       "4    High School\n",
       "Name: Education, dtype: category\n",
       "Categories (4, object): ['High School' < 'Bachelors' < 'Masters' < 'PhD']"
      ]
     },
     "execution_count": 15,
     "metadata": {},
     "output_type": "execute_result"
    }
   ],
   "source": [
    "sample_df.info()\n",
    "sample_df[\"Education\"].head()"
   ]
  },
  {
   "cell_type": "code",
   "execution_count": 16,
   "id": "390521d9",
   "metadata": {},
   "outputs": [
    {
     "name": "stdout",
     "output_type": "stream",
     "text": [
      "[NaN, NaN, NaN, NaN, NaN]\n",
      "Categories (5, int64): [5 < 4 < 3 < 2 < 1]\n"
     ]
    }
   ],
   "source": [
    "# Another example\n",
    "adf_list = pd.Series([\"Bad\",\"Average\", \"Good\" , \"VGood\", \"Excellent\" ])\n",
    "adf = pd.Categorical( adf_list, categories=[5,4,3,2,1], ordered=True)\n",
    "\n",
    "print(adf)"
   ]
  },
  {
   "cell_type": "markdown",
   "id": "d57b733a",
   "metadata": {},
   "source": [
    "### NOTE : WE can apply logical filterng to an ordinal category  "
   ]
  },
  {
   "cell_type": "code",
   "execution_count": 17,
   "id": "4196b847",
   "metadata": {},
   "outputs": [
    {
     "data": {
      "text/html": [
       "<div>\n",
       "<style scoped>\n",
       "    .dataframe tbody tr th:only-of-type {\n",
       "        vertical-align: middle;\n",
       "    }\n",
       "\n",
       "    .dataframe tbody tr th {\n",
       "        vertical-align: top;\n",
       "    }\n",
       "\n",
       "    .dataframe thead th {\n",
       "        text-align: right;\n",
       "    }\n",
       "</style>\n",
       "<table border=\"1\" class=\"dataframe\">\n",
       "  <thead>\n",
       "    <tr style=\"text-align: right;\">\n",
       "      <th></th>\n",
       "      <th>Name</th>\n",
       "      <th>Education</th>\n",
       "    </tr>\n",
       "  </thead>\n",
       "  <tbody>\n",
       "    <tr>\n",
       "      <th>1</th>\n",
       "      <td>Bob</td>\n",
       "      <td>Masters</td>\n",
       "    </tr>\n",
       "    <tr>\n",
       "      <th>2</th>\n",
       "      <td>Charlie</td>\n",
       "      <td>PhD</td>\n",
       "    </tr>\n",
       "  </tbody>\n",
       "</table>\n",
       "</div>"
      ],
      "text/plain": [
       "      Name Education\n",
       "1      Bob   Masters\n",
       "2  Charlie       PhD"
      ]
     },
     "execution_count": 17,
     "metadata": {},
     "output_type": "execute_result"
    }
   ],
   "source": [
    "# Find all folks with Education level higher than Bachelors\n",
    "sample_df[sample_df[\"Education\"]>\"Bachelors\"]"
   ]
  },
  {
   "cell_type": "code",
   "execution_count": 18,
   "id": "a73f8c8d",
   "metadata": {},
   "outputs": [
    {
     "data": {
      "text/html": [
       "<div>\n",
       "<style scoped>\n",
       "    .dataframe tbody tr th:only-of-type {\n",
       "        vertical-align: middle;\n",
       "    }\n",
       "\n",
       "    .dataframe tbody tr th {\n",
       "        vertical-align: top;\n",
       "    }\n",
       "\n",
       "    .dataframe thead th {\n",
       "        text-align: right;\n",
       "    }\n",
       "</style>\n",
       "<table border=\"1\" class=\"dataframe\">\n",
       "  <thead>\n",
       "    <tr style=\"text-align: right;\">\n",
       "      <th></th>\n",
       "      <th>Name</th>\n",
       "      <th>Education</th>\n",
       "    </tr>\n",
       "  </thead>\n",
       "  <tbody>\n",
       "    <tr>\n",
       "      <th>2</th>\n",
       "      <td>Charlie</td>\n",
       "      <td>PhD</td>\n",
       "    </tr>\n",
       "    <tr>\n",
       "      <th>1</th>\n",
       "      <td>Bob</td>\n",
       "      <td>Masters</td>\n",
       "    </tr>\n",
       "    <tr>\n",
       "      <th>3</th>\n",
       "      <td>David</td>\n",
       "      <td>Bachelors</td>\n",
       "    </tr>\n",
       "    <tr>\n",
       "      <th>0</th>\n",
       "      <td>Alice</td>\n",
       "      <td>High School</td>\n",
       "    </tr>\n",
       "    <tr>\n",
       "      <th>4</th>\n",
       "      <td>Eve</td>\n",
       "      <td>High School</td>\n",
       "    </tr>\n",
       "  </tbody>\n",
       "</table>\n",
       "</div>"
      ],
      "text/plain": [
       "      Name    Education\n",
       "2  Charlie          PhD\n",
       "1      Bob      Masters\n",
       "3    David    Bachelors\n",
       "0    Alice  High School\n",
       "4      Eve  High School"
      ]
     },
     "execution_count": 18,
     "metadata": {},
     "output_type": "execute_result"
    }
   ],
   "source": [
    "# Also soring will be in logical order as opposed to lexical order\n",
    "sample_df.sort_values(\"Education\")\n",
    "\n",
    "sample_df.sort_values(\"Education\", ascending=False)"
   ]
  },
  {
   "cell_type": "markdown",
   "id": "d6afb51c",
   "metadata": {},
   "source": [
    "### Assiging dtypes while loading a dataset\n",
    "- Using the `dtype` argument to pass `key-value` combinations with:\n",
    "    - column name as the Key and \n",
    "    - required dtype as the value\n",
    "\n",
    "In below example , converting a column during the initial datafrmae creation step itself"
   ]
  },
  {
   "cell_type": "code",
   "execution_count": 19,
   "id": "dcc62aa5",
   "metadata": {},
   "outputs": [],
   "source": [
    "status_dtypes = {\"Marital Status\":\"category\"}\n",
    "new_adults = pd.read_csv(\"./grownups_census.csv\", dtype=status_dtypes)"
   ]
  },
  {
   "cell_type": "code",
   "execution_count": 20,
   "id": "042c4c46",
   "metadata": {},
   "outputs": [
    {
     "name": "stdout",
     "output_type": "stream",
     "text": [
      "<class 'pandas.core.frame.DataFrame'>\n",
      "RangeIndex: 32561 entries, 0 to 32560\n",
      "Data columns (total 15 columns):\n",
      " #   Column           Non-Null Count  Dtype   \n",
      "---  ------           --------------  -----   \n",
      " 0   Age              32561 non-null  int64   \n",
      " 1   Workclass        32561 non-null  object  \n",
      " 2   fnlgwt           32561 non-null  int64   \n",
      " 3   Education        32561 non-null  object  \n",
      " 4   Education Num    32561 non-null  int64   \n",
      " 5   Marital Status   32561 non-null  category\n",
      " 6   Occupation       32561 non-null  object  \n",
      " 7   Relationship     32561 non-null  object  \n",
      " 8   Race             32561 non-null  object  \n",
      " 9   Sex              32561 non-null  object  \n",
      " 10  Capital Gain     32561 non-null  int64   \n",
      " 11  Capital Loss     32561 non-null  int64   \n",
      " 12  Hours/Week       32561 non-null  int64   \n",
      " 13  Country          32561 non-null  object  \n",
      " 14  Above/Below 50k  32561 non-null  object  \n",
      "dtypes: category(1), int64(6), object(8)\n",
      "memory usage: 3.5+ MB\n"
     ]
    }
   ],
   "source": [
    "new_adults.info()"
   ]
  },
  {
   "cell_type": "code",
   "execution_count": 21,
   "id": "0c6add28",
   "metadata": {},
   "outputs": [
    {
     "name": "stdout",
     "output_type": "stream",
     "text": [
      "<class 'pandas.core.frame.DataFrame'>\n",
      "RangeIndex: 32561 entries, 0 to 32560\n",
      "Data columns (total 15 columns):\n",
      " #   Column           Non-Null Count  Dtype \n",
      "---  ------           --------------  ----- \n",
      " 0   Age              32561 non-null  int64 \n",
      " 1   Workclass        32561 non-null  object\n",
      " 2   fnlgwt           32561 non-null  int64 \n",
      " 3   Education        32561 non-null  object\n",
      " 4   Education Num    32561 non-null  int64 \n",
      " 5   Marital Status   32561 non-null  object\n",
      " 6   Occupation       32561 non-null  object\n",
      " 7   Relationship     32561 non-null  object\n",
      " 8   Race             32561 non-null  object\n",
      " 9   Sex              32561 non-null  object\n",
      " 10  Capital Gain     32561 non-null  int64 \n",
      " 11  Capital Loss     32561 non-null  int64 \n",
      " 12  Hours/Week       32561 non-null  int64 \n",
      " 13  Country          32561 non-null  object\n",
      " 14  Above/Below 50k  32561 non-null  object\n",
      "dtypes: int64(6), object(9)\n",
      "memory usage: 3.7+ MB\n"
     ]
    }
   ],
   "source": [
    "adults.info()"
   ]
  },
  {
   "cell_type": "markdown",
   "id": "64b473df",
   "metadata": {},
   "source": [
    "> As observed upon calling `info()` of both the dataframes, assigning category dtype to even one columns resulted in the new dataframe having a significantly lower memory usage (difference of almost 2MB)"
   ]
  },
  {
   "cell_type": "code",
   "execution_count": 22,
   "id": "b2dd0f11",
   "metadata": {},
   "outputs": [
    {
     "data": {
      "text/plain": [
       "['small', 'medium', 'large', 'medium']"
      ]
     },
     "execution_count": 22,
     "metadata": {},
     "output_type": "execute_result"
    }
   ],
   "source": [
    "aa"
   ]
  },
  {
   "cell_type": "code",
   "execution_count": 23,
   "id": "f3d74ada",
   "metadata": {},
   "outputs": [
    {
     "data": {
      "text/plain": [
       "0     small\n",
       "1    medium\n",
       "2     large\n",
       "3    medium\n",
       "dtype: category\n",
       "Categories (3, object): ['large', 'medium', 'small']"
      ]
     },
     "execution_count": 23,
     "metadata": {},
     "output_type": "execute_result"
    }
   ],
   "source": [
    "pd.Series(aa, dtype=\"category\")"
   ]
  },
  {
   "cell_type": "markdown",
   "id": "c8941f31",
   "metadata": {},
   "source": [
    "### Converting on sample dataset\n",
    "Now , converting the columns - `\"Workclass\"`, `\"Education\"`, `\"Relationship\"`, and `\"Above/Below 50k\"` of the adult_Census dataframe into categories"
   ]
  },
  {
   "cell_type": "code",
   "execution_count": 24,
   "id": "63310b66",
   "metadata": {},
   "outputs": [
    {
     "name": "stdout",
     "output_type": "stream",
     "text": [
      "<class 'pandas.core.frame.DataFrame'>\n",
      "RangeIndex: 32561 entries, 0 to 32560\n",
      "Data columns (total 15 columns):\n",
      " #   Column           Non-Null Count  Dtype \n",
      "---  ------           --------------  ----- \n",
      " 0   Age              32561 non-null  int64 \n",
      " 1   Workclass        32561 non-null  object\n",
      " 2   fnlgwt           32561 non-null  int64 \n",
      " 3   Education        32561 non-null  object\n",
      " 4   Education Num    32561 non-null  int64 \n",
      " 5   Marital Status   32561 non-null  object\n",
      " 6   Occupation       32561 non-null  object\n",
      " 7   Relationship     32561 non-null  object\n",
      " 8   Race             32561 non-null  object\n",
      " 9   Sex              32561 non-null  object\n",
      " 10  Capital Gain     32561 non-null  int64 \n",
      " 11  Capital Loss     32561 non-null  int64 \n",
      " 12  Hours/Week       32561 non-null  int64 \n",
      " 13  Country          32561 non-null  object\n",
      " 14  Above/Below 50k  32561 non-null  object\n",
      "dtypes: int64(6), object(9)\n",
      "memory usage: 3.7+ MB\n"
     ]
    }
   ],
   "source": [
    "# Before dtype conversion -- \n",
    "adults.info()"
   ]
  },
  {
   "cell_type": "code",
   "execution_count": 25,
   "id": "bd3bdd6e",
   "metadata": {},
   "outputs": [],
   "source": [
    "# After conversion of column dtypes --\n",
    "change_dtype = [\"Workclass\", \"Education\" , \"Relationship\", \"Above/Below 50k\"]\n",
    "adults[change_dtype] = adults[change_dtype].astype(\"category\")"
   ]
  },
  {
   "cell_type": "code",
   "execution_count": 26,
   "id": "4955ca42",
   "metadata": {},
   "outputs": [
    {
     "name": "stdout",
     "output_type": "stream",
     "text": [
      "<class 'pandas.core.frame.DataFrame'>\n",
      "RangeIndex: 32561 entries, 0 to 32560\n",
      "Data columns (total 15 columns):\n",
      " #   Column           Non-Null Count  Dtype   \n",
      "---  ------           --------------  -----   \n",
      " 0   Age              32561 non-null  int64   \n",
      " 1   Workclass        32561 non-null  category\n",
      " 2   fnlgwt           32561 non-null  int64   \n",
      " 3   Education        32561 non-null  category\n",
      " 4   Education Num    32561 non-null  int64   \n",
      " 5   Marital Status   32561 non-null  object  \n",
      " 6   Occupation       32561 non-null  object  \n",
      " 7   Relationship     32561 non-null  category\n",
      " 8   Race             32561 non-null  object  \n",
      " 9   Sex              32561 non-null  object  \n",
      " 10  Capital Gain     32561 non-null  int64   \n",
      " 11  Capital Loss     32561 non-null  int64   \n",
      " 12  Hours/Week       32561 non-null  int64   \n",
      " 13  Country          32561 non-null  object  \n",
      " 14  Above/Below 50k  32561 non-null  category\n",
      "dtypes: category(4), int64(6), object(5)\n",
      "memory usage: 2.9+ MB\n"
     ]
    }
   ],
   "source": [
    "adults.info()"
   ]
  },
  {
   "cell_type": "markdown",
   "id": "2ba2b2d5",
   "metadata": {},
   "source": [
    "> We can see a remarkable drop in the memory usage of the dataframe -- from 3.7MB to 2.9MB\n",
    "______\n",
    "### Grouping data by categories\n",
    "\n",
    "Use of `.groupby()` ;  Helpful when trying to get catrgory-wise statistical insigts\n",
    "\n",
    "**NOTE** - For some versions of python, We might need to pass `observer` parameter as False since we're grouping by columns that have a categorical dtype. "
   ]
  },
  {
   "cell_type": "code",
   "execution_count": 27,
   "id": "6c05abbd",
   "metadata": {},
   "outputs": [
    {
     "name": "stdout",
     "output_type": "stream",
     "text": [
      "Index(['Age', 'fnlgwt', 'Education Num', 'Capital Gain', 'Capital Loss',\n",
      "       'Hours/Week'],\n",
      "      dtype='object')\n"
     ]
    }
   ],
   "source": [
    "print(adults.select_dtypes(\"int\").columns)"
   ]
  },
  {
   "cell_type": "code",
   "execution_count": 28,
   "id": "c0388887",
   "metadata": {},
   "outputs": [
    {
     "name": "stderr",
     "output_type": "stream",
     "text": [
      "C:\\Users\\abhijeet.bhambere\\AppData\\Local\\Temp\\ipykernel_20356\\3214560366.py:2: FutureWarning: The default of observed=False is deprecated and will be changed to True in a future version of pandas. Pass observed=False to retain current behavior or observed=True to adopt the future default and silence this warning.\n",
      "  adults.groupby(by=\"Above/Below 50k\")[adults.select_dtypes('number').columns].mean()\n"
     ]
    },
    {
     "data": {
      "text/html": [
       "<div>\n",
       "<style scoped>\n",
       "    .dataframe tbody tr th:only-of-type {\n",
       "        vertical-align: middle;\n",
       "    }\n",
       "\n",
       "    .dataframe tbody tr th {\n",
       "        vertical-align: top;\n",
       "    }\n",
       "\n",
       "    .dataframe thead th {\n",
       "        text-align: right;\n",
       "    }\n",
       "</style>\n",
       "<table border=\"1\" class=\"dataframe\">\n",
       "  <thead>\n",
       "    <tr style=\"text-align: right;\">\n",
       "      <th></th>\n",
       "      <th>Age</th>\n",
       "      <th>fnlgwt</th>\n",
       "      <th>Education Num</th>\n",
       "      <th>Capital Gain</th>\n",
       "      <th>Capital Loss</th>\n",
       "      <th>Hours/Week</th>\n",
       "    </tr>\n",
       "    <tr>\n",
       "      <th>Above/Below 50k</th>\n",
       "      <th></th>\n",
       "      <th></th>\n",
       "      <th></th>\n",
       "      <th></th>\n",
       "      <th></th>\n",
       "      <th></th>\n",
       "    </tr>\n",
       "  </thead>\n",
       "  <tbody>\n",
       "    <tr>\n",
       "      <th>&lt;=50K</th>\n",
       "      <td>36.783738</td>\n",
       "      <td>190340.86517</td>\n",
       "      <td>9.595065</td>\n",
       "      <td>148.752468</td>\n",
       "      <td>53.142921</td>\n",
       "      <td>38.840210</td>\n",
       "    </tr>\n",
       "    <tr>\n",
       "      <th>&gt;50K</th>\n",
       "      <td>44.249841</td>\n",
       "      <td>188005.00000</td>\n",
       "      <td>11.611657</td>\n",
       "      <td>4006.142456</td>\n",
       "      <td>195.001530</td>\n",
       "      <td>45.473026</td>\n",
       "    </tr>\n",
       "  </tbody>\n",
       "</table>\n",
       "</div>"
      ],
      "text/plain": [
       "                       Age        fnlgwt  Education Num  Capital Gain  \\\n",
       "Above/Below 50k                                                         \n",
       "<=50K            36.783738  190340.86517       9.595065    148.752468   \n",
       ">50K             44.249841  188005.00000      11.611657   4006.142456   \n",
       "\n",
       "                 Capital Loss  Hours/Week  \n",
       "Above/Below 50k                            \n",
       "<=50K               53.142921   38.840210  \n",
       ">50K               195.001530   45.473026  "
      ]
     },
     "execution_count": 28,
     "metadata": {},
     "output_type": "execute_result"
    }
   ],
   "source": [
    "# Groups by the column \"Above/Below 50k\" ; returns mean of all numeric columns\n",
    "adults.groupby(by=\"Above/Below 50k\")[adults.select_dtypes('number').columns].mean()"
   ]
  },
  {
   "cell_type": "code",
   "execution_count": 29,
   "id": "8ae7edf1",
   "metadata": {},
   "outputs": [
    {
     "name": "stderr",
     "output_type": "stream",
     "text": [
      "C:\\Users\\abhijeet.bhambere\\AppData\\Local\\Temp\\ipykernel_20356\\1287522727.py:2: FutureWarning: The default of observed=False is deprecated and will be changed to True in a future version of pandas. Pass observed=False to retain current behavior or observed=True to adopt the future default and silence this warning.\n",
      "  adults.groupby(by=[\"Above/Below 50k\",\"Marital Status\"])[\"Age\"].median()\n"
     ]
    },
    {
     "data": {
      "text/plain": [
       "Above/Below 50k  Marital Status       \n",
       "<=50K            Divorced                 42.0\n",
       "                 Married-AF-spouse        30.0\n",
       "                 Married-civ-spouse       40.0\n",
       "                 Married-spouse-absent    39.0\n",
       "                 Never-married            25.0\n",
       "                 Separated                38.0\n",
       "                 Widowed                  60.0\n",
       ">50K             Divorced                 45.0\n",
       "                 Married-AF-spouse        29.5\n",
       "                 Married-civ-spouse       44.0\n",
       "                 Married-spouse-absent    47.5\n",
       "                 Never-married            36.0\n",
       "                 Separated                42.0\n",
       "                 Widowed                  58.0\n",
       "Name: Age, dtype: float64"
      ]
     },
     "execution_count": 29,
     "metadata": {},
     "output_type": "execute_result"
    }
   ],
   "source": [
    "# Grouping by multiple columns for Age column's median\n",
    "adults.groupby(by=[\"Above/Below 50k\",\"Marital Status\"])[\"Age\"].median()"
   ]
  },
  {
   "cell_type": "markdown",
   "id": "0bc30a63",
   "metadata": {},
   "source": [
    "______\n",
    "### TEST QUESTIONS\n",
    "**Q - find the mean Age of adults when grouping by the following categories:**\n",
    "\n",
    "- \"Workclass\" (which has 9 categories)\n",
    "- \"Above/Below 50k\" (which has 2 categories)\n",
    "- \"Education\" (which has 16 categories)."
   ]
  },
  {
   "cell_type": "code",
   "execution_count": 30,
   "id": "ec50ca17",
   "metadata": {},
   "outputs": [
    {
     "data": {
      "text/html": [
       "<div>\n",
       "<style scoped>\n",
       "    .dataframe tbody tr th:only-of-type {\n",
       "        vertical-align: middle;\n",
       "    }\n",
       "\n",
       "    .dataframe tbody tr th {\n",
       "        vertical-align: top;\n",
       "    }\n",
       "\n",
       "    .dataframe thead th {\n",
       "        text-align: right;\n",
       "    }\n",
       "</style>\n",
       "<table border=\"1\" class=\"dataframe\">\n",
       "  <thead>\n",
       "    <tr style=\"text-align: right;\">\n",
       "      <th></th>\n",
       "      <th></th>\n",
       "      <th></th>\n",
       "      <th>Age</th>\n",
       "    </tr>\n",
       "    <tr>\n",
       "      <th>Workclass</th>\n",
       "      <th>Above/Below 50k</th>\n",
       "      <th>Education</th>\n",
       "      <th></th>\n",
       "    </tr>\n",
       "  </thead>\n",
       "  <tbody>\n",
       "    <tr>\n",
       "      <th rowspan=\"5\" valign=\"top\">?</th>\n",
       "      <th rowspan=\"5\" valign=\"top\">&lt;=50K</th>\n",
       "      <th>10th</th>\n",
       "      <td>33.357143</td>\n",
       "    </tr>\n",
       "    <tr>\n",
       "      <th>11th</th>\n",
       "      <td>32.372881</td>\n",
       "    </tr>\n",
       "    <tr>\n",
       "      <th>12th</th>\n",
       "      <td>30.736842</td>\n",
       "    </tr>\n",
       "    <tr>\n",
       "      <th>1st-4th</th>\n",
       "      <td>63.833333</td>\n",
       "    </tr>\n",
       "    <tr>\n",
       "      <th>5th-6th</th>\n",
       "      <td>53.642857</td>\n",
       "    </tr>\n",
       "    <tr>\n",
       "      <th>...</th>\n",
       "      <th>...</th>\n",
       "      <th>...</th>\n",
       "      <td>...</td>\n",
       "    </tr>\n",
       "    <tr>\n",
       "      <th rowspan=\"5\" valign=\"top\">Without-pay</th>\n",
       "      <th rowspan=\"5\" valign=\"top\">&gt;50K</th>\n",
       "      <th>HS-grad</th>\n",
       "      <td>NaN</td>\n",
       "    </tr>\n",
       "    <tr>\n",
       "      <th>Masters</th>\n",
       "      <td>NaN</td>\n",
       "    </tr>\n",
       "    <tr>\n",
       "      <th>Preschool</th>\n",
       "      <td>NaN</td>\n",
       "    </tr>\n",
       "    <tr>\n",
       "      <th>Prof-school</th>\n",
       "      <td>NaN</td>\n",
       "    </tr>\n",
       "    <tr>\n",
       "      <th>Some-college</th>\n",
       "      <td>NaN</td>\n",
       "    </tr>\n",
       "  </tbody>\n",
       "</table>\n",
       "<p>288 rows × 1 columns</p>\n",
       "</div>"
      ],
      "text/plain": [
       "                                                Age\n",
       "Workclass   Above/Below 50k Education              \n",
       "?           <=50K           10th          33.357143\n",
       "                            11th          32.372881\n",
       "                            12th          30.736842\n",
       "                            1st-4th       63.833333\n",
       "                            5th-6th       53.642857\n",
       "...                                             ...\n",
       "Without-pay >50K            HS-grad             NaN\n",
       "                            Masters             NaN\n",
       "                            Preschool           NaN\n",
       "                            Prof-school         NaN\n",
       "                            Some-college        NaN\n",
       "\n",
       "[288 rows x 1 columns]"
      ]
     },
     "execution_count": 30,
     "metadata": {},
     "output_type": "execute_result"
    }
   ],
   "source": [
    "\n",
    "adults.groupby(by=[\"Workclass\",\"Above/Below 50k\",\"Education\"], observed=False)[[\"Age\"]].mean()"
   ]
  },
  {
   "cell_type": "code",
   "execution_count": 31,
   "id": "dfad74e3",
   "metadata": {},
   "outputs": [],
   "source": [
    "gb = adults.groupby(by=[\"Workclass\",\"Above/Below 50k\",\"Education\"], observed=False)"
   ]
  },
  {
   "cell_type": "code",
   "execution_count": 32,
   "id": "e85ba419",
   "metadata": {},
   "outputs": [
    {
     "data": {
      "text/plain": [
       "208"
      ]
     },
     "execution_count": 32,
     "metadata": {},
     "output_type": "execute_result"
    }
   ],
   "source": [
    "gb.ngroups"
   ]
  },
  {
   "cell_type": "code",
   "execution_count": 33,
   "id": "bf87c522",
   "metadata": {},
   "outputs": [
    {
     "data": {
      "text/plain": [
       "Workclass    Above/Below 50k  Education   \n",
       "?            <=50K            10th             98\n",
       "                              11th            118\n",
       "                              12th             38\n",
       "                              1st-4th          12\n",
       "                              5th-6th          28\n",
       "                                             ... \n",
       "Without-pay  >50K             HS-grad           0\n",
       "                              Masters           0\n",
       "                              Preschool         0\n",
       "                              Prof-school       0\n",
       "                              Some-college      0\n",
       "Length: 288, dtype: int64"
      ]
     },
     "execution_count": 33,
     "metadata": {},
     "output_type": "execute_result"
    }
   ],
   "source": [
    "# Another way o fknowing groupby object summary\n",
    "gb.size()"
   ]
  },
  {
   "cell_type": "code",
   "execution_count": 34,
   "id": "a32a52d8",
   "metadata": {},
   "outputs": [
    {
     "data": {
      "text/plain": [
       "Sex     Above/Below 50k\n",
       "Female  <=50K               9592\n",
       "        >50K                1179\n",
       "Male    <=50K              15128\n",
       "        >50K                6662\n",
       "dtype: int64"
      ]
     },
     "execution_count": 34,
     "metadata": {},
     "output_type": "execute_result"
    }
   ],
   "source": [
    "adults.groupby(by=[\"Sex\",\"Above/Below 50k\"], observed=False).size()"
   ]
  },
  {
   "cell_type": "code",
   "execution_count": 35,
   "id": "9176a560",
   "metadata": {},
   "outputs": [
    {
     "data": {
      "image/png": "[encoded data removed]",
      "text/plain": [
       "<Figure size 640x480 with 2 Axes>"
      ]
     },
     "metadata": {},
     "output_type": "display_data"
    }
   ],
   "source": [
    "sns.heatmap(adults.corr(numeric_only=True), annot=True)\n",
    "plt.show()"
   ]
  },
  {
   "cell_type": "markdown",
   "id": "b16542ab",
   "metadata": {},
   "source": [
    "# Categoical pandas Series\n",
    "Learning of all methods available to apply on a pandas Series with dtype Category\n",
    "\n",
    "### Set / add / remove categories"
   ]
  },
  {
   "cell_type": "code",
   "execution_count": 36,
   "id": "8467e23d",
   "metadata": {},
   "outputs": [
    {
     "data": {
      "text/html": [
       "<div>\n",
       "<style scoped>\n",
       "    .dataframe tbody tr th:only-of-type {\n",
       "        vertical-align: middle;\n",
       "    }\n",
       "\n",
       "    .dataframe tbody tr th {\n",
       "        vertical-align: top;\n",
       "    }\n",
       "\n",
       "    .dataframe thead th {\n",
       "        text-align: right;\n",
       "    }\n",
       "</style>\n",
       "<table border=\"1\" class=\"dataframe\">\n",
       "  <thead>\n",
       "    <tr style=\"text-align: right;\">\n",
       "      <th></th>\n",
       "      <th>ID</th>\n",
       "      <th>name</th>\n",
       "      <th>age</th>\n",
       "      <th>sex</th>\n",
       "      <th>breed</th>\n",
       "      <th>date_found</th>\n",
       "      <th>adoptable_from</th>\n",
       "      <th>posted</th>\n",
       "      <th>color</th>\n",
       "      <th>coat</th>\n",
       "      <th>size</th>\n",
       "      <th>neutered</th>\n",
       "      <th>housebroken</th>\n",
       "      <th>likes_people</th>\n",
       "      <th>likes_children</th>\n",
       "      <th>get_along_males</th>\n",
       "      <th>get_along_females</th>\n",
       "      <th>get_along_cats</th>\n",
       "      <th>keep_in</th>\n",
       "    </tr>\n",
       "  </thead>\n",
       "  <tbody>\n",
       "    <tr>\n",
       "      <th>0</th>\n",
       "      <td>23807</td>\n",
       "      <td>Gida</td>\n",
       "      <td>0.25</td>\n",
       "      <td>female</td>\n",
       "      <td>Unknown Mix</td>\n",
       "      <td>12/10/19</td>\n",
       "      <td>12/11/19</td>\n",
       "      <td>12/11/19</td>\n",
       "      <td>red</td>\n",
       "      <td>short</td>\n",
       "      <td>small</td>\n",
       "      <td>no</td>\n",
       "      <td>NaN</td>\n",
       "      <td>NaN</td>\n",
       "      <td>NaN</td>\n",
       "      <td>NaN</td>\n",
       "      <td>NaN</td>\n",
       "      <td>NaN</td>\n",
       "      <td>NaN</td>\n",
       "    </tr>\n",
       "    <tr>\n",
       "      <th>1</th>\n",
       "      <td>533</td>\n",
       "      <td>Frida És Ricsi</td>\n",
       "      <td>0.17</td>\n",
       "      <td>female</td>\n",
       "      <td>Unknown Mix</td>\n",
       "      <td>12/1/19</td>\n",
       "      <td>12/1/19</td>\n",
       "      <td>12/9/19</td>\n",
       "      <td>black and white</td>\n",
       "      <td>short</td>\n",
       "      <td>small</td>\n",
       "      <td>no</td>\n",
       "      <td>NaN</td>\n",
       "      <td>yes</td>\n",
       "      <td>yes</td>\n",
       "      <td>yes</td>\n",
       "      <td>yes</td>\n",
       "      <td>yes</td>\n",
       "      <td>NaN</td>\n",
       "    </tr>\n",
       "  </tbody>\n",
       "</table>\n",
       "</div>"
      ],
      "text/plain": [
       "      ID            name   age     sex        breed date_found adoptable_from  \\\n",
       "0  23807            Gida  0.25  female  Unknown Mix   12/10/19       12/11/19   \n",
       "1    533  Frida És Ricsi  0.17  female  Unknown Mix    12/1/19        12/1/19   \n",
       "\n",
       "     posted            color   coat   size neutered housebroken likes_people  \\\n",
       "0  12/11/19              red  short  small       no         NaN          NaN   \n",
       "1   12/9/19  black and white  short  small       no         NaN          yes   \n",
       "\n",
       "  likes_children get_along_males get_along_females get_along_cats keep_in  \n",
       "0            NaN             NaN               NaN            NaN     NaN  \n",
       "1            yes             yes               yes            yes     NaN  "
      ]
     },
     "execution_count": 36,
     "metadata": {},
     "output_type": "execute_result"
    }
   ],
   "source": [
    "dogs = pd.read_csv(\"./Shelterdogs.csv\")\n",
    "dogs.head(2)"
   ]
  },
  {
   "cell_type": "code",
   "execution_count": 37,
   "id": "2d2af706",
   "metadata": {},
   "outputs": [
    {
     "name": "stdout",
     "output_type": "stream",
     "text": [
      "<class 'pandas.core.frame.DataFrame'>\n",
      "RangeIndex: 2937 entries, 0 to 2936\n",
      "Data columns (total 19 columns):\n",
      " #   Column             Non-Null Count  Dtype  \n",
      "---  ------             --------------  -----  \n",
      " 0   ID                 2937 non-null   int64  \n",
      " 1   name               2845 non-null   object \n",
      " 2   age                2937 non-null   float64\n",
      " 3   sex                2937 non-null   object \n",
      " 4   breed              2937 non-null   object \n",
      " 5   date_found         2937 non-null   object \n",
      " 6   adoptable_from     2937 non-null   object \n",
      " 7   posted             2937 non-null   object \n",
      " 8   color              2937 non-null   object \n",
      " 9   coat               2937 non-null   object \n",
      " 10  size               2937 non-null   object \n",
      " 11  neutered           1852 non-null   object \n",
      " 12  housebroken        460 non-null    object \n",
      " 13  likes_people       1999 non-null   object \n",
      " 14  likes_children     1219 non-null   object \n",
      " 15  get_along_males    1633 non-null   object \n",
      " 16  get_along_females  1673 non-null   object \n",
      " 17  get_along_cats     431 non-null    object \n",
      " 18  keep_in            1916 non-null   object \n",
      "dtypes: float64(1), int64(1), object(17)\n",
      "memory usage: 436.1+ KB\n"
     ]
    }
   ],
   "source": [
    "dogs.info()"
   ]
  },
  {
   "cell_type": "markdown",
   "id": "a203e907",
   "metadata": {},
   "source": [
    "Checking different columns for their value counts to identify which columns can be converted to categorical\n",
    "\n",
    "**NOTE:** set the `dropna` parameter to False to include even NaN values (if present) into the value_count result.\n"
   ]
  },
  {
   "cell_type": "code",
   "execution_count": 38,
   "id": "f7dc4274",
   "metadata": {},
   "outputs": [
    {
     "data": {
      "text/plain": [
       "coat\n",
       "short         1972\n",
       "medium         565\n",
       "wirehaired     220\n",
       "long           180\n",
       "Name: count, dtype: int64"
      ]
     },
     "execution_count": 38,
     "metadata": {},
     "output_type": "execute_result"
    }
   ],
   "source": [
    "dogs[\"coat\"].value_counts(dropna=False)"
   ]
  },
  {
   "cell_type": "markdown",
   "id": "137c2530",
   "metadata": {},
   "source": [
    "## The `Series.cat` accessor\n",
    "More details in [documentation](https://pandas.pydata.org/docs/reference/api/pandas.Series.cat.html). Most commonly used parameters:\n",
    "**Accessing Categorical Properties:**\n",
    "It allows direct access to properties unique to categorical data, such as:\n",
    "- `.cat.categories`: Returns the unique categories (labels) defined for the categorical data.\n",
    "- `.cat.ordered`: Indicates whether the categories have a defined order.\n",
    "- `.cat.codes`: Returns the integer codes assigned to each category, representing their underlying numerical representation.\n",
    "\n",
    "**Manipulating Categories:**\n",
    "The .cat accessor provides methods for modifying the categories themselves:\n",
    "- `.cat.rename_categories()`: Renames existing categories.\n",
    "- `.cat.reorder_categories()`: Changes the order of categories.\n",
    "- `.cat.add_categories()`: Adds new categories to the existing set.\n",
    "- `.cat.remove_categories()`: Removes specified categories.\n",
    "- `.cat.remove_unused_categories()`: Removes categories that are defined but not present in the data.\n",
    "- `.cat.set_categories()`: Sets a completely new set of categories.\n",
    "\n",
    "NOTE: The column dtype has to be convertd to category first."
   ]
  },
  {
   "cell_type": "code",
   "execution_count": 39,
   "id": "d011886e",
   "metadata": {},
   "outputs": [
    {
     "data": {
      "text/html": [
       "<div>\n",
       "<style scoped>\n",
       "    .dataframe tbody tr th:only-of-type {\n",
       "        vertical-align: middle;\n",
       "    }\n",
       "\n",
       "    .dataframe tbody tr th {\n",
       "        vertical-align: top;\n",
       "    }\n",
       "\n",
       "    .dataframe thead th {\n",
       "        text-align: right;\n",
       "    }\n",
       "</style>\n",
       "<table border=\"1\" class=\"dataframe\">\n",
       "  <thead>\n",
       "    <tr style=\"text-align: right;\">\n",
       "      <th></th>\n",
       "      <th>ID</th>\n",
       "      <th>name</th>\n",
       "      <th>age</th>\n",
       "      <th>sex</th>\n",
       "      <th>breed</th>\n",
       "      <th>date_found</th>\n",
       "      <th>adoptable_from</th>\n",
       "      <th>posted</th>\n",
       "      <th>color</th>\n",
       "      <th>coat</th>\n",
       "      <th>size</th>\n",
       "      <th>neutered</th>\n",
       "      <th>housebroken</th>\n",
       "      <th>likes_people</th>\n",
       "      <th>likes_children</th>\n",
       "      <th>get_along_males</th>\n",
       "      <th>get_along_females</th>\n",
       "      <th>get_along_cats</th>\n",
       "      <th>keep_in</th>\n",
       "    </tr>\n",
       "  </thead>\n",
       "  <tbody>\n",
       "    <tr>\n",
       "      <th>0</th>\n",
       "      <td>23807</td>\n",
       "      <td>Gida</td>\n",
       "      <td>0.25</td>\n",
       "      <td>female</td>\n",
       "      <td>Unknown Mix</td>\n",
       "      <td>12/10/19</td>\n",
       "      <td>12/11/19</td>\n",
       "      <td>12/11/19</td>\n",
       "      <td>red</td>\n",
       "      <td>short</td>\n",
       "      <td>small</td>\n",
       "      <td>no</td>\n",
       "      <td>NaN</td>\n",
       "      <td>NaN</td>\n",
       "      <td>NaN</td>\n",
       "      <td>NaN</td>\n",
       "      <td>NaN</td>\n",
       "      <td>NaN</td>\n",
       "      <td>NaN</td>\n",
       "    </tr>\n",
       "    <tr>\n",
       "      <th>1</th>\n",
       "      <td>533</td>\n",
       "      <td>Frida És Ricsi</td>\n",
       "      <td>0.17</td>\n",
       "      <td>female</td>\n",
       "      <td>Unknown Mix</td>\n",
       "      <td>12/1/19</td>\n",
       "      <td>12/1/19</td>\n",
       "      <td>12/9/19</td>\n",
       "      <td>black and white</td>\n",
       "      <td>short</td>\n",
       "      <td>small</td>\n",
       "      <td>no</td>\n",
       "      <td>NaN</td>\n",
       "      <td>yes</td>\n",
       "      <td>yes</td>\n",
       "      <td>yes</td>\n",
       "      <td>yes</td>\n",
       "      <td>yes</td>\n",
       "      <td>NaN</td>\n",
       "    </tr>\n",
       "  </tbody>\n",
       "</table>\n",
       "</div>"
      ],
      "text/plain": [
       "      ID            name   age     sex        breed date_found adoptable_from  \\\n",
       "0  23807            Gida  0.25  female  Unknown Mix   12/10/19       12/11/19   \n",
       "1    533  Frida És Ricsi  0.17  female  Unknown Mix    12/1/19        12/1/19   \n",
       "\n",
       "     posted            color   coat   size neutered housebroken likes_people  \\\n",
       "0  12/11/19              red  short  small       no         NaN          NaN   \n",
       "1   12/9/19  black and white  short  small       no         NaN          yes   \n",
       "\n",
       "  likes_children get_along_males get_along_females get_along_cats keep_in  \n",
       "0            NaN             NaN               NaN            NaN     NaN  \n",
       "1            yes             yes               yes            yes     NaN  "
      ]
     },
     "execution_count": 39,
     "metadata": {},
     "output_type": "execute_result"
    }
   ],
   "source": [
    "new_dogsdf = pd.read_csv(\"./Shelterdogs.csv\")\n",
    "new_dogsdf.head(2)"
   ]
  },
  {
   "cell_type": "code",
   "execution_count": 40,
   "id": "102cde7c",
   "metadata": {},
   "outputs": [
    {
     "data": {
      "text/plain": [
       "coat\n",
       "short         1972\n",
       "medium         565\n",
       "wirehaired     220\n",
       "long           180\n",
       "Name: count, dtype: int64"
      ]
     },
     "execution_count": 40,
     "metadata": {},
     "output_type": "execute_result"
    }
   ],
   "source": [
    "new_dogsdf[\"coat\"].value_counts()"
   ]
  },
  {
   "cell_type": "code",
   "execution_count": 41,
   "id": "763714fd",
   "metadata": {},
   "outputs": [],
   "source": [
    "# Converting dtype to category\n",
    "new_dogsdf[\"coat\"] = new_dogsdf[\"coat\"].astype(\"category\")"
   ]
  },
  {
   "cell_type": "code",
   "execution_count": 42,
   "id": "eaf8c735",
   "metadata": {},
   "outputs": [
    {
     "data": {
      "text/plain": [
       "CategoricalDtype(categories=['long', 'medium', 'short', 'wirehaired'], ordered=False, categories_dtype=object)"
      ]
     },
     "execution_count": 42,
     "metadata": {},
     "output_type": "execute_result"
    }
   ],
   "source": [
    "new_dogsdf[\"coat\"].dtype"
   ]
  },
  {
   "cell_type": "code",
   "execution_count": 43,
   "id": "ebb8fe74",
   "metadata": {},
   "outputs": [
    {
     "data": {
      "text/plain": [
       "0     short\n",
       "1     short\n",
       "2     short\n",
       "3    medium\n",
       "4     short\n",
       "Name: coat, dtype: category\n",
       "Categories (3, object): ['short', 'medium', 'long']"
      ]
     },
     "execution_count": 43,
     "metadata": {},
     "output_type": "execute_result"
    }
   ],
   "source": [
    "# Setting categories -- unordered\n",
    "new_dogsdf[\"coat\"] = new_dogsdf[\"coat\"].cat.set_categories(new_categories=[\"short\", \"medium\", \"long\"])\n",
    "new_dogsdf[\"coat\"].head()"
   ]
  },
  {
   "cell_type": "code",
   "execution_count": 44,
   "id": "d9c52881",
   "metadata": {},
   "outputs": [
    {
     "data": {
      "text/plain": [
       "coat\n",
       "short     1972\n",
       "medium     565\n",
       "NaN        220\n",
       "long       180\n",
       "Name: count, dtype: int64"
      ]
     },
     "execution_count": 44,
     "metadata": {},
     "output_type": "execute_result"
    }
   ],
   "source": [
    "# Values not listed in categories list have been dropped \n",
    "new_dogsdf[\"coat\"].value_counts(dropna=False)"
   ]
  },
  {
   "cell_type": "code",
   "execution_count": 45,
   "id": "66783e84",
   "metadata": {},
   "outputs": [
    {
     "data": {
      "text/plain": [
       "0     short\n",
       "1     short\n",
       "2     short\n",
       "3    medium\n",
       "4     short\n",
       "Name: coat, dtype: category\n",
       "Categories (3, object): ['short' < 'medium' < 'long']"
      ]
     },
     "execution_count": 45,
     "metadata": {},
     "output_type": "execute_result"
    }
   ],
   "source": [
    "# Setting categories -- Ordered\n",
    "new_dogsdf[\"coat\"] = new_dogsdf[\"coat\"].cat.set_categories(new_categories=[\"short\", \"medium\", \"long\"], ordered=True)\n",
    "new_dogsdf[\"coat\"].head()"
   ]
  },
  {
   "cell_type": "markdown",
   "id": "a48ce6a9",
   "metadata": {},
   "source": [
    "Notice how the rows with 'wirehaired' entry previously now have NaN instead. \n",
    "\n",
    "This is because there is no category assigned while setting the `new_categories` in the latest update to the dataframe (i.e. when the `.cat.set_categories()` method was applied)\n",
    "\n",
    "**Adding the remaining category using `.cat.add_categories()` method :**"
   ]
  },
  {
   "cell_type": "code",
   "execution_count": 56,
   "id": "164dfa4d",
   "metadata": {},
   "outputs": [],
   "source": [
    "new_dogsdf[\"coat\"] = new_dogsdf[\"coat\"].cat.add_categories(new_categories=[\"wirehaired\"])"
   ]
  },
  {
   "cell_type": "markdown",
   "id": "7d6be4aa",
   "metadata": {},
   "source": [
    "**NOTE that this only adds a new categorical variable that _CAN BE_ assigned but It is yet to be assigned in the column values.** \n",
    "\n",
    "Assigning one of these categorical variables to the rows is done using filtering of rows by various conditions (filtering)OR by methods\\ accessors(`loc`\\ `iloc`) based on observations / domain knowledge.\n",
    "\n",
    "\n",
    "______\n",
    "### TEST QUESTIONS - \n",
    "**Q - One of the most common questions they have been receiving lately is: \"What type of area was the dog previously kept in?\".** <br> \n",
    "You are setting up a pipeline to do some analysis and want to look into what information is available regarding the \"keep_in\" variable."
   ]
  },
  {
   "cell_type": "code",
   "execution_count": 61,
   "id": "c64fc14a",
   "metadata": {},
   "outputs": [
    {
     "data": {
      "text/plain": [
       "keep_in\n",
       "both flat and garden    1224\n",
       "NaN                     1021\n",
       "garden                   510\n",
       "flat                     182\n",
       "Name: count, dtype: int64"
      ]
     },
     "execution_count": 61,
     "metadata": {},
     "output_type": "execute_result"
    }
   ],
   "source": [
    "new_dogsdf[\"keep_in\"].value_counts(dropna=False)"
   ]
  },
  {
   "cell_type": "markdown",
   "id": "15722f24",
   "metadata": {},
   "source": [
    ">This shows there are about 1K records without any information on area to keep the dog in"
   ]
  },
  {
   "cell_type": "code",
   "execution_count": 64,
   "id": "09a75cc5",
   "metadata": {},
   "outputs": [],
   "source": [
    "new_dogsdf[\"keep_in\"] = new_dogsdf[\"keep_in\"].astype(\"category\")"
   ]
  },
  {
   "cell_type": "code",
   "execution_count": 65,
   "id": "d8fac1bd",
   "metadata": {},
   "outputs": [
    {
     "data": {
      "text/plain": [
       "0                        NaN\n",
       "1                        NaN\n",
       "2                        NaN\n",
       "3                        NaN\n",
       "4                        NaN\n",
       "                ...         \n",
       "2932                  garden\n",
       "2933                     NaN\n",
       "2934                     NaN\n",
       "2935                     NaN\n",
       "2936    both flat and garden\n",
       "Name: keep_in, Length: 2937, dtype: category\n",
       "Categories (3, object): ['both flat and garden', 'flat', 'garden']"
      ]
     },
     "execution_count": 65,
     "metadata": {},
     "output_type": "execute_result"
    }
   ],
   "source": [
    "pd.Series(new_dogsdf[\"keep_in\"]).astype(\"category\")"
   ]
  },
  {
   "cell_type": "code",
   "execution_count": 66,
   "id": "cb05e23e",
   "metadata": {},
   "outputs": [],
   "source": [
    "new_categories = [\"Unknown History\", \"Open Yard (Countryside)\"]\n",
    "new_dogsdf[\"keep_in\"] = new_dogsdf[\"keep_in\"].cat.add_categories(new_categories = new_categories)"
   ]
  },
  {
   "cell_type": "code",
   "execution_count": 67,
   "id": "c87bc188",
   "metadata": {},
   "outputs": [
    {
     "data": {
      "text/plain": [
       "0    NaN\n",
       "1    NaN\n",
       "2    NaN\n",
       "3    NaN\n",
       "4    NaN\n",
       "Name: keep_in, dtype: category\n",
       "Categories (5, object): ['both flat and garden', 'flat', 'garden', 'Unknown History', 'Open Yard (Countryside)']"
      ]
     },
     "execution_count": 67,
     "metadata": {},
     "output_type": "execute_result"
    }
   ],
   "source": [
    "new_dogsdf[\"keep_in\"].head()"
   ]
  },
  {
   "cell_type": "markdown",
   "id": "3e948938",
   "metadata": {},
   "source": [
    "Before adopting dogs, parents might want to know whether or not a new dog likes children. When looking at the adoptable dogs dataset, dogs, you notice that the frequency of responses for the categorical Series \"likes_children\" has 'maybe'as one of the ctegorical variables.\n",
    "\n",
    "**Q - The owner of the data wants to convert all \"maybe\" responses to \"no\", as it would be unsafe to let a family adapt a dog if it doesn't like children.**"
   ]
  },
  {
   "cell_type": "code",
   "execution_count": null,
   "id": "560b0856",
   "metadata": {},
   "outputs": [],
   "source": [
    "new_dogsdf[\"keep_in\"].cat.remove_categories(removals=)"
   ]
  },
  {
   "cell_type": "code",
   "execution_count": null,
   "id": "afe58a5a",
   "metadata": {},
   "outputs": [],
   "source": []
  },
  {
   "cell_type": "code",
   "execution_count": null,
   "id": "29145113",
   "metadata": {},
   "outputs": [],
   "source": []
  }
 ],
 "metadata": {
  "kernelspec": {
   "display_name": "dcvenv",
   "language": "python",
   "name": "python3"
  },
  "language_info": {
   "codemirror_mode": {
    "name": "ipython",
    "version": 3
   },
   "file_extension": ".py",
   "mimetype": "text/x-python",
   "name": "python",
   "nbconvert_exporter": "python",
   "pygments_lexer": "ipython3",
   "version": "3.13.5"
  }
 },
 "nbformat": 4,
 "nbformat_minor": 5
}
