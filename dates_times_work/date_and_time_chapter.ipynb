{
 "cells": [
  {
   "cell_type": "markdown",
   "id": "bef229c8",
   "metadata": {},
   "source": [
    "# Working with Dates & Times data\n",
    "\n",
    "Using the `datetime` library from python to create datetime objects. This is how the default format (**ISO 8601**) is defined :\n",
    "\n",
    "**ISO Format**: YYYY-MM-DD\n",
    "\n",
    ">`date(`_`year`_,_`month`_,_`day`_`)`"
   ]
  },
  {
   "cell_type": "code",
   "execution_count": 1,
   "id": "1fbd6539",
   "metadata": {},
   "outputs": [],
   "source": [
    "import numpy as np\n",
    "import pandas as pd\n",
    "import matplotlib.pyplot as plt\n",
    "import seaborn as sns\n",
    "\n",
    "from datetime import date\n",
    "from datetime import timedelta"
   ]
  },
  {
   "cell_type": "code",
   "execution_count": 2,
   "id": "67ad5a15",
   "metadata": {},
   "outputs": [],
   "source": [
    "sample = [date(2025,1,1), date(2025,2,18), date(2025,4, 15), date(2024,11,6)]"
   ]
  },
  {
   "cell_type": "code",
   "execution_count": 3,
   "id": "22ad5159",
   "metadata": {},
   "outputs": [
    {
     "data": {
      "text/plain": [
       "18"
      ]
     },
     "execution_count": 3,
     "metadata": {},
     "output_type": "execute_result"
    }
   ],
   "source": [
    "sample[1].day"
   ]
  },
  {
   "cell_type": "markdown",
   "id": "0cce4046",
   "metadata": {},
   "source": [
    "**Using the `weekday` attribute** to determine the day of the week of given date.\n",
    "\n",
    "Starts with 0 - Monday to 6 - Sunday"
   ]
  },
  {
   "cell_type": "code",
   "execution_count": 4,
   "id": "58f927dd",
   "metadata": {},
   "outputs": [
    {
     "data": {
      "text/plain": [
       "1"
      ]
     },
     "execution_count": 4,
     "metadata": {},
     "output_type": "execute_result"
    }
   ],
   "source": [
    "sample[2].weekday()"
   ]
  },
  {
   "cell_type": "code",
   "execution_count": 5,
   "id": "ac420ab7",
   "metadata": {},
   "outputs": [
    {
     "data": {
      "text/plain": [
       "[datetime.date(1988, 8, 4),\n",
       " datetime.date(1990, 10, 12),\n",
       " datetime.date(2003, 4, 20),\n",
       " datetime.date(1971, 9, 1),\n",
       " datetime.date(1988, 8, 23),\n",
       " datetime.date(1994, 8, 15),\n",
       " datetime.date(2002, 8, 4),\n",
       " datetime.date(1988, 5, 30),\n",
       " datetime.date(2003, 9, 13),\n",
       " datetime.date(2009, 8, 21),\n",
       " datetime.date(1978, 6, 22),\n",
       " datetime.date(1969, 6, 9),\n",
       " datetime.date(1976, 6, 11),\n",
       " datetime.date(1976, 8, 19),\n",
       " datetime.date(1966, 6, 9),\n",
       " datetime.date(1968, 7, 5),\n",
       " datetime.date(1987, 11, 4),\n",
       " datetime.date(1988, 8, 13),\n",
       " datetime.date(2007, 12, 13),\n",
       " datetime.date(1994, 11, 16),\n",
       " datetime.date(2003, 9, 6),\n",
       " datetime.date(1971, 8, 13),\n",
       " datetime.date(1981, 8, 17),\n",
       " datetime.date(1998, 9, 25),\n",
       " datetime.date(1968, 9, 26),\n",
       " datetime.date(1968, 6, 4),\n",
       " datetime.date(1998, 11, 5),\n",
       " datetime.date(2008, 8, 18),\n",
       " datetime.date(1987, 8, 14),\n",
       " datetime.date(1988, 11, 23),\n",
       " datetime.date(2010, 9, 29),\n",
       " datetime.date(1985, 7, 23),\n",
       " datetime.date(2017, 7, 31),\n",
       " datetime.date(1955, 8, 21),\n",
       " datetime.date(1986, 6, 26),\n",
       " datetime.date(1963, 10, 21),\n",
       " datetime.date(2011, 10, 28),\n",
       " datetime.date(2011, 11, 9),\n",
       " datetime.date(1997, 7, 19),\n",
       " datetime.date(2007, 6, 2),\n",
       " datetime.date(2002, 9, 14),\n",
       " datetime.date(1992, 9, 29),\n",
       " datetime.date(1971, 10, 13),\n",
       " datetime.date(1962, 8, 26),\n",
       " datetime.date(1964, 8, 27),\n",
       " datetime.date(1984, 9, 27),\n",
       " datetime.date(1973, 9, 25),\n",
       " datetime.date(1969, 10, 21),\n",
       " datetime.date(1994, 7, 3),\n",
       " datetime.date(1958, 9, 4),\n",
       " datetime.date(1985, 11, 21),\n",
       " datetime.date(2011, 9, 3),\n",
       " datetime.date(1972, 6, 19),\n",
       " datetime.date(1991, 6, 30),\n",
       " datetime.date(2004, 8, 12),\n",
       " datetime.date(2007, 9, 8),\n",
       " datetime.date(1952, 2, 3),\n",
       " datetime.date(1965, 9, 30),\n",
       " datetime.date(2000, 9, 22),\n",
       " datetime.date(2002, 9, 26),\n",
       " datetime.date(1950, 9, 5),\n",
       " datetime.date(1966, 10, 4),\n",
       " datetime.date(1970, 5, 25),\n",
       " datetime.date(1979, 9, 24),\n",
       " datetime.date(1960, 9, 23),\n",
       " datetime.date(2007, 8, 23),\n",
       " datetime.date(2009, 8, 16),\n",
       " datetime.date(1996, 10, 18),\n",
       " datetime.date(2012, 10, 25),\n",
       " datetime.date(2011, 8, 25),\n",
       " datetime.date(1951, 5, 18),\n",
       " datetime.date(1980, 8, 7),\n",
       " datetime.date(1979, 9, 3),\n",
       " datetime.date(1953, 9, 26),\n",
       " datetime.date(1968, 10, 19),\n",
       " datetime.date(2009, 11, 9),\n",
       " datetime.date(1999, 8, 29),\n",
       " datetime.date(2015, 10, 1),\n",
       " datetime.date(2008, 9, 2),\n",
       " datetime.date(2004, 10, 10),\n",
       " datetime.date(2004, 9, 16),\n",
       " datetime.date(1992, 8, 24),\n",
       " datetime.date(2000, 9, 9),\n",
       " datetime.date(1971, 9, 16),\n",
       " datetime.date(1996, 9, 2),\n",
       " datetime.date(1998, 9, 3),\n",
       " datetime.date(1951, 10, 2),\n",
       " datetime.date(1979, 9, 12),\n",
       " datetime.date(2007, 10, 31),\n",
       " datetime.date(1953, 10, 9),\n",
       " datetime.date(1952, 8, 30),\n",
       " datetime.date(1969, 9, 7),\n",
       " datetime.date(2015, 8, 30),\n",
       " datetime.date(1959, 10, 8),\n",
       " datetime.date(2002, 7, 13),\n",
       " datetime.date(1961, 10, 29),\n",
       " datetime.date(2007, 5, 9),\n",
       " datetime.date(2016, 10, 7),\n",
       " datetime.date(1964, 9, 20),\n",
       " datetime.date(1979, 7, 11),\n",
       " datetime.date(1950, 10, 18),\n",
       " datetime.date(2008, 8, 31),\n",
       " datetime.date(2012, 8, 25),\n",
       " datetime.date(1966, 7, 24),\n",
       " datetime.date(2010, 8, 10),\n",
       " datetime.date(2005, 8, 25),\n",
       " datetime.date(2003, 6, 30),\n",
       " datetime.date(1956, 7, 6),\n",
       " datetime.date(1974, 9, 8),\n",
       " datetime.date(1966, 6, 30),\n",
       " datetime.date(2016, 9, 14),\n",
       " datetime.date(1968, 6, 18),\n",
       " datetime.date(1982, 9, 11),\n",
       " datetime.date(1976, 9, 13),\n",
       " datetime.date(1975, 7, 29),\n",
       " datetime.date(2007, 9, 13),\n",
       " datetime.date(1970, 9, 27),\n",
       " datetime.date(1969, 10, 2),\n",
       " datetime.date(2010, 8, 31),\n",
       " datetime.date(1995, 10, 4),\n",
       " datetime.date(1969, 8, 29),\n",
       " datetime.date(1984, 10, 26),\n",
       " datetime.date(1973, 9, 3),\n",
       " datetime.date(1976, 5, 23),\n",
       " datetime.date(2001, 11, 5),\n",
       " datetime.date(2010, 6, 30),\n",
       " datetime.date(1985, 10, 10),\n",
       " datetime.date(1970, 7, 22),\n",
       " datetime.date(1972, 5, 28),\n",
       " datetime.date(1982, 6, 18),\n",
       " datetime.date(2001, 8, 6),\n",
       " datetime.date(1953, 8, 29),\n",
       " datetime.date(1965, 9, 8),\n",
       " datetime.date(1964, 9, 10),\n",
       " datetime.date(1959, 10, 18),\n",
       " datetime.date(1957, 6, 8),\n",
       " datetime.date(1988, 9, 10),\n",
       " datetime.date(2005, 6, 11),\n",
       " datetime.date(1953, 6, 6),\n",
       " datetime.date(2003, 8, 30),\n",
       " datetime.date(2002, 10, 3),\n",
       " datetime.date(1968, 8, 10),\n",
       " datetime.date(1999, 10, 15),\n",
       " datetime.date(2002, 9, 4),\n",
       " datetime.date(2001, 6, 12),\n",
       " datetime.date(2017, 9, 10),\n",
       " datetime.date(2005, 10, 5),\n",
       " datetime.date(2005, 7, 10),\n",
       " datetime.date(1973, 6, 7),\n",
       " datetime.date(1999, 9, 15),\n",
       " datetime.date(2005, 9, 20),\n",
       " datetime.date(1995, 6, 5),\n",
       " datetime.date(2003, 7, 25),\n",
       " datetime.date(2004, 9, 13),\n",
       " datetime.date(1964, 6, 6),\n",
       " datetime.date(1973, 6, 23),\n",
       " datetime.date(2005, 9, 12),\n",
       " datetime.date(2012, 6, 23),\n",
       " datetime.date(1961, 9, 11),\n",
       " datetime.date(1990, 5, 25),\n",
       " datetime.date(2017, 6, 21),\n",
       " datetime.date(1975, 6, 27),\n",
       " datetime.date(1959, 6, 18),\n",
       " datetime.date(2004, 9, 5),\n",
       " datetime.date(1987, 10, 12),\n",
       " datetime.date(1995, 7, 27),\n",
       " datetime.date(1964, 10, 14),\n",
       " datetime.date(1970, 8, 6),\n",
       " datetime.date(1969, 10, 1),\n",
       " datetime.date(1996, 10, 8),\n",
       " datetime.date(1968, 8, 28),\n",
       " datetime.date(1956, 10, 15),\n",
       " datetime.date(1975, 9, 23),\n",
       " datetime.date(1970, 9, 13),\n",
       " datetime.date(1975, 10, 16),\n",
       " datetime.date(1990, 10, 9),\n",
       " datetime.date(2005, 10, 24),\n",
       " datetime.date(1950, 8, 31),\n",
       " datetime.date(2000, 10, 3),\n",
       " datetime.date(2002, 10, 11),\n",
       " datetime.date(1983, 8, 28),\n",
       " datetime.date(1960, 7, 29),\n",
       " datetime.date(1950, 10, 21),\n",
       " datetime.date(1995, 8, 2),\n",
       " datetime.date(1956, 9, 24),\n",
       " datetime.date(2016, 9, 1),\n",
       " datetime.date(1993, 6, 1),\n",
       " datetime.date(1987, 9, 7),\n",
       " datetime.date(2012, 5, 28),\n",
       " datetime.date(1995, 8, 23),\n",
       " datetime.date(1969, 8, 18),\n",
       " datetime.date(2001, 9, 14),\n",
       " datetime.date(2000, 8, 23),\n",
       " datetime.date(1974, 10, 7),\n",
       " datetime.date(1986, 8, 13),\n",
       " datetime.date(1977, 8, 27),\n",
       " datetime.date(2008, 7, 16),\n",
       " datetime.date(1996, 7, 11),\n",
       " datetime.date(1988, 9, 4),\n",
       " datetime.date(1975, 10, 1),\n",
       " datetime.date(2003, 8, 14),\n",
       " datetime.date(1957, 9, 8),\n",
       " datetime.date(2005, 7, 6),\n",
       " datetime.date(1960, 9, 15),\n",
       " datetime.date(1974, 9, 27),\n",
       " datetime.date(1965, 6, 15),\n",
       " datetime.date(1999, 9, 21),\n",
       " datetime.date(2004, 8, 13),\n",
       " datetime.date(1994, 10, 2),\n",
       " datetime.date(1971, 8, 10),\n",
       " datetime.date(2008, 7, 22),\n",
       " datetime.date(2000, 9, 18),\n",
       " datetime.date(1960, 9, 10),\n",
       " datetime.date(2006, 6, 13),\n",
       " datetime.date(2017, 10, 29),\n",
       " datetime.date(1972, 9, 5),\n",
       " datetime.date(1964, 10, 5),\n",
       " datetime.date(1991, 10, 16),\n",
       " datetime.date(1969, 9, 21),\n",
       " datetime.date(1998, 9, 20),\n",
       " datetime.date(1977, 9, 5),\n",
       " datetime.date(1988, 9, 13),\n",
       " datetime.date(1974, 6, 25),\n",
       " datetime.date(2010, 7, 23),\n",
       " datetime.date(2007, 9, 22),\n",
       " datetime.date(1984, 9, 9),\n",
       " datetime.date(1989, 9, 22),\n",
       " datetime.date(1992, 6, 25),\n",
       " datetime.date(1971, 8, 29),\n",
       " datetime.date(1953, 9, 20),\n",
       " datetime.date(1985, 8, 15),\n",
       " datetime.date(2016, 6, 6),\n",
       " datetime.date(2006, 8, 30),\n",
       " datetime.date(1980, 11, 18),\n",
       " datetime.date(2011, 7, 18)]"
      ]
     },
     "execution_count": 5,
     "metadata": {},
     "output_type": "execute_result"
    }
   ],
   "source": [
    "fl_hd = pd.read_pickle('./florida_hurricane_dates.pkl')\n",
    "fl_hd"
   ]
  },
  {
   "cell_type": "code",
   "execution_count": 6,
   "id": "6ee349f3",
   "metadata": {},
   "outputs": [
    {
     "name": "stdout",
     "output_type": "stream",
     "text": [
      "<class 'list'>\n"
     ]
    }
   ],
   "source": [
    "print(type(fl_hd))"
   ]
  },
  {
   "cell_type": "code",
   "execution_count": 7,
   "id": "b52dc70f",
   "metadata": {},
   "outputs": [],
   "source": [
    "counter_var = 0\n",
    "for hurricane in fl_hd:\n",
    "    if hurricane.year >2015:\n",
    "        counter_var+=1"
   ]
  },
  {
   "cell_type": "code",
   "execution_count": 8,
   "id": "e9454495",
   "metadata": {},
   "outputs": [
    {
     "data": {
      "text/plain": [
       "8"
      ]
     },
     "execution_count": 8,
     "metadata": {},
     "output_type": "execute_result"
    }
   ],
   "source": [
    "counter_var"
   ]
  },
  {
   "cell_type": "markdown",
   "id": "b72999c4",
   "metadata": {},
   "source": [
    "## Math operations on datetime objects"
   ]
  },
  {
   "cell_type": "code",
   "execution_count": 9,
   "id": "cf77bf46",
   "metadata": {},
   "outputs": [
    {
     "name": "stdout",
     "output_type": "stream",
     "text": [
      "1950-08-31\n",
      "2017-10-29\n"
     ]
    }
   ],
   "source": [
    "# Finding latest  OR earliest dates:\n",
    "print(min(fl_hd))\n",
    "\n",
    "print(max(fl_hd))"
   ]
  },
  {
   "cell_type": "code",
   "execution_count": 10,
   "id": "fde971d1",
   "metadata": {},
   "outputs": [],
   "source": [
    "fl_hd.sort()"
   ]
  },
  {
   "cell_type": "code",
   "execution_count": 11,
   "id": "43244e72",
   "metadata": {},
   "outputs": [
    {
     "data": {
      "text/plain": [
       "19"
      ]
     },
     "execution_count": 11,
     "metadata": {},
     "output_type": "execute_result"
    }
   ],
   "source": [
    "# Finding delta in days\n",
    "(fl_hd[12] - fl_hd[10]).days"
   ]
  },
  {
   "cell_type": "code",
   "execution_count": 12,
   "id": "a84b1ada",
   "metadata": {},
   "outputs": [
    {
     "data": {
      "text/plain": [
       "7"
      ]
     },
     "execution_count": 12,
     "metadata": {},
     "output_type": "execute_result"
    }
   ],
   "source": [
    "# Finding delta in years\n",
    "fl_hd[25].year - fl_hd[9].year"
   ]
  },
  {
   "cell_type": "code",
   "execution_count": 13,
   "id": "c2ad77b0",
   "metadata": {},
   "outputs": [],
   "source": [
    "# Month wise count\n",
    "hurricanes_each_month = {1: 0, 2: 0, 3: 0, 4: 0, 5: 0, 6:0,\n",
    "\t\t  \t\t\t\t 7: 0, 8:0, 9:0, 10:0, 11:0, 12:0}"
   ]
  },
  {
   "cell_type": "code",
   "execution_count": 14,
   "id": "1708213e",
   "metadata": {},
   "outputs": [
    {
     "name": "stdout",
     "output_type": "stream",
     "text": [
      "{1: 0, 2: 1, 3: 0, 4: 1, 5: 8, 6: 32, 7: 21, 8: 49, 9: 70, 10: 43, 11: 9, 12: 1}\n"
     ]
    }
   ],
   "source": [
    "for hurricane in fl_hd:\n",
    "    # for every date in fl_hd, fetch the month \n",
    "    month = hurricane.month\n",
    "    # check the same month in dates dict & increment count\n",
    "    hurricanes_each_month[month]+=1\n",
    "\n",
    "print(hurricanes_each_month)"
   ]
  },
  {
   "cell_type": "code",
   "execution_count": 15,
   "id": "6f369d59",
   "metadata": {},
   "outputs": [
    {
     "data": {
      "image/png": "[encoded data removed]",
      "text/plain": [
       "<Figure size 640x480 with 1 Axes>"
      ]
     },
     "metadata": {},
     "output_type": "display_data"
    }
   ],
   "source": [
    "sns.barplot(data=hurricanes_each_month, x=hurricanes_each_month.keys(), y=hurricanes_each_month.values())\n",
    "plt.title(\"Month-wise hurricane count\")\n",
    "plt.show()"
   ]
  },
  {
   "cell_type": "code",
   "execution_count": 16,
   "id": "8124431b",
   "metadata": {},
   "outputs": [
    {
     "data": {
      "text/plain": [
       "dict_keys([1, 2, 3, 4, 5, 6, 7, 8, 9, 10, 11, 12])"
      ]
     },
     "execution_count": 16,
     "metadata": {},
     "output_type": "execute_result"
    }
   ],
   "source": [
    "hurricanes_each_month.keys()"
   ]
  },
  {
   "cell_type": "markdown",
   "id": "f4830bd6",
   "metadata": {},
   "source": [
    "### Arranging dates in chronological order\n",
    "Using the `.sorted()` function on a list"
   ]
  },
  {
   "cell_type": "code",
   "execution_count": null,
   "id": "747fc63f",
   "metadata": {},
   "outputs": [],
   "source": []
  },
  {
   "cell_type": "markdown",
   "id": "4365edff",
   "metadata": {},
   "source": [
    "### Turning dates into strings\n",
    "\n",
    "By default converted into ISO 8601 format (i.e. YYYY-MM-DD). `datetime obj.isoformat()`\n",
    "\n",
    "For own custom format use `strftime`. Example syntax is:  `datetime obj.strftime(\"%Y\")`"
   ]
  },
  {
   "cell_type": "code",
   "execution_count": 17,
   "id": "2470d681",
   "metadata": {},
   "outputs": [
    {
     "data": {
      "text/plain": [
       "'1950'"
      ]
     },
     "execution_count": 17,
     "metadata": {},
     "output_type": "execute_result"
    }
   ],
   "source": [
    "fl_hd[0].strftime(\"%Y\")"
   ]
  },
  {
   "cell_type": "code",
   "execution_count": 18,
   "id": "1a514f5c",
   "metadata": {},
   "outputs": [
    {
     "data": {
      "text/plain": [
       "'1950-August-31'"
      ]
     },
     "execution_count": 18,
     "metadata": {},
     "output_type": "execute_result"
    }
   ],
   "source": [
    "# Customizing the date format as per our requirements\n",
    "fl_hd[0].strftime(\"%Y-%B-%d\")"
   ]
  },
  {
   "cell_type": "code",
   "execution_count": 19,
   "id": "d59e9da1",
   "metadata": {},
   "outputs": [
    {
     "data": {
      "text/plain": [
       "'Year value for this record is 1950'"
      ]
     },
     "execution_count": 19,
     "metadata": {},
     "output_type": "execute_result"
    }
   ],
   "source": [
    "# We can also insert texts\n",
    "fl_hd[0].strftime(\"Year value for this record is %Y\")\n"
   ]
  },
  {
   "cell_type": "markdown",
   "id": "6db8e655",
   "metadata": {},
   "source": [
    "In this exercise, you will format the earliest date in the florida_hurricane_dates list in two ways so you can decide which one you want to use: \n",
    "\n",
    "either the ISO standard OR  the typical US style."
   ]
  },
  {
   "cell_type": "code",
   "execution_count": 20,
   "id": "51325efa",
   "metadata": {},
   "outputs": [
    {
     "name": "stdout",
     "output_type": "stream",
     "text": [
      "ISO format is:1950-08-31 (YYYY-MM-DD) ; US format is: 08/31/1950 (MM/DD/YYYY)\n"
     ]
    }
   ],
   "source": [
    "# Determining earliest format from the list\n",
    "earliest = min(fl_hd)\n",
    "\n",
    "iso = earliest.isoformat()\n",
    "us = earliest.strftime(\"%m/%d/%Y\")\n",
    "\n",
    "print(f\"ISO format is:{iso} (YYYY-MM-DD) ; US format is: {us} (MM/DD/YYYY)\")"
   ]
  },
  {
   "cell_type": "markdown",
   "id": "e79f6c12",
   "metadata": {},
   "source": [
    "### Exercise \n",
    "\n",
    "Attempting other formats from the exercise Questions:"
   ]
  },
  {
   "cell_type": "code",
   "execution_count": 21,
   "id": "2d735b46",
   "metadata": {},
   "outputs": [
    {
     "name": "stdout",
     "output_type": "stream",
     "text": [
      "August (1950)\n"
     ]
    }
   ],
   "source": [
    "# Print the date in the format 'MONTH (YYYY)'\n",
    "print(earliest.strftime(\"%B (%Y)\"))"
   ]
  },
  {
   "cell_type": "code",
   "execution_count": 22,
   "id": "2cd313ea",
   "metadata": {},
   "outputs": [
    {
     "name": "stdout",
     "output_type": "stream",
     "text": [
      "1950-243\n"
     ]
    }
   ],
   "source": [
    "# Print the date in the format 'YYYY-DDD'; Astronomers usually use the 'day number' out of 366 \n",
    "# instead of the month and date to avoid ambiguities between languages.\n",
    "print(earliest.strftime(\"%Y-%j\"))"
   ]
  },
  {
   "cell_type": "markdown",
   "id": "a1021669",
   "metadata": {},
   "source": [
    "# Dates & Times\n",
    "The date component of the datetime object carries same format for dates as seen earlier, but now also contains `hours:mins:sec` . Micro-seconds can also be added\n"
   ]
  },
  {
   "cell_type": "code",
   "execution_count": 23,
   "id": "ed18917f",
   "metadata": {},
   "outputs": [],
   "source": [
    "from datetime import datetime"
   ]
  },
  {
   "cell_type": "code",
   "execution_count": 24,
   "id": "65dc8b65",
   "metadata": {},
   "outputs": [
    {
     "name": "stdout",
     "output_type": "stream",
     "text": [
      "2017-10-01 14:30:30\n"
     ]
    }
   ],
   "source": [
    "dt = datetime(2017, 10,1,14,30,30)\n",
    "print(dt)"
   ]
  },
  {
   "cell_type": "code",
   "execution_count": 25,
   "id": "19a24b32",
   "metadata": {},
   "outputs": [
    {
     "name": "stdout",
     "output_type": "stream",
     "text": [
      "2017-10-01 14:55:30\n"
     ]
    }
   ],
   "source": [
    "# Various methods can be applied to the dt object\n",
    "dt_new = dt.replace(minute=55)\n",
    "print(dt_new)"
   ]
  },
  {
   "cell_type": "code",
   "execution_count": 26,
   "id": "e9ae432d",
   "metadata": {},
   "outputs": [
    {
     "name": "stdout",
     "output_type": "stream",
     "text": [
      "2017-10-01 14:30:30\n",
      "2017-10-01 14:59:00\n"
     ]
    }
   ],
   "source": [
    "print(dt)\n",
    "\n",
    "print(dt.replace(minute=59, second=0))"
   ]
  },
  {
   "cell_type": "markdown",
   "id": "29a106a4",
   "metadata": {},
   "source": [
    "### Q: Print the results in ISO format.\n",
    "Create a datetime for October 1, 2017 at 15:26:26."
   ]
  },
  {
   "cell_type": "code",
   "execution_count": 27,
   "id": "282db248",
   "metadata": {},
   "outputs": [
    {
     "name": "stdout",
     "output_type": "stream",
     "text": [
      "2017-10-01T15:26:26\n"
     ]
    }
   ],
   "source": [
    "newdt = datetime(2017, 10, 1, 15,26,26)\n",
    "print(newdt.isoformat())"
   ]
  },
  {
   "cell_type": "markdown",
   "id": "cffe8dbc",
   "metadata": {},
   "source": []
  },
  {
   "cell_type": "code",
   "execution_count": null,
   "id": "ef079cda",
   "metadata": {},
   "outputs": [],
   "source": []
  },
  {
   "cell_type": "code",
   "execution_count": null,
   "id": "ca1ac504",
   "metadata": {},
   "outputs": [],
   "source": []
  },
  {
   "cell_type": "markdown",
   "id": "cb7490bd",
   "metadata": {},
   "source": [
    "## Working with the `capital-onebike` dataset"
   ]
  },
  {
   "cell_type": "code",
   "execution_count": 28,
   "id": "622d03d3",
   "metadata": {},
   "outputs": [
    {
     "name": "stdout",
     "output_type": "stream",
     "text": [
      "<class 'pandas.core.frame.DataFrame'>\n",
      "RangeIndex: 290 entries, 0 to 289\n",
      "Data columns (total 8 columns):\n",
      " #   Column                Non-Null Count  Dtype \n",
      "---  ------                --------------  ----- \n",
      " 0   Start date            290 non-null    object\n",
      " 1   End date              290 non-null    object\n",
      " 2   Start station number  290 non-null    int64 \n",
      " 3   Start station         290 non-null    object\n",
      " 4   End station number    290 non-null    int64 \n",
      " 5   End station           290 non-null    object\n",
      " 6   Bike number           290 non-null    object\n",
      " 7   Member type           290 non-null    object\n",
      "dtypes: int64(2), object(6)\n",
      "memory usage: 18.3+ KB\n"
     ]
    }
   ],
   "source": [
    "onebike = pd.read_csv('./capital-onebike.csv')\n",
    "onebike.info()"
   ]
  },
  {
   "cell_type": "code",
   "execution_count": 29,
   "id": "9168d296",
   "metadata": {},
   "outputs": [
    {
     "data": {
      "text/html": [
       "<div>\n",
       "<style scoped>\n",
       "    .dataframe tbody tr th:only-of-type {\n",
       "        vertical-align: middle;\n",
       "    }\n",
       "\n",
       "    .dataframe tbody tr th {\n",
       "        vertical-align: top;\n",
       "    }\n",
       "\n",
       "    .dataframe thead th {\n",
       "        text-align: right;\n",
       "    }\n",
       "</style>\n",
       "<table border=\"1\" class=\"dataframe\">\n",
       "  <thead>\n",
       "    <tr style=\"text-align: right;\">\n",
       "      <th></th>\n",
       "      <th>Start date</th>\n",
       "      <th>End date</th>\n",
       "      <th>Start station number</th>\n",
       "      <th>Start station</th>\n",
       "      <th>End station number</th>\n",
       "      <th>End station</th>\n",
       "      <th>Bike number</th>\n",
       "      <th>Member type</th>\n",
       "    </tr>\n",
       "  </thead>\n",
       "  <tbody>\n",
       "    <tr>\n",
       "      <th>0</th>\n",
       "      <td>2017-10-01 15:23:25</td>\n",
       "      <td>2017-10-01 15:26:26</td>\n",
       "      <td>31038</td>\n",
       "      <td>Glebe Rd &amp; 11th St N</td>\n",
       "      <td>31036</td>\n",
       "      <td>George Mason Dr &amp; Wilson Blvd</td>\n",
       "      <td>W20529</td>\n",
       "      <td>Member</td>\n",
       "    </tr>\n",
       "    <tr>\n",
       "      <th>1</th>\n",
       "      <td>2017-10-01 15:42:57</td>\n",
       "      <td>2017-10-01 17:49:59</td>\n",
       "      <td>31036</td>\n",
       "      <td>George Mason Dr &amp; Wilson Blvd</td>\n",
       "      <td>31036</td>\n",
       "      <td>George Mason Dr &amp; Wilson Blvd</td>\n",
       "      <td>W20529</td>\n",
       "      <td>Casual</td>\n",
       "    </tr>\n",
       "    <tr>\n",
       "      <th>2</th>\n",
       "      <td>2017-10-02 06:37:10</td>\n",
       "      <td>2017-10-02 06:42:53</td>\n",
       "      <td>31036</td>\n",
       "      <td>George Mason Dr &amp; Wilson Blvd</td>\n",
       "      <td>31037</td>\n",
       "      <td>Ballston Metro / N Stuart &amp; 9th St N</td>\n",
       "      <td>W20529</td>\n",
       "      <td>Member</td>\n",
       "    </tr>\n",
       "    <tr>\n",
       "      <th>3</th>\n",
       "      <td>2017-10-02 08:56:45</td>\n",
       "      <td>2017-10-02 09:18:03</td>\n",
       "      <td>31037</td>\n",
       "      <td>Ballston Metro / N Stuart &amp; 9th St N</td>\n",
       "      <td>31295</td>\n",
       "      <td>Potomac &amp; M St NW</td>\n",
       "      <td>W20529</td>\n",
       "      <td>Member</td>\n",
       "    </tr>\n",
       "    <tr>\n",
       "      <th>4</th>\n",
       "      <td>2017-10-02 18:23:48</td>\n",
       "      <td>2017-10-02 18:45:05</td>\n",
       "      <td>31295</td>\n",
       "      <td>Potomac &amp; M St NW</td>\n",
       "      <td>31230</td>\n",
       "      <td>Metro Center / 12th &amp; G St NW</td>\n",
       "      <td>W20529</td>\n",
       "      <td>Member</td>\n",
       "    </tr>\n",
       "  </tbody>\n",
       "</table>\n",
       "</div>"
      ],
      "text/plain": [
       "            Start date             End date  Start station number  \\\n",
       "0  2017-10-01 15:23:25  2017-10-01 15:26:26                 31038   \n",
       "1  2017-10-01 15:42:57  2017-10-01 17:49:59                 31036   \n",
       "2  2017-10-02 06:37:10  2017-10-02 06:42:53                 31036   \n",
       "3  2017-10-02 08:56:45  2017-10-02 09:18:03                 31037   \n",
       "4  2017-10-02 18:23:48  2017-10-02 18:45:05                 31295   \n",
       "\n",
       "                          Start station  End station number  \\\n",
       "0                  Glebe Rd & 11th St N               31036   \n",
       "1         George Mason Dr & Wilson Blvd               31036   \n",
       "2         George Mason Dr & Wilson Blvd               31037   \n",
       "3  Ballston Metro / N Stuart & 9th St N               31295   \n",
       "4                     Potomac & M St NW               31230   \n",
       "\n",
       "                            End station Bike number Member type  \n",
       "0         George Mason Dr & Wilson Blvd      W20529      Member  \n",
       "1         George Mason Dr & Wilson Blvd      W20529      Casual  \n",
       "2  Ballston Metro / N Stuart & 9th St N      W20529      Member  \n",
       "3                     Potomac & M St NW      W20529      Member  \n",
       "4         Metro Center / 12th & G St NW      W20529      Member  "
      ]
     },
     "execution_count": 29,
     "metadata": {},
     "output_type": "execute_result"
    }
   ],
   "source": [
    "onebike.head()"
   ]
  },
  {
   "cell_type": "code",
   "execution_count": 30,
   "id": "96ded068",
   "metadata": {},
   "outputs": [
    {
     "data": {
      "text/plain": [
       "Bike number\n",
       "W20529    290\n",
       "Name: count, dtype: int64"
      ]
     },
     "execution_count": 30,
     "metadata": {},
     "output_type": "execute_result"
    }
   ],
   "source": [
    "onebike['Bike number'].value_counts()"
   ]
  },
  {
   "cell_type": "code",
   "execution_count": 31,
   "id": "03a65963",
   "metadata": {},
   "outputs": [],
   "source": [
    "adict= [{'start': datetime(2017, 10, 1, 15, 23, 25),\n",
    "  'end': datetime(2017, 10, 1, 15, 26, 26)},\n",
    " {'start': datetime(2017, 10, 1, 15, 42, 57),\n",
    "  'end': datetime(2017, 10, 1, 17, 49, 59)},\n",
    " {'start': datetime(2017, 10, 2, 6, 37, 10),\n",
    "  'end': datetime(2017, 10, 2, 6, 42, 53)},\n",
    " {'start': datetime(2017, 10, 2, 8, 56, 45),\n",
    "  'end': datetime(2017, 10, 2, 9, 18, 3)},\n",
    " {'start': datetime(2017, 10, 2, 18, 23, 48),\n",
    "  'end': datetime(2017, 10, 2, 18, 45, 5)},]"
   ]
  },
  {
   "cell_type": "code",
   "execution_count": 32,
   "id": "904d9c3e",
   "metadata": {},
   "outputs": [
    {
     "name": "stdout",
     "output_type": "stream",
     "text": [
      "2017-10-02 06:37:10 was in morning\n",
      "2017-10-02 08:56:45 was in morning\n"
     ]
    }
   ],
   "source": [
    "for trip in adict:\n",
    "    if trip['start'].hour < 12:\n",
    "        print(f\"{trip['start']} was in morning\")\n"
   ]
  },
  {
   "cell_type": "markdown",
   "id": "10ba7e89",
   "metadata": {},
   "source": [
    "# Parsing datetimes\n",
    "\n",
    "Using `datetime.strptime(\"__\")"
   ]
  },
  {
   "cell_type": "code",
   "execution_count": 33,
   "id": "2f3a535a",
   "metadata": {},
   "outputs": [
    {
     "name": "stdout",
     "output_type": "stream",
     "text": [
      "2017-10-02 09:18:03\n"
     ]
    }
   ],
   "source": [
    "dt = datetime(2017, 10, 2, 9, 18, 3)\n",
    "print(dt)"
   ]
  },
  {
   "cell_type": "code",
   "execution_count": 34,
   "id": "476f2df0",
   "metadata": {},
   "outputs": [
    {
     "name": "stdout",
     "output_type": "stream",
     "text": [
      "2017-10-02T09:18:03\n"
     ]
    }
   ],
   "source": [
    "print(dt.isoformat())"
   ]
  },
  {
   "cell_type": "code",
   "execution_count": 108,
   "id": "bf8d4945",
   "metadata": {},
   "outputs": [
    {
     "name": "stdout",
     "output_type": "stream",
     "text": [
      "2015-01-15 14:30:33\n",
      "<class 'datetime.datetime'>\n"
     ]
    }
   ],
   "source": [
    "strdt = datetime.strptime(\"2015/01/15 14:30:33\", \"%Y/%m/%d %H:%M:%S\")\n",
    "print(strdt)\n",
    "print(type(strdt))\n"
   ]
  },
  {
   "cell_type": "markdown",
   "id": "c7e882d7",
   "metadata": {},
   "source": [
    "# Working with durations\n",
    "\n",
    "Difference between two datetime objects"
   ]
  },
  {
   "cell_type": "code",
   "execution_count": 36,
   "id": "804dc53d",
   "metadata": {},
   "outputs": [
    {
     "name": "stdout",
     "output_type": "stream",
     "text": [
      "2017-10-01 15:42:57 ; 2017-10-01 17:49:59\n"
     ]
    }
   ],
   "source": [
    "start = adict[1]['start']\n",
    "end = adict[1]['end']\n",
    "\n",
    "print(f\"{start} ; {end}\")"
   ]
  },
  {
   "cell_type": "code",
   "execution_count": 37,
   "id": "d5d342ac",
   "metadata": {},
   "outputs": [
    {
     "data": {
      "text/plain": [
       "2.12"
      ]
     },
     "execution_count": 37,
     "metadata": {},
     "output_type": "execute_result"
    }
   ],
   "source": [
    "round((end - start).total_seconds()/3600,2)"
   ]
  },
  {
   "cell_type": "markdown",
   "id": "228506e9",
   "metadata": {},
   "source": [
    "## Using `timedelta` module\n",
    "\n",
    "Adding a `timedelta` object to a datetime object to modify it to a time that is later or earlier than the object.\n",
    "\n"
   ]
  },
  {
   "cell_type": "code",
   "execution_count": 38,
   "id": "73543ea2",
   "metadata": {},
   "outputs": [],
   "source": [
    "from datetime import timedelta"
   ]
  },
  {
   "cell_type": "code",
   "execution_count": 39,
   "id": "314c1f3d",
   "metadata": {},
   "outputs": [
    {
     "name": "stdout",
     "output_type": "stream",
     "text": [
      "<class 'datetime.timedelta'>\n"
     ]
    }
   ],
   "source": [
    "add_delta = timedelta(days=2)\n",
    "print(type(add_delta))"
   ]
  },
  {
   "cell_type": "code",
   "execution_count": 40,
   "id": "05adf408",
   "metadata": {},
   "outputs": [
    {
     "name": "stdout",
     "output_type": "stream",
     "text": [
      "2017-10-02 06:37:10\n",
      "<class 'datetime.datetime'>\n"
     ]
    }
   ],
   "source": [
    "sample_dt = adict[2]['start']\n",
    "print(sample_dt)\n",
    "print(type(sample_dt))"
   ]
  },
  {
   "cell_type": "markdown",
   "id": "84bbf990",
   "metadata": {},
   "source": [
    "The new date:"
   ]
  },
  {
   "cell_type": "code",
   "execution_count": 41,
   "id": "462074a9",
   "metadata": {},
   "outputs": [
    {
     "name": "stdout",
     "output_type": "stream",
     "text": [
      "2017-10-04 06:37:10\n"
     ]
    }
   ],
   "source": [
    "print(sample_dt + add_delta)"
   ]
  },
  {
   "cell_type": "code",
   "execution_count": 42,
   "id": "a8db3b86",
   "metadata": {},
   "outputs": [
    {
     "name": "stdout",
     "output_type": "stream",
     "text": [
      "2018-10-02 06:37:10\n"
     ]
    }
   ],
   "source": [
    "# Adding timedelta directly\n",
    "print(sample_dt + timedelta(days=365))"
   ]
  },
  {
   "cell_type": "code",
   "execution_count": 43,
   "id": "d51fc6a1",
   "metadata": {},
   "outputs": [
    {
     "name": "stdout",
     "output_type": "stream",
     "text": [
      "2017-09-02 06:37:10\n"
     ]
    }
   ],
   "source": [
    "# Adding a timedelta value of past time ; eg past one month\n",
    "print(sample_dt + timedelta(days=-30))"
   ]
  },
  {
   "cell_type": "markdown",
   "id": "ccd15207",
   "metadata": {},
   "source": [
    "# Working with UTC Offsets\n",
    "Handling UTC time in Python primarily involves the datetime module, especially with the timezone object for creating timezone-aware datetime objects."
   ]
  },
  {
   "cell_type": "code",
   "execution_count": 44,
   "id": "40af62db",
   "metadata": {},
   "outputs": [],
   "source": [
    "from datetime import datetime, timedelta, timezone"
   ]
  },
  {
   "cell_type": "code",
   "execution_count": 45,
   "id": "35d16614",
   "metadata": {},
   "outputs": [
    {
     "name": "stdout",
     "output_type": "stream",
     "text": [
      "2025-10-04 00:30:00\n"
     ]
    }
   ],
   "source": [
    "# US ET timezone\n",
    "ET = timezone(timedelta(hours=-5))\n",
    "# Timzone-aware datetime - 4th October 30mins past midnight\n",
    "dt = datetime(2025,10,4, 00, 30,00)\n",
    "\n",
    "print(dt)"
   ]
  },
  {
   "cell_type": "code",
   "execution_count": 46,
   "id": "91d80d4e",
   "metadata": {},
   "outputs": [
    {
     "name": "stdout",
     "output_type": "stream",
     "text": [
      "2025-10-04 00:30:00+05:30\n"
     ]
    }
   ],
   "source": [
    "# Creating a timezone object\n",
    "IST = timezone(timedelta(hours=5, minutes=30))\n",
    "# Converting sample dt to IST timezone\n",
    "print(dt.astimezone(IST))"
   ]
  },
  {
   "cell_type": "markdown",
   "id": "7a56617f",
   "metadata": {},
   "source": [
    "print(dt.replace)"
   ]
  },
  {
   "cell_type": "code",
   "execution_count": 47,
   "id": "69110922",
   "metadata": {},
   "outputs": [
    {
     "name": "stdout",
     "output_type": "stream",
     "text": [
      "2025-10-04 00:30:00+00:00\n"
     ]
    }
   ],
   "source": [
    "# Changing the clock altogether to UTC offset\n",
    "print(dt.replace(tzinfo=timezone.utc))"
   ]
  },
  {
   "cell_type": "code",
   "execution_count": 48,
   "id": "cf92af88",
   "metadata": {},
   "outputs": [
    {
     "name": "stdout",
     "output_type": "stream",
     "text": [
      "2025-10-03 19:00:00+00:00\n"
     ]
    }
   ],
   "source": [
    "print(dt.astimezone(timezone.utc))"
   ]
  },
  {
   "cell_type": "code",
   "execution_count": 49,
   "id": "26770bd5",
   "metadata": {},
   "outputs": [
    {
     "name": "stdout",
     "output_type": "stream",
     "text": [
      "2025-10-04 00:30:00+05:30\n"
     ]
    }
   ],
   "source": [
    "print(dt.replace(tzinfo=IST))"
   ]
  },
  {
   "cell_type": "markdown",
   "id": "08856bf8",
   "metadata": {},
   "source": [
    "> `.replace` will change just the timezone of the datetome object , while `.astimezone` will completely shift it to the new timezone."
   ]
  },
  {
   "cell_type": "markdown",
   "id": "2c662f5e",
   "metadata": {},
   "source": [
    "## Timezone database"
   ]
  },
  {
   "cell_type": "code",
   "execution_count": 50,
   "id": "2345db6d",
   "metadata": {},
   "outputs": [],
   "source": [
    "from dateutil import tz"
   ]
  },
  {
   "cell_type": "code",
   "execution_count": 51,
   "id": "10d378d1",
   "metadata": {},
   "outputs": [],
   "source": [
    "# Getting tz for IST\n",
    "ist = tz.gettz('Asia/Kolkata')"
   ]
  },
  {
   "cell_type": "code",
   "execution_count": 52,
   "id": "c8cfcbed",
   "metadata": {},
   "outputs": [
    {
     "name": "stdout",
     "output_type": "stream",
     "text": [
      "2025-10-04 00:30:00+05:30\n"
     ]
    }
   ],
   "source": [
    "# Using offset obtained from the \n",
    "print(dt.replace(tzinfo=ist))"
   ]
  },
  {
   "cell_type": "markdown",
   "id": "b557d01f",
   "metadata": {},
   "source": [
    "### Dealing with Daylight savings time\n",
    "We'll check how we're switching from local time to daylight saving time\n",
    "\n",
    "**1. Setting DST manually:** Using the `timedelta` & `.replace` functions"
   ]
  },
  {
   "cell_type": "code",
   "execution_count": 53,
   "id": "8d96a22b",
   "metadata": {},
   "outputs": [],
   "source": [
    "# Setting Daylight saving time manually\n",
    "EDT = timezone(timedelta(hours = -5))\n",
    "EST = timezone(timedelta(hours = -4))"
   ]
  },
  {
   "cell_type": "code",
   "execution_count": 54,
   "id": "9bd0c283",
   "metadata": {},
   "outputs": [
    {
     "name": "stdout",
     "output_type": "stream",
     "text": [
      "2025-10-04 00:30:00\n",
      "2025-10-04 00:30:00-05:00\n",
      "2025-10-04 00:30:00-04:00\n"
     ]
    }
   ],
   "source": [
    "print(dt)\n",
    "print(dt.replace(tzinfo=EDT))\n",
    "print(dt.replace(tzinfo=EST))"
   ]
  },
  {
   "cell_type": "markdown",
   "id": "688719b3",
   "metadata": {},
   "source": [
    "**2. Using :** Using the `tz` package from `dateutil`"
   ]
  },
  {
   "cell_type": "code",
   "execution_count": 55,
   "id": "6833c172",
   "metadata": {},
   "outputs": [
    {
     "name": "stdout",
     "output_type": "stream",
     "text": [
      "2025-03-12 01:59:59-04:00\n"
     ]
    }
   ],
   "source": [
    "eastern_time = tz.gettz('America/New_York')\n",
    "ahead_time = datetime(2025,3,12, 1,59,59, tzinfo=eastern_time)\n",
    "print(ahead_time)"
   ]
  },
  {
   "cell_type": "markdown",
   "id": "679d2aec",
   "metadata": {},
   "source": [
    ">This conversion is required to gain clarity on the actual time elapsed when switching the timezones.<br>\n",
    ">NOTE that converting to UTC reveals the actual time elapsed\n",
    "\n",
    "\n",
    "Switching from DST to local time"
   ]
  },
  {
   "cell_type": "code",
   "execution_count": 56,
   "id": "c69918e5",
   "metadata": {},
   "outputs": [
    {
     "name": "stdout",
     "output_type": "stream",
     "text": [
      "2017-11-05 01:00:00-04:00\n"
     ]
    }
   ],
   "source": [
    "est = tz.gettz('US/Eastern')\n",
    "first_1am = datetime(2017,11,5,1,0,0, tzinfo=est)\n",
    "print(first_1am)"
   ]
  },
  {
   "cell_type": "code",
   "execution_count": 57,
   "id": "e6f84545",
   "metadata": {},
   "outputs": [
    {
     "data": {
      "text/plain": [
       "True"
      ]
     },
     "execution_count": 57,
     "metadata": {},
     "output_type": "execute_result"
    }
   ],
   "source": [
    "# Using the datetime_ambiguous to tell whether a datetime is ambigious\n",
    "# i.e. an overlap of some sort exists & needs to be solved for actual time value\n",
    "tz.datetime_ambiguous(first_1am)"
   ]
  },
  {
   "cell_type": "markdown",
   "id": "bcea98c6",
   "metadata": {},
   "source": [
    "The True output means that this time is occurring at two UTC moments in this timezone.\n",
    "\n",
    "Now creating second datetime with `tz.enfold` method applied."
   ]
  },
  {
   "cell_type": "code",
   "execution_count": 58,
   "id": "e4cec011",
   "metadata": {},
   "outputs": [
    {
     "name": "stdout",
     "output_type": "stream",
     "text": [
      "2017-11-05 01:00:00-05:00\n"
     ]
    }
   ],
   "source": [
    "second_1am = datetime(2017,11,5,1,0,0, tzinfo=est)\n",
    "second_1am = tz.enfold(second_1am)\n",
    "print(second_1am)"
   ]
  },
  {
   "cell_type": "markdown",
   "id": "551bd39f",
   "metadata": {},
   "source": [
    "Comparing the two timestamps"
   ]
  },
  {
   "cell_type": "code",
   "execution_count": 59,
   "id": "de450aad",
   "metadata": {},
   "outputs": [],
   "source": [
    "diff = second_1am.astimezone(tz.UTC) - first_1am.astimezone(tz.UTC)"
   ]
  },
  {
   "cell_type": "code",
   "execution_count": 60,
   "id": "f3bc8bf7",
   "metadata": {},
   "outputs": [
    {
     "name": "stdout",
     "output_type": "stream",
     "text": [
      "1:00:00\n"
     ]
    }
   ],
   "source": [
    "print(diff)"
   ]
  },
  {
   "cell_type": "code",
   "execution_count": 61,
   "id": "96ddae74",
   "metadata": {},
   "outputs": [
    {
     "data": {
      "text/plain": [
       "datetime.timedelta(seconds=3600)"
      ]
     },
     "execution_count": 61,
     "metadata": {},
     "output_type": "execute_result"
    }
   ],
   "source": [
    "diff"
   ]
  },
  {
   "cell_type": "markdown",
   "id": "77f6b91f",
   "metadata": {},
   "source": [
    "# Handling Dates & Times in pandas\n",
    "\n",
    "Working with the `capital-one` bike dataset - handling the date time columns to derive meaningful insights with regards to ride duration, seasonal trends etc. \n",
    "\n",
    "Observe that the 'Start date' & 'End date' columns are not in required format at the time of loading."
   ]
  },
  {
   "cell_type": "code",
   "execution_count": 62,
   "id": "8fc50fd4",
   "metadata": {},
   "outputs": [],
   "source": [
    "# Parsing the required columns into datetime dtypes\n",
    "bikes = pd.read_csv('capital-onebike.csv', parse_dates=['Start date', 'End date'])"
   ]
  },
  {
   "cell_type": "code",
   "execution_count": 63,
   "id": "dcca10f3",
   "metadata": {},
   "outputs": [
    {
     "data": {
      "text/html": [
       "<div>\n",
       "<style scoped>\n",
       "    .dataframe tbody tr th:only-of-type {\n",
       "        vertical-align: middle;\n",
       "    }\n",
       "\n",
       "    .dataframe tbody tr th {\n",
       "        vertical-align: top;\n",
       "    }\n",
       "\n",
       "    .dataframe thead th {\n",
       "        text-align: right;\n",
       "    }\n",
       "</style>\n",
       "<table border=\"1\" class=\"dataframe\">\n",
       "  <thead>\n",
       "    <tr style=\"text-align: right;\">\n",
       "      <th></th>\n",
       "      <th>Start date</th>\n",
       "      <th>End date</th>\n",
       "      <th>Start station number</th>\n",
       "      <th>Start station</th>\n",
       "      <th>End station number</th>\n",
       "      <th>End station</th>\n",
       "      <th>Bike number</th>\n",
       "      <th>Member type</th>\n",
       "    </tr>\n",
       "  </thead>\n",
       "  <tbody>\n",
       "    <tr>\n",
       "      <th>0</th>\n",
       "      <td>2017-10-01 15:23:25</td>\n",
       "      <td>2017-10-01 15:26:26</td>\n",
       "      <td>31038</td>\n",
       "      <td>Glebe Rd &amp; 11th St N</td>\n",
       "      <td>31036</td>\n",
       "      <td>George Mason Dr &amp; Wilson Blvd</td>\n",
       "      <td>W20529</td>\n",
       "      <td>Member</td>\n",
       "    </tr>\n",
       "    <tr>\n",
       "      <th>1</th>\n",
       "      <td>2017-10-01 15:42:57</td>\n",
       "      <td>2017-10-01 17:49:59</td>\n",
       "      <td>31036</td>\n",
       "      <td>George Mason Dr &amp; Wilson Blvd</td>\n",
       "      <td>31036</td>\n",
       "      <td>George Mason Dr &amp; Wilson Blvd</td>\n",
       "      <td>W20529</td>\n",
       "      <td>Casual</td>\n",
       "    </tr>\n",
       "    <tr>\n",
       "      <th>2</th>\n",
       "      <td>2017-10-02 06:37:10</td>\n",
       "      <td>2017-10-02 06:42:53</td>\n",
       "      <td>31036</td>\n",
       "      <td>George Mason Dr &amp; Wilson Blvd</td>\n",
       "      <td>31037</td>\n",
       "      <td>Ballston Metro / N Stuart &amp; 9th St N</td>\n",
       "      <td>W20529</td>\n",
       "      <td>Member</td>\n",
       "    </tr>\n",
       "    <tr>\n",
       "      <th>3</th>\n",
       "      <td>2017-10-02 08:56:45</td>\n",
       "      <td>2017-10-02 09:18:03</td>\n",
       "      <td>31037</td>\n",
       "      <td>Ballston Metro / N Stuart &amp; 9th St N</td>\n",
       "      <td>31295</td>\n",
       "      <td>Potomac &amp; M St NW</td>\n",
       "      <td>W20529</td>\n",
       "      <td>Member</td>\n",
       "    </tr>\n",
       "    <tr>\n",
       "      <th>4</th>\n",
       "      <td>2017-10-02 18:23:48</td>\n",
       "      <td>2017-10-02 18:45:05</td>\n",
       "      <td>31295</td>\n",
       "      <td>Potomac &amp; M St NW</td>\n",
       "      <td>31230</td>\n",
       "      <td>Metro Center / 12th &amp; G St NW</td>\n",
       "      <td>W20529</td>\n",
       "      <td>Member</td>\n",
       "    </tr>\n",
       "  </tbody>\n",
       "</table>\n",
       "</div>"
      ],
      "text/plain": [
       "           Start date            End date  Start station number  \\\n",
       "0 2017-10-01 15:23:25 2017-10-01 15:26:26                 31038   \n",
       "1 2017-10-01 15:42:57 2017-10-01 17:49:59                 31036   \n",
       "2 2017-10-02 06:37:10 2017-10-02 06:42:53                 31036   \n",
       "3 2017-10-02 08:56:45 2017-10-02 09:18:03                 31037   \n",
       "4 2017-10-02 18:23:48 2017-10-02 18:45:05                 31295   \n",
       "\n",
       "                          Start station  End station number  \\\n",
       "0                  Glebe Rd & 11th St N               31036   \n",
       "1         George Mason Dr & Wilson Blvd               31036   \n",
       "2         George Mason Dr & Wilson Blvd               31037   \n",
       "3  Ballston Metro / N Stuart & 9th St N               31295   \n",
       "4                     Potomac & M St NW               31230   \n",
       "\n",
       "                            End station Bike number Member type  \n",
       "0         George Mason Dr & Wilson Blvd      W20529      Member  \n",
       "1         George Mason Dr & Wilson Blvd      W20529      Casual  \n",
       "2  Ballston Metro / N Stuart & 9th St N      W20529      Member  \n",
       "3                     Potomac & M St NW      W20529      Member  \n",
       "4         Metro Center / 12th & G St NW      W20529      Member  "
      ]
     },
     "execution_count": 63,
     "metadata": {},
     "output_type": "execute_result"
    }
   ],
   "source": [
    "bikes.head()"
   ]
  },
  {
   "cell_type": "code",
   "execution_count": 64,
   "id": "6fa8cac2",
   "metadata": {},
   "outputs": [
    {
     "name": "stdout",
     "output_type": "stream",
     "text": [
      "<class 'pandas.core.frame.DataFrame'>\n",
      "RangeIndex: 290 entries, 0 to 289\n",
      "Data columns (total 8 columns):\n",
      " #   Column                Non-Null Count  Dtype         \n",
      "---  ------                --------------  -----         \n",
      " 0   Start date            290 non-null    datetime64[ns]\n",
      " 1   End date              290 non-null    datetime64[ns]\n",
      " 2   Start station number  290 non-null    int64         \n",
      " 3   Start station         290 non-null    object        \n",
      " 4   End station number    290 non-null    int64         \n",
      " 5   End station           290 non-null    object        \n",
      " 6   Bike number           290 non-null    object        \n",
      " 7   Member type           290 non-null    object        \n",
      "dtypes: datetime64[ns](2), int64(2), object(4)\n",
      "memory usage: 18.3+ KB\n",
      "None\n"
     ]
    }
   ],
   "source": [
    "print(bikes.info())"
   ]
  },
  {
   "cell_type": "code",
   "execution_count": 65,
   "id": "46203756",
   "metadata": {},
   "outputs": [
    {
     "data": {
      "text/plain": [
       "Timestamp('2017-10-01 15:42:57')"
      ]
     },
     "execution_count": 65,
     "metadata": {},
     "output_type": "execute_result"
    }
   ],
   "source": [
    "bikes['Start date'][1]"
   ]
  },
  {
   "cell_type": "markdown",
   "id": "bdd244c2",
   "metadata": {},
   "source": [
    "### Calculating ride duration\n",
    "Creating a 'Duration' column to calculate ride durations "
   ]
  },
  {
   "cell_type": "code",
   "execution_count": 66,
   "id": "e49c0897",
   "metadata": {},
   "outputs": [
    {
     "data": {
      "text/html": [
       "<div>\n",
       "<style scoped>\n",
       "    .dataframe tbody tr th:only-of-type {\n",
       "        vertical-align: middle;\n",
       "    }\n",
       "\n",
       "    .dataframe tbody tr th {\n",
       "        vertical-align: top;\n",
       "    }\n",
       "\n",
       "    .dataframe thead th {\n",
       "        text-align: right;\n",
       "    }\n",
       "</style>\n",
       "<table border=\"1\" class=\"dataframe\">\n",
       "  <thead>\n",
       "    <tr style=\"text-align: right;\">\n",
       "      <th></th>\n",
       "      <th>Start date</th>\n",
       "      <th>End date</th>\n",
       "      <th>Start station number</th>\n",
       "      <th>Start station</th>\n",
       "      <th>End station number</th>\n",
       "      <th>End station</th>\n",
       "      <th>Bike number</th>\n",
       "      <th>Member type</th>\n",
       "      <th>Duration</th>\n",
       "    </tr>\n",
       "  </thead>\n",
       "  <tbody>\n",
       "    <tr>\n",
       "      <th>0</th>\n",
       "      <td>2017-10-01 15:23:25</td>\n",
       "      <td>2017-10-01 15:26:26</td>\n",
       "      <td>31038</td>\n",
       "      <td>Glebe Rd &amp; 11th St N</td>\n",
       "      <td>31036</td>\n",
       "      <td>George Mason Dr &amp; Wilson Blvd</td>\n",
       "      <td>W20529</td>\n",
       "      <td>Member</td>\n",
       "      <td>0 days 00:03:01</td>\n",
       "    </tr>\n",
       "    <tr>\n",
       "      <th>1</th>\n",
       "      <td>2017-10-01 15:42:57</td>\n",
       "      <td>2017-10-01 17:49:59</td>\n",
       "      <td>31036</td>\n",
       "      <td>George Mason Dr &amp; Wilson Blvd</td>\n",
       "      <td>31036</td>\n",
       "      <td>George Mason Dr &amp; Wilson Blvd</td>\n",
       "      <td>W20529</td>\n",
       "      <td>Casual</td>\n",
       "      <td>0 days 02:07:02</td>\n",
       "    </tr>\n",
       "    <tr>\n",
       "      <th>2</th>\n",
       "      <td>2017-10-02 06:37:10</td>\n",
       "      <td>2017-10-02 06:42:53</td>\n",
       "      <td>31036</td>\n",
       "      <td>George Mason Dr &amp; Wilson Blvd</td>\n",
       "      <td>31037</td>\n",
       "      <td>Ballston Metro / N Stuart &amp; 9th St N</td>\n",
       "      <td>W20529</td>\n",
       "      <td>Member</td>\n",
       "      <td>0 days 00:05:43</td>\n",
       "    </tr>\n",
       "    <tr>\n",
       "      <th>3</th>\n",
       "      <td>2017-10-02 08:56:45</td>\n",
       "      <td>2017-10-02 09:18:03</td>\n",
       "      <td>31037</td>\n",
       "      <td>Ballston Metro / N Stuart &amp; 9th St N</td>\n",
       "      <td>31295</td>\n",
       "      <td>Potomac &amp; M St NW</td>\n",
       "      <td>W20529</td>\n",
       "      <td>Member</td>\n",
       "      <td>0 days 00:21:18</td>\n",
       "    </tr>\n",
       "    <tr>\n",
       "      <th>4</th>\n",
       "      <td>2017-10-02 18:23:48</td>\n",
       "      <td>2017-10-02 18:45:05</td>\n",
       "      <td>31295</td>\n",
       "      <td>Potomac &amp; M St NW</td>\n",
       "      <td>31230</td>\n",
       "      <td>Metro Center / 12th &amp; G St NW</td>\n",
       "      <td>W20529</td>\n",
       "      <td>Member</td>\n",
       "      <td>0 days 00:21:17</td>\n",
       "    </tr>\n",
       "  </tbody>\n",
       "</table>\n",
       "</div>"
      ],
      "text/plain": [
       "           Start date            End date  Start station number  \\\n",
       "0 2017-10-01 15:23:25 2017-10-01 15:26:26                 31038   \n",
       "1 2017-10-01 15:42:57 2017-10-01 17:49:59                 31036   \n",
       "2 2017-10-02 06:37:10 2017-10-02 06:42:53                 31036   \n",
       "3 2017-10-02 08:56:45 2017-10-02 09:18:03                 31037   \n",
       "4 2017-10-02 18:23:48 2017-10-02 18:45:05                 31295   \n",
       "\n",
       "                          Start station  End station number  \\\n",
       "0                  Glebe Rd & 11th St N               31036   \n",
       "1         George Mason Dr & Wilson Blvd               31036   \n",
       "2         George Mason Dr & Wilson Blvd               31037   \n",
       "3  Ballston Metro / N Stuart & 9th St N               31295   \n",
       "4                     Potomac & M St NW               31230   \n",
       "\n",
       "                            End station Bike number Member type  \\\n",
       "0         George Mason Dr & Wilson Blvd      W20529      Member   \n",
       "1         George Mason Dr & Wilson Blvd      W20529      Casual   \n",
       "2  Ballston Metro / N Stuart & 9th St N      W20529      Member   \n",
       "3                     Potomac & M St NW      W20529      Member   \n",
       "4         Metro Center / 12th & G St NW      W20529      Member   \n",
       "\n",
       "         Duration  \n",
       "0 0 days 00:03:01  \n",
       "1 0 days 02:07:02  \n",
       "2 0 days 00:05:43  \n",
       "3 0 days 00:21:18  \n",
       "4 0 days 00:21:17  "
      ]
     },
     "execution_count": 66,
     "metadata": {},
     "output_type": "execute_result"
    }
   ],
   "source": [
    "bikes['Duration'] = bikes['End date'] - bikes['Start date']\n",
    "bikes.head()"
   ]
  },
  {
   "cell_type": "markdown",
   "id": "d8fad3db",
   "metadata": {},
   "source": [
    "The 'duration' column appropriately has `timedelta` dtype"
   ]
  },
  {
   "cell_type": "code",
   "execution_count": 67,
   "id": "16583cd1",
   "metadata": {},
   "outputs": [
    {
     "name": "stdout",
     "output_type": "stream",
     "text": [
      "<class 'pandas.core.frame.DataFrame'>\n",
      "RangeIndex: 290 entries, 0 to 289\n",
      "Data columns (total 9 columns):\n",
      " #   Column                Non-Null Count  Dtype          \n",
      "---  ------                --------------  -----          \n",
      " 0   Start date            290 non-null    datetime64[ns] \n",
      " 1   End date              290 non-null    datetime64[ns] \n",
      " 2   Start station number  290 non-null    int64          \n",
      " 3   Start station         290 non-null    object         \n",
      " 4   End station number    290 non-null    int64          \n",
      " 5   End station           290 non-null    object         \n",
      " 6   Bike number           290 non-null    object         \n",
      " 7   Member type           290 non-null    object         \n",
      " 8   Duration              290 non-null    timedelta64[ns]\n",
      "dtypes: datetime64[ns](2), int64(2), object(4), timedelta64[ns](1)\n",
      "memory usage: 20.5+ KB\n"
     ]
    }
   ],
   "source": [
    "bikes.info()"
   ]
  },
  {
   "cell_type": "code",
   "execution_count": 68,
   "id": "c1094698",
   "metadata": {},
   "outputs": [
    {
     "data": {
      "text/plain": [
       "0        Sunday\n",
       "1        Sunday\n",
       "2        Monday\n",
       "3        Monday\n",
       "4        Monday\n",
       "         ...   \n",
       "285      Friday\n",
       "286      Friday\n",
       "287      Friday\n",
       "288    Saturday\n",
       "289    Saturday\n",
       "Name: Start date, Length: 290, dtype: object"
      ]
     },
     "execution_count": 68,
     "metadata": {},
     "output_type": "execute_result"
    }
   ],
   "source": [
    "bikes['Start date'].dt.day_name()"
   ]
  },
  {
   "cell_type": "markdown",
   "id": "b166d0bd",
   "metadata": {},
   "source": [
    "## Summarizing datetime data in pandas\n",
    "- Most statistical summarizing funcs will work on datetime dtypes"
   ]
  },
  {
   "cell_type": "code",
   "execution_count": 69,
   "id": "49de0b10",
   "metadata": {},
   "outputs": [
    {
     "name": "stdout",
     "output_type": "stream",
     "text": [
      "2017-11-10 01:44:46.713792768\n",
      "2017-12-30 15:09:03\n",
      "2017-10-01 15:23:25\n"
     ]
    }
   ],
   "source": [
    "print(bikes['Start date'].mean())\n",
    "print(bikes['Start date'].max())\n",
    "print(bikes['Start date'].min())"
   ]
  },
  {
   "cell_type": "code",
   "execution_count": 70,
   "id": "8bb4e51d",
   "metadata": {},
   "outputs": [
    {
     "data": {
      "text/plain": [
       "Timedelta('89 days 23:45:38')"
      ]
     },
     "execution_count": 70,
     "metadata": {},
     "output_type": "execute_result"
    }
   ],
   "source": [
    "# Calculating total duration that the datast covers\n",
    "bikes['Start date'].max() - bikes['Start date'].min()"
   ]
  },
  {
   "cell_type": "code",
   "execution_count": 71,
   "id": "15ec07d6",
   "metadata": {},
   "outputs": [
    {
     "data": {
      "text/plain": [
       "0.04397220988231977"
      ]
     },
     "execution_count": 71,
     "metadata": {},
     "output_type": "execute_result"
    }
   ],
   "source": [
    "# Calculating % bike travel time\n",
    "bikes['Duration'].sum() / (bikes['Start date'].max() - bikes['Start date'].min())"
   ]
  },
  {
   "cell_type": "markdown",
   "id": "2e9f2613",
   "metadata": {},
   "source": [
    "> SO we conclude that bike was out of docking station about 4% of the total duration"
   ]
  },
  {
   "cell_type": "code",
   "execution_count": 72,
   "id": "9d2d4117",
   "metadata": {},
   "outputs": [
    {
     "data": {
      "image/png": "[encoded data removed]",
      "text/plain": [
       "<Figure size 640x480 with 1 Axes>"
      ]
     },
     "metadata": {},
     "output_type": "display_data"
    }
   ],
   "source": [
    "sns.countplot(data=bikes, x=bikes['Member type'], hue=bikes['Member type'])\n",
    "plt.show()"
   ]
  },
  {
   "cell_type": "code",
   "execution_count": 73,
   "id": "5f2cbf49",
   "metadata": {},
   "outputs": [
    {
     "data": {
      "text/plain": [
       "Member type\n",
       "Member    0.813793\n",
       "Casual    0.186207\n",
       "Name: count, dtype: float64"
      ]
     },
     "execution_count": 73,
     "metadata": {},
     "output_type": "execute_result"
    }
   ],
   "source": [
    "# % share of Member type in the dataset\n",
    "bikes['Member type'].value_counts() / len(bikes)"
   ]
  },
  {
   "cell_type": "markdown",
   "id": "a75279d2",
   "metadata": {},
   "source": [
    ">We observe that ~80% of riders in the dataset are Member users ;while ~20% are Casual users"
   ]
  },
  {
   "cell_type": "code",
   "execution_count": 74,
   "id": "a4af130d",
   "metadata": {},
   "outputs": [
    {
     "data": {
      "text/plain": [
       "Member type\n",
       "Casual    33.244444\n",
       "Member    16.537994\n",
       "Name: Duration, dtype: float64"
      ]
     },
     "execution_count": 74,
     "metadata": {},
     "output_type": "execute_result"
    }
   ],
   "source": [
    "# Grouping aggregations for datetime objects in minutes\n",
    "bikes.groupby('Member type')['Duration'].mean().dt.total_seconds()/60\n"
   ]
  },
  {
   "cell_type": "markdown",
   "id": "1cf888b4",
   "metadata": {},
   "source": [
    ">Note that above values are in minutes. Rides from casual members seem to be twice as longer than members\n",
    "\n",
    "## Using `resample` to a groupby:\n",
    "`resample()` is a powerful method used for changing the frequency of time series data. It is primarily applied to Series or DataFrames with a DatetimeIndex, PeriodIndex, or TimedeltaIndex.\n",
    "\n",
    "The core idea is to group data points into new time intervals and then apply an aggregation function to each group.\n",
    "\n",
    "**Frequency Conversion:** `resample()` allows you to convert your time series data to a different frequency. This can involve:<br>\n",
    "**Downsampling**: Aggregating data from a higher frequency to a lower frequency (e.g., daily data to weekly or monthly).<br>\n",
    "**Upsampling**: Increasing the frequency of the data (e.g., monthly data to daily), which often involves filling in missing values or using interpolation."
   ]
  },
  {
   "cell_type": "code",
   "execution_count": 75,
   "id": "4d1cfa8c",
   "metadata": {},
   "outputs": [
    {
     "data": {
      "text/plain": [
       "Start date\n",
       "2017-10-31    31.440895\n",
       "2017-11-30    14.236246\n",
       "2017-12-31    10.585021\n",
       "Freq: ME, Name: Duration, dtype: float64"
      ]
     },
     "execution_count": 75,
     "metadata": {},
     "output_type": "execute_result"
    }
   ],
   "source": [
    "# Calculating average ride duration by month\n",
    "# bikes.groupby('Member type')['Duration'].mean().dt.total_seconds()/60\n",
    "bikes.resample(rule='ME', on='Start date')['Duration'].mean().dt.total_seconds()/60"
   ]
  },
  {
   "cell_type": "code",
   "execution_count": 76,
   "id": "f196aba5",
   "metadata": {},
   "outputs": [
    {
     "data": {
      "text/plain": [
       "<Axes: xlabel='Start date'>"
      ]
     },
     "execution_count": 76,
     "metadata": {},
     "output_type": "execute_result"
    },
    {
     "data": {
      "image/png": "[encoded data removed]",
      "text/plain": [
       "<Figure size 640x480 with 1 Axes>"
      ]
     },
     "metadata": {},
     "output_type": "display_data"
    }
   ],
   "source": [
    "# Plotting week-sie average ridership\n",
    "# Use Duration minutes  (calculated) for better granularity\n",
    "(bikes.resample(rule='W', on='Start date')['Duration'].mean().dt.total_seconds()/60).plot()"
   ]
  },
  {
   "cell_type": "markdown",
   "id": "9657e438",
   "metadata": {},
   "source": [
    ">We observe that in one of the weeks in mid-Oct has higher ride duration. This most likely is a maintanence trip.\n"
   ]
  },
  {
   "cell_type": "code",
   "execution_count": 77,
   "id": "4daa428f",
   "metadata": {},
   "outputs": [
    {
     "data": {
      "text/plain": [
       "<Axes: xlabel='Start date'>"
      ]
     },
     "execution_count": 77,
     "metadata": {},
     "output_type": "execute_result"
    },
    {
     "data": {
      "image/png": "[encoded data removed]",
      "text/plain": [
       "<Figure size 640x480 with 1 Axes>"
      ]
     },
     "metadata": {},
     "output_type": "display_data"
    }
   ],
   "source": [
    "# Increasing granularity to day-level\n",
    "(bikes.resample(rule='D', on='Start date')['Duration'].mean().dt.total_seconds()/60).plot()"
   ]
  },
  {
   "cell_type": "code",
   "execution_count": 78,
   "id": "a1765af5",
   "metadata": {},
   "outputs": [
    {
     "name": "stdout",
     "output_type": "stream",
     "text": [
      "6 bikes were joyrides\n",
      "The median duration overall was 660.0 seconds\n",
      "The median duration for joyrides was 2642.5 seconds\n"
     ]
    }
   ],
   "source": [
    "# Find the no. of 'joyrides'(long bike rides before being returned back to the same dock)\n",
    "# Create joyrides\n",
    "joyrides = (bikes['Start station'] == bikes['End station'])\n",
    "\n",
    "# Total number of joyrides\n",
    "print(\"{} bikes were joyrides\".format(joyrides.sum()))\n",
    "\n",
    "# Median of all bikes\n",
    "print(f\"The median duration overall was {bikes['Duration'].dt.total_seconds().median()} seconds\")\n",
    "\n",
    "# Median of joyrides\n",
    "print(f\"The median duration for joyrides was {bikes[joyrides]['Duration'].dt.total_seconds().median()} seconds\")"
   ]
  },
  {
   "cell_type": "markdown",
   "id": "e6ff9fab",
   "metadata": {},
   "source": [
    "### Q: Analyzing effct of weather & holidays on bike rides"
   ]
  },
  {
   "cell_type": "code",
   "execution_count": 79,
   "id": "3e956108",
   "metadata": {},
   "outputs": [
    {
     "data": {
      "image/png": "[encoded data removed]",
      "text/plain": [
       "<Figure size 640x480 with 1 Axes>"
      ]
     },
     "metadata": {},
     "output_type": "display_data"
    }
   ],
   "source": [
    "# Resample rides to monthly, take the size, plot the results\n",
    "bikes.resample('ME', on = 'Start date')\\\n",
    "  .size()\\\n",
    "  .plot(ylim = [0, 150])\n",
    "\n",
    "# Show the results\n",
    "plt.show()"
   ]
  },
  {
   "cell_type": "markdown",
   "id": "867fd49c",
   "metadata": {},
   "source": [
    "the pattern is clearer at the monthly level: there were fewer rides in November, and then fewer still in December, possibly because the temperature got colder.\n",
    "_______\n",
    "\n",
    "**Q:** Do members and casual riders drop off at the same rate over October to December, or does one drop off faster than the other?\n"
   ]
  },
  {
   "cell_type": "code",
   "execution_count": 80,
   "id": "f2ca4df3",
   "metadata": {},
   "outputs": [
    {
     "name": "stdout",
     "output_type": "stream",
     "text": [
      "Start date  Member type\n",
      "2017-10-31  Member         0.768519\n",
      "            Casual         0.231481\n",
      "2017-11-30  Member         0.825243\n",
      "            Casual         0.174757\n",
      "2017-12-31  Member         0.860759\n",
      "            Casual         0.139241\n",
      "dtype: float64\n"
     ]
    }
   ],
   "source": [
    "# Resample rides to be monthly on the basis of Start date\n",
    "monthly_rides = bikes.resample('ME',on='Start date')['Member type']\n",
    "\n",
    "# Take the ratio of the .value_counts() over the total number of rides\n",
    "print(monthly_rides.value_counts() / monthly_rides.size())"
   ]
  },
  {
   "cell_type": "code",
   "execution_count": 81,
   "id": "997271fc",
   "metadata": {},
   "outputs": [
    {
     "data": {
      "text/plain": [
       "Start date\n",
       "2017-10-31    108\n",
       "2017-11-30    103\n",
       "2017-12-31     79\n",
       "Freq: ME, Name: Member type, dtype: int64"
      ]
     },
     "execution_count": 81,
     "metadata": {},
     "output_type": "execute_result"
    }
   ],
   "source": [
    "monthly_rides.size()"
   ]
  },
  {
   "cell_type": "code",
   "execution_count": 82,
   "id": "548e3274",
   "metadata": {},
   "outputs": [
    {
     "data": {
      "text/plain": [
       "<pandas.core.groupby.generic.SeriesGroupBy object at 0x000001DE1EF39310>"
      ]
     },
     "execution_count": 82,
     "metadata": {},
     "output_type": "execute_result"
    }
   ],
   "source": [
    "monthly_rides"
   ]
  },
  {
   "cell_type": "markdown",
   "id": "217a6fdc",
   "metadata": {},
   "source": [
    "### Combining `groupby()` and `resample()`\n",
    "`.resample()` groups rows by some time or date information, `.groupby()` groups rows based on the values in one or more columns.\n",
    "\n",
    "**Q:** how long was the median ride by month, and by Membership type?"
   ]
  },
  {
   "cell_type": "code",
   "execution_count": 85,
   "id": "429b86c7",
   "metadata": {},
   "outputs": [
    {
     "name": "stdout",
     "output_type": "stream",
     "text": [
      "Member type  Start date\n",
      "Casual       2017-10-31    1636.0\n",
      "             2017-11-30    1159.5\n",
      "             2017-12-31     850.0\n",
      "Member       2017-10-31     671.0\n",
      "             2017-11-30     655.0\n",
      "             2017-12-31     387.5\n",
      "Name: Duration, dtype: float64\n"
     ]
    }
   ],
   "source": [
    "# Group rides by member type, and resample to the month\n",
    "grouped = bikes.groupby('Member type').resample('ME', on='Start date')\n",
    "\n",
    "# Print the median duration for each group\n",
    "print(grouped['Duration'].median().dt.total_seconds())"
   ]
  },
  {
   "cell_type": "markdown",
   "id": "545bfef1",
   "metadata": {},
   "source": [
    "## Additional datetime methods in pandas\n",
    "\n",
    "Datetime objects by default are timezone naive, it needs to be made a timezone-aware object, meaning they're not tied to any absolute time with a UTC offset.\n",
    "\n",
    "In below example, durations value shows to be negative (which shouldn't be the case). This mean there are some datetime records with daylight savings shift, so there needs to be a standardization of time values to UTC"
   ]
  },
  {
   "cell_type": "code",
   "execution_count": 87,
   "id": "fc640252",
   "metadata": {},
   "outputs": [
    {
     "data": {
      "text/plain": [
       "np.float64(-3346.0)"
      ]
     },
     "execution_count": 87,
     "metadata": {},
     "output_type": "execute_result"
    }
   ],
   "source": [
    "bikes['Duration'].dt.total_seconds().min()"
   ]
  },
  {
   "cell_type": "markdown",
   "id": "5e8cf663",
   "metadata": {},
   "source": [
    "Applying `tz_localize` to limited records, we are able to convert this limited selection to UTC"
   ]
  },
  {
   "cell_type": "code",
   "execution_count": 89,
   "id": "ee7d73a9",
   "metadata": {},
   "outputs": [
    {
     "data": {
      "text/plain": [
       "0   2017-10-01 15:23:25-04:00\n",
       "1   2017-10-01 15:42:57-04:00\n",
       "2   2017-10-02 06:37:10-04:00\n",
       "3   2017-10-02 08:56:45-04:00\n",
       "4   2017-10-02 18:23:48-04:00\n",
       "Name: Start date, dtype: datetime64[ns, America/New_York]"
      ]
     },
     "execution_count": 89,
     "metadata": {},
     "output_type": "execute_result"
    }
   ],
   "source": [
    "bikes['Start date'].head().dt.tz_localize('America/New_York')"
   ]
  },
  {
   "cell_type": "markdown",
   "id": "d9f94728",
   "metadata": {},
   "source": [
    "However trying to convert the entire column results in error.\n",
    "\n",
    "This must be resolved using the `ambigious` argument set to 'NaT' thar will handle the daylight saving issue"
   ]
  },
  {
   "cell_type": "code",
   "execution_count": 93,
   "id": "87e8aab8",
   "metadata": {},
   "outputs": [
    {
     "data": {
      "text/html": [
       "<div>\n",
       "<style scoped>\n",
       "    .dataframe tbody tr th:only-of-type {\n",
       "        vertical-align: middle;\n",
       "    }\n",
       "\n",
       "    .dataframe tbody tr th {\n",
       "        vertical-align: top;\n",
       "    }\n",
       "\n",
       "    .dataframe thead th {\n",
       "        text-align: right;\n",
       "    }\n",
       "</style>\n",
       "<table border=\"1\" class=\"dataframe\">\n",
       "  <thead>\n",
       "    <tr style=\"text-align: right;\">\n",
       "      <th></th>\n",
       "      <th>Start date</th>\n",
       "      <th>End date</th>\n",
       "      <th>Start station number</th>\n",
       "      <th>Start station</th>\n",
       "      <th>End station number</th>\n",
       "      <th>End station</th>\n",
       "      <th>Bike number</th>\n",
       "      <th>Member type</th>\n",
       "      <th>Duration</th>\n",
       "    </tr>\n",
       "  </thead>\n",
       "  <tbody>\n",
       "    <tr>\n",
       "      <th>0</th>\n",
       "      <td>2017-10-01 15:23:25-04:00</td>\n",
       "      <td>2017-10-01 15:26:26-04:00</td>\n",
       "      <td>31038</td>\n",
       "      <td>Glebe Rd &amp; 11th St N</td>\n",
       "      <td>31036</td>\n",
       "      <td>George Mason Dr &amp; Wilson Blvd</td>\n",
       "      <td>W20529</td>\n",
       "      <td>Member</td>\n",
       "      <td>0 days 00:03:01</td>\n",
       "    </tr>\n",
       "    <tr>\n",
       "      <th>1</th>\n",
       "      <td>2017-10-01 15:42:57-04:00</td>\n",
       "      <td>2017-10-01 17:49:59-04:00</td>\n",
       "      <td>31036</td>\n",
       "      <td>George Mason Dr &amp; Wilson Blvd</td>\n",
       "      <td>31036</td>\n",
       "      <td>George Mason Dr &amp; Wilson Blvd</td>\n",
       "      <td>W20529</td>\n",
       "      <td>Casual</td>\n",
       "      <td>0 days 02:07:02</td>\n",
       "    </tr>\n",
       "    <tr>\n",
       "      <th>2</th>\n",
       "      <td>2017-10-02 06:37:10-04:00</td>\n",
       "      <td>2017-10-02 06:42:53-04:00</td>\n",
       "      <td>31036</td>\n",
       "      <td>George Mason Dr &amp; Wilson Blvd</td>\n",
       "      <td>31037</td>\n",
       "      <td>Ballston Metro / N Stuart &amp; 9th St N</td>\n",
       "      <td>W20529</td>\n",
       "      <td>Member</td>\n",
       "      <td>0 days 00:05:43</td>\n",
       "    </tr>\n",
       "    <tr>\n",
       "      <th>3</th>\n",
       "      <td>2017-10-02 08:56:45-04:00</td>\n",
       "      <td>2017-10-02 09:18:03-04:00</td>\n",
       "      <td>31037</td>\n",
       "      <td>Ballston Metro / N Stuart &amp; 9th St N</td>\n",
       "      <td>31295</td>\n",
       "      <td>Potomac &amp; M St NW</td>\n",
       "      <td>W20529</td>\n",
       "      <td>Member</td>\n",
       "      <td>0 days 00:21:18</td>\n",
       "    </tr>\n",
       "    <tr>\n",
       "      <th>4</th>\n",
       "      <td>2017-10-02 18:23:48-04:00</td>\n",
       "      <td>2017-10-02 18:45:05-04:00</td>\n",
       "      <td>31295</td>\n",
       "      <td>Potomac &amp; M St NW</td>\n",
       "      <td>31230</td>\n",
       "      <td>Metro Center / 12th &amp; G St NW</td>\n",
       "      <td>W20529</td>\n",
       "      <td>Member</td>\n",
       "      <td>0 days 00:21:17</td>\n",
       "    </tr>\n",
       "  </tbody>\n",
       "</table>\n",
       "</div>"
      ],
      "text/plain": [
       "                 Start date                  End date  Start station number  \\\n",
       "0 2017-10-01 15:23:25-04:00 2017-10-01 15:26:26-04:00                 31038   \n",
       "1 2017-10-01 15:42:57-04:00 2017-10-01 17:49:59-04:00                 31036   \n",
       "2 2017-10-02 06:37:10-04:00 2017-10-02 06:42:53-04:00                 31036   \n",
       "3 2017-10-02 08:56:45-04:00 2017-10-02 09:18:03-04:00                 31037   \n",
       "4 2017-10-02 18:23:48-04:00 2017-10-02 18:45:05-04:00                 31295   \n",
       "\n",
       "                          Start station  End station number  \\\n",
       "0                  Glebe Rd & 11th St N               31036   \n",
       "1         George Mason Dr & Wilson Blvd               31036   \n",
       "2         George Mason Dr & Wilson Blvd               31037   \n",
       "3  Ballston Metro / N Stuart & 9th St N               31295   \n",
       "4                     Potomac & M St NW               31230   \n",
       "\n",
       "                            End station Bike number Member type  \\\n",
       "0         George Mason Dr & Wilson Blvd      W20529      Member   \n",
       "1         George Mason Dr & Wilson Blvd      W20529      Casual   \n",
       "2  Ballston Metro / N Stuart & 9th St N      W20529      Member   \n",
       "3                     Potomac & M St NW      W20529      Member   \n",
       "4         Metro Center / 12th & G St NW      W20529      Member   \n",
       "\n",
       "         Duration  \n",
       "0 0 days 00:03:01  \n",
       "1 0 days 02:07:02  \n",
       "2 0 days 00:05:43  \n",
       "3 0 days 00:21:18  \n",
       "4 0 days 00:21:17  "
      ]
     },
     "execution_count": 93,
     "metadata": {},
     "output_type": "execute_result"
    }
   ],
   "source": [
    "# bikes['Start date'].dt.tz_localize('America/New_York')\n",
    "\n",
    "bikes['Start date'] = bikes['Start date'].dt.tz_localize('America/New_York', ambiguous='NaT')\n",
    "bikes['End date'] = bikes['End date'].dt.tz_localize('America/New_York', ambiguous='NaT')\n",
    "bikes.head()"
   ]
  },
  {
   "cell_type": "markdown",
   "id": "15816801",
   "metadata": {},
   "source": [
    "Re-calculating 'duration' column to adress the negative values. Now the min value turns out to be valid."
   ]
  },
  {
   "cell_type": "code",
   "execution_count": 94,
   "id": "6334bb41",
   "metadata": {},
   "outputs": [
    {
     "data": {
      "text/plain": [
       "np.float64(116.0)"
      ]
     },
     "execution_count": 94,
     "metadata": {},
     "output_type": "execute_result"
    }
   ],
   "source": [
    "bikes['Duration'] = bikes['End date'] - bikes['Start date']\n",
    "bikes['Duration'].dt.total_seconds().min()"
   ]
  },
  {
   "cell_type": "code",
   "execution_count": 97,
   "id": "91d0c95b",
   "metadata": {},
   "outputs": [
    {
     "data": {
      "text/html": [
       "<div>\n",
       "<style scoped>\n",
       "    .dataframe tbody tr th:only-of-type {\n",
       "        vertical-align: middle;\n",
       "    }\n",
       "\n",
       "    .dataframe tbody tr th {\n",
       "        vertical-align: top;\n",
       "    }\n",
       "\n",
       "    .dataframe thead th {\n",
       "        text-align: right;\n",
       "    }\n",
       "</style>\n",
       "<table border=\"1\" class=\"dataframe\">\n",
       "  <thead>\n",
       "    <tr style=\"text-align: right;\">\n",
       "      <th></th>\n",
       "      <th>Start date</th>\n",
       "      <th>End date</th>\n",
       "      <th>Start station number</th>\n",
       "      <th>Start station</th>\n",
       "      <th>End station number</th>\n",
       "      <th>End station</th>\n",
       "      <th>Bike number</th>\n",
       "      <th>Member type</th>\n",
       "      <th>Duration</th>\n",
       "    </tr>\n",
       "  </thead>\n",
       "  <tbody>\n",
       "    <tr>\n",
       "      <th>129</th>\n",
       "      <td>NaT</td>\n",
       "      <td>NaT</td>\n",
       "      <td>31615</td>\n",
       "      <td>6th &amp; H St NE</td>\n",
       "      <td>31627</td>\n",
       "      <td>3rd &amp; M St NE</td>\n",
       "      <td>W20529</td>\n",
       "      <td>Member</td>\n",
       "      <td>NaT</td>\n",
       "    </tr>\n",
       "  </tbody>\n",
       "</table>\n",
       "</div>"
      ],
      "text/plain": [
       "    Start date End date  Start station number  Start station  \\\n",
       "129        NaT      NaT                 31615  6th & H St NE   \n",
       "\n",
       "     End station number    End station Bike number Member type Duration  \n",
       "129               31627  3rd & M St NE      W20529      Member      NaT  "
      ]
     },
     "execution_count": 97,
     "metadata": {},
     "output_type": "execute_result"
    }
   ],
   "source": [
    "# Identifying the record with the datetime issue\n",
    "bikes[bikes['Duration'].isnull()]"
   ]
  },
  {
   "cell_type": "markdown",
   "id": "c0eca850",
   "metadata": {},
   "source": [
    "### Using datetime accessors using `dt.`"
   ]
  },
  {
   "cell_type": "code",
   "execution_count": 102,
   "id": "d2024c94",
   "metadata": {},
   "outputs": [
    {
     "data": {
      "text/plain": [
       "0    Sunday\n",
       "1    Sunday\n",
       "2    Monday\n",
       "3    Monday\n",
       "4    Monday\n",
       "Name: Start date, dtype: object"
      ]
     },
     "execution_count": 102,
     "metadata": {},
     "output_type": "execute_result"
    }
   ],
   "source": [
    "# Accessing year\n",
    "bikes['Start date'].head().dt.year\n",
    "\n",
    "bikes['Start date'].head().dt.day_name()"
   ]
  },
  {
   "cell_type": "code",
   "execution_count": 104,
   "id": "aec86f85",
   "metadata": {},
   "outputs": [
    {
     "data": {
      "text/html": [
       "<div>\n",
       "<style scoped>\n",
       "    .dataframe tbody tr th:only-of-type {\n",
       "        vertical-align: middle;\n",
       "    }\n",
       "\n",
       "    .dataframe tbody tr th {\n",
       "        vertical-align: top;\n",
       "    }\n",
       "\n",
       "    .dataframe thead th {\n",
       "        text-align: right;\n",
       "    }\n",
       "</style>\n",
       "<table border=\"1\" class=\"dataframe\">\n",
       "  <thead>\n",
       "    <tr style=\"text-align: right;\">\n",
       "      <th></th>\n",
       "      <th>Start date</th>\n",
       "      <th>End date</th>\n",
       "      <th>Start station number</th>\n",
       "      <th>Start station</th>\n",
       "      <th>End station number</th>\n",
       "      <th>End station</th>\n",
       "      <th>Bike number</th>\n",
       "      <th>Member type</th>\n",
       "      <th>Duration</th>\n",
       "    </tr>\n",
       "  </thead>\n",
       "  <tbody>\n",
       "    <tr>\n",
       "      <th>285</th>\n",
       "      <td>2017-12-29 14:32:55-05:00</td>\n",
       "      <td>2017-12-29 14:43:46-05:00</td>\n",
       "      <td>31242</td>\n",
       "      <td>18th St &amp; Pennsylvania Ave NW</td>\n",
       "      <td>31265</td>\n",
       "      <td>5th St &amp; Massachusetts Ave NW</td>\n",
       "      <td>W20529</td>\n",
       "      <td>Member</td>\n",
       "      <td>0 days 00:10:51</td>\n",
       "    </tr>\n",
       "    <tr>\n",
       "      <th>286</th>\n",
       "      <td>2017-12-29 15:08:26-05:00</td>\n",
       "      <td>2017-12-29 15:18:51-05:00</td>\n",
       "      <td>31265</td>\n",
       "      <td>5th St &amp; Massachusetts Ave NW</td>\n",
       "      <td>31613</td>\n",
       "      <td>Eastern Market Metro / Pennsylvania Ave &amp; 7th ...</td>\n",
       "      <td>W20529</td>\n",
       "      <td>Casual</td>\n",
       "      <td>0 days 00:10:25</td>\n",
       "    </tr>\n",
       "    <tr>\n",
       "      <th>287</th>\n",
       "      <td>2017-12-29 20:33:34-05:00</td>\n",
       "      <td>2017-12-29 20:38:13-05:00</td>\n",
       "      <td>31613</td>\n",
       "      <td>Eastern Market Metro / Pennsylvania Ave &amp; 7th ...</td>\n",
       "      <td>31618</td>\n",
       "      <td>4th &amp; East Capitol St NE</td>\n",
       "      <td>W20529</td>\n",
       "      <td>Member</td>\n",
       "      <td>0 days 00:04:39</td>\n",
       "    </tr>\n",
       "    <tr>\n",
       "      <th>288</th>\n",
       "      <td>2017-12-30 13:51:03-05:00</td>\n",
       "      <td>2017-12-30 13:54:33-05:00</td>\n",
       "      <td>31618</td>\n",
       "      <td>4th &amp; East Capitol St NE</td>\n",
       "      <td>31610</td>\n",
       "      <td>Eastern Market / 7th &amp; North Carolina Ave SE</td>\n",
       "      <td>W20529</td>\n",
       "      <td>Member</td>\n",
       "      <td>0 days 00:03:30</td>\n",
       "    </tr>\n",
       "    <tr>\n",
       "      <th>289</th>\n",
       "      <td>2017-12-30 15:09:03-05:00</td>\n",
       "      <td>2017-12-30 15:19:13-05:00</td>\n",
       "      <td>31610</td>\n",
       "      <td>Eastern Market / 7th &amp; North Carolina Ave SE</td>\n",
       "      <td>31272</td>\n",
       "      <td>Washington &amp; Independence Ave SW/HHS</td>\n",
       "      <td>W20529</td>\n",
       "      <td>Member</td>\n",
       "      <td>0 days 00:10:10</td>\n",
       "    </tr>\n",
       "  </tbody>\n",
       "</table>\n",
       "</div>"
      ],
      "text/plain": [
       "                   Start date                  End date  Start station number  \\\n",
       "285 2017-12-29 14:32:55-05:00 2017-12-29 14:43:46-05:00                 31242   \n",
       "286 2017-12-29 15:08:26-05:00 2017-12-29 15:18:51-05:00                 31265   \n",
       "287 2017-12-29 20:33:34-05:00 2017-12-29 20:38:13-05:00                 31613   \n",
       "288 2017-12-30 13:51:03-05:00 2017-12-30 13:54:33-05:00                 31618   \n",
       "289 2017-12-30 15:09:03-05:00 2017-12-30 15:19:13-05:00                 31610   \n",
       "\n",
       "                                         Start station  End station number  \\\n",
       "285                      18th St & Pennsylvania Ave NW               31265   \n",
       "286                      5th St & Massachusetts Ave NW               31613   \n",
       "287  Eastern Market Metro / Pennsylvania Ave & 7th ...               31618   \n",
       "288                           4th & East Capitol St NE               31610   \n",
       "289       Eastern Market / 7th & North Carolina Ave SE               31272   \n",
       "\n",
       "                                           End station Bike number  \\\n",
       "285                      5th St & Massachusetts Ave NW      W20529   \n",
       "286  Eastern Market Metro / Pennsylvania Ave & 7th ...      W20529   \n",
       "287                           4th & East Capitol St NE      W20529   \n",
       "288       Eastern Market / 7th & North Carolina Ave SE      W20529   \n",
       "289               Washington & Independence Ave SW/HHS      W20529   \n",
       "\n",
       "    Member type        Duration  \n",
       "285      Member 0 days 00:10:51  \n",
       "286      Casual 0 days 00:10:25  \n",
       "287      Member 0 days 00:04:39  \n",
       "288      Member 0 days 00:03:30  \n",
       "289      Member 0 days 00:10:10  "
      ]
     },
     "execution_count": 104,
     "metadata": {},
     "output_type": "execute_result"
    }
   ],
   "source": [
    "bikes.tail()"
   ]
  },
  {
   "cell_type": "markdown",
   "id": "e9214ada",
   "metadata": {},
   "source": []
  },
  {
   "cell_type": "code",
   "execution_count": 106,
   "id": "76ee7885",
   "metadata": {},
   "outputs": [
    {
     "name": "stdout",
     "output_type": "stream",
     "text": [
      "Start date\n",
      "2017-10-31 00:00:00-04:00    5.519242\n",
      "2017-11-30 00:00:00-05:00    7.256474\n",
      "2017-12-31 00:00:00-05:00    9.202380\n",
      "Name: Time since, dtype: float64\n"
     ]
    }
   ],
   "source": [
    "bikes['Time since'] = bikes['Start date'] - (bikes['End date'].shift(1))\n",
    "\n",
    "# Move from a timedelta to a number of seconds, which is easier to work with\n",
    "bikes['Time since'] = bikes['Time since'].dt.total_seconds()\n",
    "\n",
    "# Resample to the month\n",
    "monthly = bikes.resample('ME',on='Start date')\n",
    "\n",
    "# Print the average hours between bikes each month\n",
    "print(monthly['Time since'].mean()/(60*60))"
   ]
  },
  {
   "cell_type": "code",
   "execution_count": 107,
   "id": "650a1a6f",
   "metadata": {},
   "outputs": [
    {
     "data": {
      "text/html": [
       "<div>\n",
       "<style scoped>\n",
       "    .dataframe tbody tr th:only-of-type {\n",
       "        vertical-align: middle;\n",
       "    }\n",
       "\n",
       "    .dataframe tbody tr th {\n",
       "        vertical-align: top;\n",
       "    }\n",
       "\n",
       "    .dataframe thead th {\n",
       "        text-align: right;\n",
       "    }\n",
       "</style>\n",
       "<table border=\"1\" class=\"dataframe\">\n",
       "  <thead>\n",
       "    <tr style=\"text-align: right;\">\n",
       "      <th></th>\n",
       "      <th>Start date</th>\n",
       "      <th>End date</th>\n",
       "      <th>Start station number</th>\n",
       "      <th>Start station</th>\n",
       "      <th>End station number</th>\n",
       "      <th>End station</th>\n",
       "      <th>Bike number</th>\n",
       "      <th>Member type</th>\n",
       "      <th>Duration</th>\n",
       "      <th>Time since</th>\n",
       "    </tr>\n",
       "  </thead>\n",
       "  <tbody>\n",
       "    <tr>\n",
       "      <th>0</th>\n",
       "      <td>2017-10-01 15:23:25-04:00</td>\n",
       "      <td>2017-10-01 15:26:26-04:00</td>\n",
       "      <td>31038</td>\n",
       "      <td>Glebe Rd &amp; 11th St N</td>\n",
       "      <td>31036</td>\n",
       "      <td>George Mason Dr &amp; Wilson Blvd</td>\n",
       "      <td>W20529</td>\n",
       "      <td>Member</td>\n",
       "      <td>0 days 00:03:01</td>\n",
       "      <td>NaN</td>\n",
       "    </tr>\n",
       "    <tr>\n",
       "      <th>1</th>\n",
       "      <td>2017-10-01 15:42:57-04:00</td>\n",
       "      <td>2017-10-01 17:49:59-04:00</td>\n",
       "      <td>31036</td>\n",
       "      <td>George Mason Dr &amp; Wilson Blvd</td>\n",
       "      <td>31036</td>\n",
       "      <td>George Mason Dr &amp; Wilson Blvd</td>\n",
       "      <td>W20529</td>\n",
       "      <td>Casual</td>\n",
       "      <td>0 days 02:07:02</td>\n",
       "      <td>991.0</td>\n",
       "    </tr>\n",
       "    <tr>\n",
       "      <th>2</th>\n",
       "      <td>2017-10-02 06:37:10-04:00</td>\n",
       "      <td>2017-10-02 06:42:53-04:00</td>\n",
       "      <td>31036</td>\n",
       "      <td>George Mason Dr &amp; Wilson Blvd</td>\n",
       "      <td>31037</td>\n",
       "      <td>Ballston Metro / N Stuart &amp; 9th St N</td>\n",
       "      <td>W20529</td>\n",
       "      <td>Member</td>\n",
       "      <td>0 days 00:05:43</td>\n",
       "      <td>46031.0</td>\n",
       "    </tr>\n",
       "    <tr>\n",
       "      <th>3</th>\n",
       "      <td>2017-10-02 08:56:45-04:00</td>\n",
       "      <td>2017-10-02 09:18:03-04:00</td>\n",
       "      <td>31037</td>\n",
       "      <td>Ballston Metro / N Stuart &amp; 9th St N</td>\n",
       "      <td>31295</td>\n",
       "      <td>Potomac &amp; M St NW</td>\n",
       "      <td>W20529</td>\n",
       "      <td>Member</td>\n",
       "      <td>0 days 00:21:18</td>\n",
       "      <td>8032.0</td>\n",
       "    </tr>\n",
       "    <tr>\n",
       "      <th>4</th>\n",
       "      <td>2017-10-02 18:23:48-04:00</td>\n",
       "      <td>2017-10-02 18:45:05-04:00</td>\n",
       "      <td>31295</td>\n",
       "      <td>Potomac &amp; M St NW</td>\n",
       "      <td>31230</td>\n",
       "      <td>Metro Center / 12th &amp; G St NW</td>\n",
       "      <td>W20529</td>\n",
       "      <td>Member</td>\n",
       "      <td>0 days 00:21:17</td>\n",
       "      <td>32745.0</td>\n",
       "    </tr>\n",
       "  </tbody>\n",
       "</table>\n",
       "</div>"
      ],
      "text/plain": [
       "                 Start date                  End date  Start station number  \\\n",
       "0 2017-10-01 15:23:25-04:00 2017-10-01 15:26:26-04:00                 31038   \n",
       "1 2017-10-01 15:42:57-04:00 2017-10-01 17:49:59-04:00                 31036   \n",
       "2 2017-10-02 06:37:10-04:00 2017-10-02 06:42:53-04:00                 31036   \n",
       "3 2017-10-02 08:56:45-04:00 2017-10-02 09:18:03-04:00                 31037   \n",
       "4 2017-10-02 18:23:48-04:00 2017-10-02 18:45:05-04:00                 31295   \n",
       "\n",
       "                          Start station  End station number  \\\n",
       "0                  Glebe Rd & 11th St N               31036   \n",
       "1         George Mason Dr & Wilson Blvd               31036   \n",
       "2         George Mason Dr & Wilson Blvd               31037   \n",
       "3  Ballston Metro / N Stuart & 9th St N               31295   \n",
       "4                     Potomac & M St NW               31230   \n",
       "\n",
       "                            End station Bike number Member type  \\\n",
       "0         George Mason Dr & Wilson Blvd      W20529      Member   \n",
       "1         George Mason Dr & Wilson Blvd      W20529      Casual   \n",
       "2  Ballston Metro / N Stuart & 9th St N      W20529      Member   \n",
       "3                     Potomac & M St NW      W20529      Member   \n",
       "4         Metro Center / 12th & G St NW      W20529      Member   \n",
       "\n",
       "         Duration  Time since  \n",
       "0 0 days 00:03:01         NaN  \n",
       "1 0 days 02:07:02       991.0  \n",
       "2 0 days 00:05:43     46031.0  \n",
       "3 0 days 00:21:18      8032.0  \n",
       "4 0 days 00:21:17     32745.0  "
      ]
     },
     "execution_count": 107,
     "metadata": {},
     "output_type": "execute_result"
    }
   ],
   "source": [
    "bikes.head()"
   ]
  },
  {
   "cell_type": "code",
   "execution_count": null,
   "id": "d230b535",
   "metadata": {},
   "outputs": [],
   "source": []
  },
  {
   "cell_type": "code",
   "execution_count": null,
   "id": "0efdb308",
   "metadata": {},
   "outputs": [],
   "source": []
  }
 ],
 "metadata": {
  "kernelspec": {
   "display_name": "dcvenv",
   "language": "python",
   "name": "python3"
  },
  "language_info": {
   "codemirror_mode": {
    "name": "ipython",
    "version": 3
   },
   "file_extension": ".py",
   "mimetype": "text/x-python",
   "name": "python",
   "nbconvert_exporter": "python",
   "pygments_lexer": "ipython3",
   "version": "3.13.5"
  }
 },
 "nbformat": 4,
 "nbformat_minor": 5
}
