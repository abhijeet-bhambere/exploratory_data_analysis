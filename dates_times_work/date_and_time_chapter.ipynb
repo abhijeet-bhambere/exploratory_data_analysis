{
 "cells": [
  {
   "cell_type": "markdown",
   "id": "bef229c8",
   "metadata": {},
   "source": [
    "# Working with Dates & Times data\n",
    "\n",
    "Using the `datetime` library from python to create datetime objects. This is how the default format (**ISO 8601**) is defined :\n",
    "\n",
    "**ISO Format**: YYYY-MM-DD\n",
    "\n",
    ">`date(`_`year`_,_`month`_,_`day`_`)`"
   ]
  },
  {
   "cell_type": "code",
   "execution_count": 1,
   "id": "1fbd6539",
   "metadata": {},
   "outputs": [],
   "source": [
    "import numpy as np\n",
    "import pandas as pd\n",
    "import matplotlib.pyplot as plt\n",
    "import seaborn as sns\n",
    "\n",
    "from datetime import date\n",
    "from datetime import timedelta"
   ]
  },
  {
   "cell_type": "code",
   "execution_count": 2,
   "id": "67ad5a15",
   "metadata": {},
   "outputs": [],
   "source": [
    "sample = [date(2025,1,1), date(2025,2,18), date(2025,4, 15), date(2024,11,6)]"
   ]
  },
  {
   "cell_type": "code",
   "execution_count": 3,
   "id": "22ad5159",
   "metadata": {},
   "outputs": [
    {
     "data": {
      "text/plain": [
       "18"
      ]
     },
     "execution_count": 3,
     "metadata": {},
     "output_type": "execute_result"
    }
   ],
   "source": [
    "sample[1].day"
   ]
  },
  {
   "cell_type": "markdown",
   "id": "0cce4046",
   "metadata": {},
   "source": [
    "**Using the `weekday` attribute** to determine the day of the week of given date.\n",
    "\n",
    "Starts with 0 - Monday to 6 - Sunday"
   ]
  },
  {
   "cell_type": "code",
   "execution_count": 4,
   "id": "58f927dd",
   "metadata": {},
   "outputs": [
    {
     "data": {
      "text/plain": [
       "1"
      ]
     },
     "execution_count": 4,
     "metadata": {},
     "output_type": "execute_result"
    }
   ],
   "source": [
    "sample[2].weekday()"
   ]
  },
  {
   "cell_type": "code",
   "execution_count": 5,
   "id": "ac420ab7",
   "metadata": {},
   "outputs": [
    {
     "data": {
      "text/plain": [
       "[datetime.date(1988, 8, 4),\n",
       " datetime.date(1990, 10, 12),\n",
       " datetime.date(2003, 4, 20),\n",
       " datetime.date(1971, 9, 1),\n",
       " datetime.date(1988, 8, 23),\n",
       " datetime.date(1994, 8, 15),\n",
       " datetime.date(2002, 8, 4),\n",
       " datetime.date(1988, 5, 30),\n",
       " datetime.date(2003, 9, 13),\n",
       " datetime.date(2009, 8, 21),\n",
       " datetime.date(1978, 6, 22),\n",
       " datetime.date(1969, 6, 9),\n",
       " datetime.date(1976, 6, 11),\n",
       " datetime.date(1976, 8, 19),\n",
       " datetime.date(1966, 6, 9),\n",
       " datetime.date(1968, 7, 5),\n",
       " datetime.date(1987, 11, 4),\n",
       " datetime.date(1988, 8, 13),\n",
       " datetime.date(2007, 12, 13),\n",
       " datetime.date(1994, 11, 16),\n",
       " datetime.date(2003, 9, 6),\n",
       " datetime.date(1971, 8, 13),\n",
       " datetime.date(1981, 8, 17),\n",
       " datetime.date(1998, 9, 25),\n",
       " datetime.date(1968, 9, 26),\n",
       " datetime.date(1968, 6, 4),\n",
       " datetime.date(1998, 11, 5),\n",
       " datetime.date(2008, 8, 18),\n",
       " datetime.date(1987, 8, 14),\n",
       " datetime.date(1988, 11, 23),\n",
       " datetime.date(2010, 9, 29),\n",
       " datetime.date(1985, 7, 23),\n",
       " datetime.date(2017, 7, 31),\n",
       " datetime.date(1955, 8, 21),\n",
       " datetime.date(1986, 6, 26),\n",
       " datetime.date(1963, 10, 21),\n",
       " datetime.date(2011, 10, 28),\n",
       " datetime.date(2011, 11, 9),\n",
       " datetime.date(1997, 7, 19),\n",
       " datetime.date(2007, 6, 2),\n",
       " datetime.date(2002, 9, 14),\n",
       " datetime.date(1992, 9, 29),\n",
       " datetime.date(1971, 10, 13),\n",
       " datetime.date(1962, 8, 26),\n",
       " datetime.date(1964, 8, 27),\n",
       " datetime.date(1984, 9, 27),\n",
       " datetime.date(1973, 9, 25),\n",
       " datetime.date(1969, 10, 21),\n",
       " datetime.date(1994, 7, 3),\n",
       " datetime.date(1958, 9, 4),\n",
       " datetime.date(1985, 11, 21),\n",
       " datetime.date(2011, 9, 3),\n",
       " datetime.date(1972, 6, 19),\n",
       " datetime.date(1991, 6, 30),\n",
       " datetime.date(2004, 8, 12),\n",
       " datetime.date(2007, 9, 8),\n",
       " datetime.date(1952, 2, 3),\n",
       " datetime.date(1965, 9, 30),\n",
       " datetime.date(2000, 9, 22),\n",
       " datetime.date(2002, 9, 26),\n",
       " datetime.date(1950, 9, 5),\n",
       " datetime.date(1966, 10, 4),\n",
       " datetime.date(1970, 5, 25),\n",
       " datetime.date(1979, 9, 24),\n",
       " datetime.date(1960, 9, 23),\n",
       " datetime.date(2007, 8, 23),\n",
       " datetime.date(2009, 8, 16),\n",
       " datetime.date(1996, 10, 18),\n",
       " datetime.date(2012, 10, 25),\n",
       " datetime.date(2011, 8, 25),\n",
       " datetime.date(1951, 5, 18),\n",
       " datetime.date(1980, 8, 7),\n",
       " datetime.date(1979, 9, 3),\n",
       " datetime.date(1953, 9, 26),\n",
       " datetime.date(1968, 10, 19),\n",
       " datetime.date(2009, 11, 9),\n",
       " datetime.date(1999, 8, 29),\n",
       " datetime.date(2015, 10, 1),\n",
       " datetime.date(2008, 9, 2),\n",
       " datetime.date(2004, 10, 10),\n",
       " datetime.date(2004, 9, 16),\n",
       " datetime.date(1992, 8, 24),\n",
       " datetime.date(2000, 9, 9),\n",
       " datetime.date(1971, 9, 16),\n",
       " datetime.date(1996, 9, 2),\n",
       " datetime.date(1998, 9, 3),\n",
       " datetime.date(1951, 10, 2),\n",
       " datetime.date(1979, 9, 12),\n",
       " datetime.date(2007, 10, 31),\n",
       " datetime.date(1953, 10, 9),\n",
       " datetime.date(1952, 8, 30),\n",
       " datetime.date(1969, 9, 7),\n",
       " datetime.date(2015, 8, 30),\n",
       " datetime.date(1959, 10, 8),\n",
       " datetime.date(2002, 7, 13),\n",
       " datetime.date(1961, 10, 29),\n",
       " datetime.date(2007, 5, 9),\n",
       " datetime.date(2016, 10, 7),\n",
       " datetime.date(1964, 9, 20),\n",
       " datetime.date(1979, 7, 11),\n",
       " datetime.date(1950, 10, 18),\n",
       " datetime.date(2008, 8, 31),\n",
       " datetime.date(2012, 8, 25),\n",
       " datetime.date(1966, 7, 24),\n",
       " datetime.date(2010, 8, 10),\n",
       " datetime.date(2005, 8, 25),\n",
       " datetime.date(2003, 6, 30),\n",
       " datetime.date(1956, 7, 6),\n",
       " datetime.date(1974, 9, 8),\n",
       " datetime.date(1966, 6, 30),\n",
       " datetime.date(2016, 9, 14),\n",
       " datetime.date(1968, 6, 18),\n",
       " datetime.date(1982, 9, 11),\n",
       " datetime.date(1976, 9, 13),\n",
       " datetime.date(1975, 7, 29),\n",
       " datetime.date(2007, 9, 13),\n",
       " datetime.date(1970, 9, 27),\n",
       " datetime.date(1969, 10, 2),\n",
       " datetime.date(2010, 8, 31),\n",
       " datetime.date(1995, 10, 4),\n",
       " datetime.date(1969, 8, 29),\n",
       " datetime.date(1984, 10, 26),\n",
       " datetime.date(1973, 9, 3),\n",
       " datetime.date(1976, 5, 23),\n",
       " datetime.date(2001, 11, 5),\n",
       " datetime.date(2010, 6, 30),\n",
       " datetime.date(1985, 10, 10),\n",
       " datetime.date(1970, 7, 22),\n",
       " datetime.date(1972, 5, 28),\n",
       " datetime.date(1982, 6, 18),\n",
       " datetime.date(2001, 8, 6),\n",
       " datetime.date(1953, 8, 29),\n",
       " datetime.date(1965, 9, 8),\n",
       " datetime.date(1964, 9, 10),\n",
       " datetime.date(1959, 10, 18),\n",
       " datetime.date(1957, 6, 8),\n",
       " datetime.date(1988, 9, 10),\n",
       " datetime.date(2005, 6, 11),\n",
       " datetime.date(1953, 6, 6),\n",
       " datetime.date(2003, 8, 30),\n",
       " datetime.date(2002, 10, 3),\n",
       " datetime.date(1968, 8, 10),\n",
       " datetime.date(1999, 10, 15),\n",
       " datetime.date(2002, 9, 4),\n",
       " datetime.date(2001, 6, 12),\n",
       " datetime.date(2017, 9, 10),\n",
       " datetime.date(2005, 10, 5),\n",
       " datetime.date(2005, 7, 10),\n",
       " datetime.date(1973, 6, 7),\n",
       " datetime.date(1999, 9, 15),\n",
       " datetime.date(2005, 9, 20),\n",
       " datetime.date(1995, 6, 5),\n",
       " datetime.date(2003, 7, 25),\n",
       " datetime.date(2004, 9, 13),\n",
       " datetime.date(1964, 6, 6),\n",
       " datetime.date(1973, 6, 23),\n",
       " datetime.date(2005, 9, 12),\n",
       " datetime.date(2012, 6, 23),\n",
       " datetime.date(1961, 9, 11),\n",
       " datetime.date(1990, 5, 25),\n",
       " datetime.date(2017, 6, 21),\n",
       " datetime.date(1975, 6, 27),\n",
       " datetime.date(1959, 6, 18),\n",
       " datetime.date(2004, 9, 5),\n",
       " datetime.date(1987, 10, 12),\n",
       " datetime.date(1995, 7, 27),\n",
       " datetime.date(1964, 10, 14),\n",
       " datetime.date(1970, 8, 6),\n",
       " datetime.date(1969, 10, 1),\n",
       " datetime.date(1996, 10, 8),\n",
       " datetime.date(1968, 8, 28),\n",
       " datetime.date(1956, 10, 15),\n",
       " datetime.date(1975, 9, 23),\n",
       " datetime.date(1970, 9, 13),\n",
       " datetime.date(1975, 10, 16),\n",
       " datetime.date(1990, 10, 9),\n",
       " datetime.date(2005, 10, 24),\n",
       " datetime.date(1950, 8, 31),\n",
       " datetime.date(2000, 10, 3),\n",
       " datetime.date(2002, 10, 11),\n",
       " datetime.date(1983, 8, 28),\n",
       " datetime.date(1960, 7, 29),\n",
       " datetime.date(1950, 10, 21),\n",
       " datetime.date(1995, 8, 2),\n",
       " datetime.date(1956, 9, 24),\n",
       " datetime.date(2016, 9, 1),\n",
       " datetime.date(1993, 6, 1),\n",
       " datetime.date(1987, 9, 7),\n",
       " datetime.date(2012, 5, 28),\n",
       " datetime.date(1995, 8, 23),\n",
       " datetime.date(1969, 8, 18),\n",
       " datetime.date(2001, 9, 14),\n",
       " datetime.date(2000, 8, 23),\n",
       " datetime.date(1974, 10, 7),\n",
       " datetime.date(1986, 8, 13),\n",
       " datetime.date(1977, 8, 27),\n",
       " datetime.date(2008, 7, 16),\n",
       " datetime.date(1996, 7, 11),\n",
       " datetime.date(1988, 9, 4),\n",
       " datetime.date(1975, 10, 1),\n",
       " datetime.date(2003, 8, 14),\n",
       " datetime.date(1957, 9, 8),\n",
       " datetime.date(2005, 7, 6),\n",
       " datetime.date(1960, 9, 15),\n",
       " datetime.date(1974, 9, 27),\n",
       " datetime.date(1965, 6, 15),\n",
       " datetime.date(1999, 9, 21),\n",
       " datetime.date(2004, 8, 13),\n",
       " datetime.date(1994, 10, 2),\n",
       " datetime.date(1971, 8, 10),\n",
       " datetime.date(2008, 7, 22),\n",
       " datetime.date(2000, 9, 18),\n",
       " datetime.date(1960, 9, 10),\n",
       " datetime.date(2006, 6, 13),\n",
       " datetime.date(2017, 10, 29),\n",
       " datetime.date(1972, 9, 5),\n",
       " datetime.date(1964, 10, 5),\n",
       " datetime.date(1991, 10, 16),\n",
       " datetime.date(1969, 9, 21),\n",
       " datetime.date(1998, 9, 20),\n",
       " datetime.date(1977, 9, 5),\n",
       " datetime.date(1988, 9, 13),\n",
       " datetime.date(1974, 6, 25),\n",
       " datetime.date(2010, 7, 23),\n",
       " datetime.date(2007, 9, 22),\n",
       " datetime.date(1984, 9, 9),\n",
       " datetime.date(1989, 9, 22),\n",
       " datetime.date(1992, 6, 25),\n",
       " datetime.date(1971, 8, 29),\n",
       " datetime.date(1953, 9, 20),\n",
       " datetime.date(1985, 8, 15),\n",
       " datetime.date(2016, 6, 6),\n",
       " datetime.date(2006, 8, 30),\n",
       " datetime.date(1980, 11, 18),\n",
       " datetime.date(2011, 7, 18)]"
      ]
     },
     "execution_count": 5,
     "metadata": {},
     "output_type": "execute_result"
    }
   ],
   "source": [
    "fl_hd = pd.read_pickle('./florida_hurricane_dates.pkl')\n",
    "fl_hd"
   ]
  },
  {
   "cell_type": "code",
   "execution_count": 6,
   "id": "b52dc70f",
   "metadata": {},
   "outputs": [],
   "source": [
    "counter_var = 0\n",
    "for hurricane in fl_hd:\n",
    "    if hurricane.year >2015:\n",
    "        counter_var+=1"
   ]
  },
  {
   "cell_type": "code",
   "execution_count": 7,
   "id": "e9454495",
   "metadata": {},
   "outputs": [
    {
     "data": {
      "text/plain": [
       "8"
      ]
     },
     "execution_count": 7,
     "metadata": {},
     "output_type": "execute_result"
    }
   ],
   "source": [
    "counter_var"
   ]
  },
  {
   "cell_type": "markdown",
   "id": "b72999c4",
   "metadata": {},
   "source": [
    "## Math operations on datetime objects"
   ]
  },
  {
   "cell_type": "code",
   "execution_count": 8,
   "id": "cf77bf46",
   "metadata": {},
   "outputs": [
    {
     "name": "stdout",
     "output_type": "stream",
     "text": [
      "1950-08-31\n",
      "2017-10-29\n"
     ]
    }
   ],
   "source": [
    "# Finding latest  OR earliest dates:\n",
    "print(min(fl_hd))\n",
    "\n",
    "print(max(fl_hd))"
   ]
  },
  {
   "cell_type": "code",
   "execution_count": 9,
   "id": "fde971d1",
   "metadata": {},
   "outputs": [],
   "source": [
    "fl_hd.sort()"
   ]
  },
  {
   "cell_type": "code",
   "execution_count": 10,
   "id": "43244e72",
   "metadata": {},
   "outputs": [
    {
     "data": {
      "text/plain": [
       "19"
      ]
     },
     "execution_count": 10,
     "metadata": {},
     "output_type": "execute_result"
    }
   ],
   "source": [
    "# Finding delta in days\n",
    "(fl_hd[12] - fl_hd[10]).days"
   ]
  },
  {
   "cell_type": "code",
   "execution_count": 11,
   "id": "a84b1ada",
   "metadata": {},
   "outputs": [
    {
     "data": {
      "text/plain": [
       "7"
      ]
     },
     "execution_count": 11,
     "metadata": {},
     "output_type": "execute_result"
    }
   ],
   "source": [
    "# Finding delta in years\n",
    "fl_hd[25].year - fl_hd[9].year"
   ]
  },
  {
   "cell_type": "code",
   "execution_count": 12,
   "id": "c2ad77b0",
   "metadata": {},
   "outputs": [],
   "source": [
    "# Month wise count\n",
    "hurricanes_each_month = {1: 0, 2: 0, 3: 0, 4: 0, 5: 0, 6:0,\n",
    "\t\t  \t\t\t\t 7: 0, 8:0, 9:0, 10:0, 11:0, 12:0}"
   ]
  },
  {
   "cell_type": "code",
   "execution_count": 13,
   "id": "1708213e",
   "metadata": {},
   "outputs": [
    {
     "name": "stdout",
     "output_type": "stream",
     "text": [
      "{1: 0, 2: 1, 3: 0, 4: 1, 5: 8, 6: 32, 7: 21, 8: 49, 9: 70, 10: 43, 11: 9, 12: 1}\n"
     ]
    }
   ],
   "source": [
    "for hurricane in fl_hd:\n",
    "    # for every date in fl_hd, fetch the month \n",
    "    month = hurricane.month\n",
    "    # check the same month in dates dict & increment count\n",
    "    hurricanes_each_month[month]+=1\n",
    "\n",
    "print(hurricanes_each_month)"
   ]
  },
  {
   "cell_type": "code",
   "execution_count": 14,
   "id": "6f369d59",
   "metadata": {},
   "outputs": [
    {
     "data": {
      "image/png": "[encoded data removed]",
      "text/plain": [
       "<Figure size 640x480 with 1 Axes>"
      ]
     },
     "metadata": {},
     "output_type": "display_data"
    }
   ],
   "source": [
    "sns.barplot(data=hurricanes_each_month, x=hurricanes_each_month.keys(), y=hurricanes_each_month.values())\n",
    "plt.title(\"Month-wise hurricane count\")\n",
    "plt.show()"
   ]
  },
  {
   "cell_type": "code",
   "execution_count": 15,
   "id": "8124431b",
   "metadata": {},
   "outputs": [
    {
     "data": {
      "text/plain": [
       "dict_keys([1, 2, 3, 4, 5, 6, 7, 8, 9, 10, 11, 12])"
      ]
     },
     "execution_count": 15,
     "metadata": {},
     "output_type": "execute_result"
    }
   ],
   "source": [
    "hurricanes_each_month.keys()"
   ]
  },
  {
   "cell_type": "markdown",
   "id": "f4830bd6",
   "metadata": {},
   "source": [
    "### Arranging dates in chronological order\n",
    "Using the `.sorted()` function on a list"
   ]
  },
  {
   "cell_type": "code",
   "execution_count": null,
   "id": "747fc63f",
   "metadata": {},
   "outputs": [],
   "source": []
  },
  {
   "cell_type": "markdown",
   "id": "4365edff",
   "metadata": {},
   "source": [
    "### Turning dates into strings\n",
    "\n",
    "By default converted into ISO 8601 format (i.e. YYYY-MM-DD). `datetime obj.isoformat()`\n",
    "\n",
    "For own custom format use `strftime`. Example syntax is:  `datetime obj.strftime(\"%Y\")`"
   ]
  },
  {
   "cell_type": "code",
   "execution_count": 16,
   "id": "2470d681",
   "metadata": {},
   "outputs": [
    {
     "data": {
      "text/plain": [
       "'1950'"
      ]
     },
     "execution_count": 16,
     "metadata": {},
     "output_type": "execute_result"
    }
   ],
   "source": [
    "fl_hd[0].strftime(\"%Y\")"
   ]
  },
  {
   "cell_type": "code",
   "execution_count": 17,
   "id": "1a514f5c",
   "metadata": {},
   "outputs": [
    {
     "data": {
      "text/plain": [
       "'1950-August-31'"
      ]
     },
     "execution_count": 17,
     "metadata": {},
     "output_type": "execute_result"
    }
   ],
   "source": [
    "# Customizing the date format as per our requirements\n",
    "fl_hd[0].strftime(\"%Y-%B-%d\")"
   ]
  },
  {
   "cell_type": "code",
   "execution_count": 18,
   "id": "d59e9da1",
   "metadata": {},
   "outputs": [
    {
     "data": {
      "text/plain": [
       "'Year value for this record is 1950'"
      ]
     },
     "execution_count": 18,
     "metadata": {},
     "output_type": "execute_result"
    }
   ],
   "source": [
    "# We can also insert texts\n",
    "fl_hd[0].strftime(\"Year value for this record is %Y\")\n"
   ]
  },
  {
   "cell_type": "markdown",
   "id": "6db8e655",
   "metadata": {},
   "source": [
    "In this exercise, you will format the earliest date in the florida_hurricane_dates list in two ways so you can decide which one you want to use: \n",
    "\n",
    "either the ISO standard OR  the typical US style."
   ]
  },
  {
   "cell_type": "code",
   "execution_count": 19,
   "id": "51325efa",
   "metadata": {},
   "outputs": [
    {
     "name": "stdout",
     "output_type": "stream",
     "text": [
      "ISO format is:1950-08-31 (YYYY-MM-DD) ; US format is: 08/31/1950 (MM/DD/YYYY)\n"
     ]
    }
   ],
   "source": [
    "# Determining earliest format from the list\n",
    "earliest = min(fl_hd)\n",
    "\n",
    "iso = earliest.isoformat()\n",
    "us = earliest.strftime(\"%m/%d/%Y\")\n",
    "\n",
    "print(f\"ISO format is:{iso} (YYYY-MM-DD) ; US format is: {us} (MM/DD/YYYY)\")"
   ]
  },
  {
   "cell_type": "markdown",
   "id": "e79f6c12",
   "metadata": {},
   "source": [
    "### Exercise \n",
    "\n",
    "Attempting other formats from the exercise Questions:"
   ]
  },
  {
   "cell_type": "code",
   "execution_count": 20,
   "id": "2d735b46",
   "metadata": {},
   "outputs": [
    {
     "name": "stdout",
     "output_type": "stream",
     "text": [
      "August (1950)\n"
     ]
    }
   ],
   "source": [
    "# Print the date in the format 'MONTH (YYYY)'\n",
    "print(earliest.strftime(\"%B (%Y)\"))"
   ]
  },
  {
   "cell_type": "code",
   "execution_count": 21,
   "id": "2cd313ea",
   "metadata": {},
   "outputs": [
    {
     "name": "stdout",
     "output_type": "stream",
     "text": [
      "1950-243\n"
     ]
    }
   ],
   "source": [
    "# Print the date in the format 'YYYY-DDD'; Astronomers usually use the 'day number' out of 366 \n",
    "# instead of the month and date to avoid ambiguities between languages.\n",
    "print(earliest.strftime(\"%Y-%j\"))"
   ]
  },
  {
   "cell_type": "markdown",
   "id": "a1021669",
   "metadata": {},
   "source": [
    "# Dates & Times\n",
    "The date component of the datetime object carries same format for dates as seen earlier, but now also contains `hours:mins:sec` . Micro-seconds could also be added"
   ]
  },
  {
   "cell_type": "code",
   "execution_count": 22,
   "id": "ed18917f",
   "metadata": {},
   "outputs": [],
   "source": [
    "from datetime import datetime"
   ]
  },
  {
   "cell_type": "code",
   "execution_count": 23,
   "id": "65dc8b65",
   "metadata": {},
   "outputs": [
    {
     "name": "stdout",
     "output_type": "stream",
     "text": [
      "2017-10-01 14:30:30\n"
     ]
    }
   ],
   "source": [
    "dt = datetime(2017, 10,1,14,30,30)\n",
    "print(dt)"
   ]
  },
  {
   "cell_type": "code",
   "execution_count": 24,
   "id": "19a24b32",
   "metadata": {},
   "outputs": [
    {
     "name": "stdout",
     "output_type": "stream",
     "text": [
      "2017-10-01 14:55:30\n"
     ]
    }
   ],
   "source": [
    "# Various methods can be applied to the dt object\n",
    "dt_new = dt.replace(minute=55)\n",
    "print(dt_new)"
   ]
  },
  {
   "cell_type": "code",
   "execution_count": 25,
   "id": "e9ae432d",
   "metadata": {},
   "outputs": [
    {
     "name": "stdout",
     "output_type": "stream",
     "text": [
      "2017-10-01 14:30:30\n",
      "2017-10-01 14:59:00\n"
     ]
    }
   ],
   "source": [
    "print(dt)\n",
    "\n",
    "print(dt.replace(minute=59, second=0))"
   ]
  },
  {
   "cell_type": "markdown",
   "id": "29a106a4",
   "metadata": {},
   "source": [
    "### Q: Print the results in ISO format.\n",
    "Create a datetime for October 1, 2017 at 15:26:26."
   ]
  },
  {
   "cell_type": "code",
   "execution_count": 26,
   "id": "282db248",
   "metadata": {},
   "outputs": [
    {
     "name": "stdout",
     "output_type": "stream",
     "text": [
      "2017-10-01T15:26:26\n"
     ]
    }
   ],
   "source": [
    "newdt = datetime(2017, 10, 1, 15,26,26)\n",
    "print(newdt.isoformat())"
   ]
  },
  {
   "cell_type": "markdown",
   "id": "cffe8dbc",
   "metadata": {},
   "source": []
  },
  {
   "cell_type": "code",
   "execution_count": null,
   "id": "ef079cda",
   "metadata": {},
   "outputs": [],
   "source": []
  },
  {
   "cell_type": "code",
   "execution_count": null,
   "id": "ca1ac504",
   "metadata": {},
   "outputs": [],
   "source": []
  },
  {
   "cell_type": "markdown",
   "id": "cb7490bd",
   "metadata": {},
   "source": [
    "## Working with the `capital-onebike` dataset"
   ]
  },
  {
   "cell_type": "code",
   "execution_count": 27,
   "id": "622d03d3",
   "metadata": {},
   "outputs": [
    {
     "name": "stdout",
     "output_type": "stream",
     "text": [
      "<class 'pandas.core.frame.DataFrame'>\n",
      "RangeIndex: 290 entries, 0 to 289\n",
      "Data columns (total 8 columns):\n",
      " #   Column                Non-Null Count  Dtype \n",
      "---  ------                --------------  ----- \n",
      " 0   Start date            290 non-null    object\n",
      " 1   End date              290 non-null    object\n",
      " 2   Start station number  290 non-null    int64 \n",
      " 3   Start station         290 non-null    object\n",
      " 4   End station number    290 non-null    int64 \n",
      " 5   End station           290 non-null    object\n",
      " 6   Bike number           290 non-null    object\n",
      " 7   Member type           290 non-null    object\n",
      "dtypes: int64(2), object(6)\n",
      "memory usage: 18.3+ KB\n"
     ]
    }
   ],
   "source": [
    "onebike = pd.read_csv('./capital-onebike.csv')\n",
    "onebike.info()"
   ]
  },
  {
   "cell_type": "code",
   "execution_count": 28,
   "id": "9168d296",
   "metadata": {},
   "outputs": [
    {
     "data": {
      "text/html": [
       "<div>\n",
       "<style scoped>\n",
       "    .dataframe tbody tr th:only-of-type {\n",
       "        vertical-align: middle;\n",
       "    }\n",
       "\n",
       "    .dataframe tbody tr th {\n",
       "        vertical-align: top;\n",
       "    }\n",
       "\n",
       "    .dataframe thead th {\n",
       "        text-align: right;\n",
       "    }\n",
       "</style>\n",
       "<table border=\"1\" class=\"dataframe\">\n",
       "  <thead>\n",
       "    <tr style=\"text-align: right;\">\n",
       "      <th></th>\n",
       "      <th>Start date</th>\n",
       "      <th>End date</th>\n",
       "      <th>Start station number</th>\n",
       "      <th>Start station</th>\n",
       "      <th>End station number</th>\n",
       "      <th>End station</th>\n",
       "      <th>Bike number</th>\n",
       "      <th>Member type</th>\n",
       "    </tr>\n",
       "  </thead>\n",
       "  <tbody>\n",
       "    <tr>\n",
       "      <th>0</th>\n",
       "      <td>2017-10-01 15:23:25</td>\n",
       "      <td>2017-10-01 15:26:26</td>\n",
       "      <td>31038</td>\n",
       "      <td>Glebe Rd &amp; 11th St N</td>\n",
       "      <td>31036</td>\n",
       "      <td>George Mason Dr &amp; Wilson Blvd</td>\n",
       "      <td>W20529</td>\n",
       "      <td>Member</td>\n",
       "    </tr>\n",
       "    <tr>\n",
       "      <th>1</th>\n",
       "      <td>2017-10-01 15:42:57</td>\n",
       "      <td>2017-10-01 17:49:59</td>\n",
       "      <td>31036</td>\n",
       "      <td>George Mason Dr &amp; Wilson Blvd</td>\n",
       "      <td>31036</td>\n",
       "      <td>George Mason Dr &amp; Wilson Blvd</td>\n",
       "      <td>W20529</td>\n",
       "      <td>Casual</td>\n",
       "    </tr>\n",
       "    <tr>\n",
       "      <th>2</th>\n",
       "      <td>2017-10-02 06:37:10</td>\n",
       "      <td>2017-10-02 06:42:53</td>\n",
       "      <td>31036</td>\n",
       "      <td>George Mason Dr &amp; Wilson Blvd</td>\n",
       "      <td>31037</td>\n",
       "      <td>Ballston Metro / N Stuart &amp; 9th St N</td>\n",
       "      <td>W20529</td>\n",
       "      <td>Member</td>\n",
       "    </tr>\n",
       "    <tr>\n",
       "      <th>3</th>\n",
       "      <td>2017-10-02 08:56:45</td>\n",
       "      <td>2017-10-02 09:18:03</td>\n",
       "      <td>31037</td>\n",
       "      <td>Ballston Metro / N Stuart &amp; 9th St N</td>\n",
       "      <td>31295</td>\n",
       "      <td>Potomac &amp; M St NW</td>\n",
       "      <td>W20529</td>\n",
       "      <td>Member</td>\n",
       "    </tr>\n",
       "    <tr>\n",
       "      <th>4</th>\n",
       "      <td>2017-10-02 18:23:48</td>\n",
       "      <td>2017-10-02 18:45:05</td>\n",
       "      <td>31295</td>\n",
       "      <td>Potomac &amp; M St NW</td>\n",
       "      <td>31230</td>\n",
       "      <td>Metro Center / 12th &amp; G St NW</td>\n",
       "      <td>W20529</td>\n",
       "      <td>Member</td>\n",
       "    </tr>\n",
       "  </tbody>\n",
       "</table>\n",
       "</div>"
      ],
      "text/plain": [
       "            Start date             End date  Start station number  \\\n",
       "0  2017-10-01 15:23:25  2017-10-01 15:26:26                 31038   \n",
       "1  2017-10-01 15:42:57  2017-10-01 17:49:59                 31036   \n",
       "2  2017-10-02 06:37:10  2017-10-02 06:42:53                 31036   \n",
       "3  2017-10-02 08:56:45  2017-10-02 09:18:03                 31037   \n",
       "4  2017-10-02 18:23:48  2017-10-02 18:45:05                 31295   \n",
       "\n",
       "                          Start station  End station number  \\\n",
       "0                  Glebe Rd & 11th St N               31036   \n",
       "1         George Mason Dr & Wilson Blvd               31036   \n",
       "2         George Mason Dr & Wilson Blvd               31037   \n",
       "3  Ballston Metro / N Stuart & 9th St N               31295   \n",
       "4                     Potomac & M St NW               31230   \n",
       "\n",
       "                            End station Bike number Member type  \n",
       "0         George Mason Dr & Wilson Blvd      W20529      Member  \n",
       "1         George Mason Dr & Wilson Blvd      W20529      Casual  \n",
       "2  Ballston Metro / N Stuart & 9th St N      W20529      Member  \n",
       "3                     Potomac & M St NW      W20529      Member  \n",
       "4         Metro Center / 12th & G St NW      W20529      Member  "
      ]
     },
     "execution_count": 28,
     "metadata": {},
     "output_type": "execute_result"
    }
   ],
   "source": [
    "onebike.head()"
   ]
  },
  {
   "cell_type": "code",
   "execution_count": 29,
   "id": "96ded068",
   "metadata": {},
   "outputs": [
    {
     "data": {
      "text/plain": [
       "Bike number\n",
       "W20529    290\n",
       "Name: count, dtype: int64"
      ]
     },
     "execution_count": 29,
     "metadata": {},
     "output_type": "execute_result"
    }
   ],
   "source": [
    "onebike['Bike number'].value_counts()"
   ]
  },
  {
   "cell_type": "code",
   "execution_count": 30,
   "id": "03a65963",
   "metadata": {},
   "outputs": [],
   "source": [
    "adict= [{'start': datetime(2017, 10, 1, 15, 23, 25),\n",
    "  'end': datetime(2017, 10, 1, 15, 26, 26)},\n",
    " {'start': datetime(2017, 10, 1, 15, 42, 57),\n",
    "  'end': datetime(2017, 10, 1, 17, 49, 59)},\n",
    " {'start': datetime(2017, 10, 2, 6, 37, 10),\n",
    "  'end': datetime(2017, 10, 2, 6, 42, 53)},\n",
    " {'start': datetime(2017, 10, 2, 8, 56, 45),\n",
    "  'end': datetime(2017, 10, 2, 9, 18, 3)},\n",
    " {'start': datetime(2017, 10, 2, 18, 23, 48),\n",
    "  'end': datetime(2017, 10, 2, 18, 45, 5)},]"
   ]
  },
  {
   "cell_type": "code",
   "execution_count": 31,
   "id": "904d9c3e",
   "metadata": {},
   "outputs": [
    {
     "name": "stdout",
     "output_type": "stream",
     "text": [
      "2017-10-02 06:37:10 was in morning\n",
      "2017-10-02 08:56:45 was in morning\n"
     ]
    }
   ],
   "source": [
    "for trip in adict:\n",
    "    if trip['start'].hour < 12:\n",
    "        print(f\"{trip['start']} was in morning\")\n"
   ]
  },
  {
   "cell_type": "markdown",
   "id": "10ba7e89",
   "metadata": {},
   "source": [
    "# Parsing datetimes\n",
    "\n",
    "Using `datetime.strptime(\"__\")"
   ]
  },
  {
   "cell_type": "code",
   "execution_count": 32,
   "id": "2f3a535a",
   "metadata": {},
   "outputs": [
    {
     "name": "stdout",
     "output_type": "stream",
     "text": [
      "2017-10-02 09:18:03\n"
     ]
    }
   ],
   "source": [
    "dt = datetime(2017, 10, 2, 9, 18, 3)\n",
    "print(dt)"
   ]
  },
  {
   "cell_type": "code",
   "execution_count": 33,
   "id": "476f2df0",
   "metadata": {},
   "outputs": [
    {
     "name": "stdout",
     "output_type": "stream",
     "text": [
      "2017-10-02T09:18:03\n"
     ]
    }
   ],
   "source": [
    "print(dt.isoformat())"
   ]
  },
  {
   "cell_type": "code",
   "execution_count": 34,
   "id": "bf8d4945",
   "metadata": {},
   "outputs": [
    {
     "name": "stdout",
     "output_type": "stream",
     "text": [
      "2015-01-15 14:30:33\n"
     ]
    }
   ],
   "source": [
    "strdt = datetime.strptime(\"2015/01/15 14:30:33\", \"%Y/%m/%d %H:%M:%S\")\n",
    "print(strdt)"
   ]
  },
  {
   "cell_type": "markdown",
   "id": "c7e882d7",
   "metadata": {},
   "source": [
    "# Working with durations\n",
    "\n",
    "Difference between two datetime objects"
   ]
  },
  {
   "cell_type": "code",
   "execution_count": 35,
   "id": "804dc53d",
   "metadata": {},
   "outputs": [
    {
     "name": "stdout",
     "output_type": "stream",
     "text": [
      "2017-10-01 15:42:57 ; 2017-10-01 17:49:59\n"
     ]
    }
   ],
   "source": [
    "start = adict[1]['start']\n",
    "end = adict[1]['end']\n",
    "\n",
    "print(f\"{start} ; {end}\")"
   ]
  },
  {
   "cell_type": "code",
   "execution_count": 36,
   "id": "d5d342ac",
   "metadata": {},
   "outputs": [
    {
     "data": {
      "text/plain": [
       "2.12"
      ]
     },
     "execution_count": 36,
     "metadata": {},
     "output_type": "execute_result"
    }
   ],
   "source": [
    "round((end - start).total_seconds()/3600,2)"
   ]
  },
  {
   "cell_type": "markdown",
   "id": "228506e9",
   "metadata": {},
   "source": [
    "## Using `timedelta` module\n",
    "\n",
    "Adding a `timedelta` object to a datetime object to modify it to a time that is later or earlier than the object.\n",
    "\n"
   ]
  },
  {
   "cell_type": "code",
   "execution_count": 37,
   "id": "73543ea2",
   "metadata": {},
   "outputs": [],
   "source": [
    "from datetime import timedelta"
   ]
  },
  {
   "cell_type": "code",
   "execution_count": 38,
   "id": "314c1f3d",
   "metadata": {},
   "outputs": [
    {
     "name": "stdout",
     "output_type": "stream",
     "text": [
      "<class 'datetime.timedelta'>\n"
     ]
    }
   ],
   "source": [
    "add_delta = timedelta(days=2)\n",
    "print(type(add_delta))"
   ]
  },
  {
   "cell_type": "code",
   "execution_count": 39,
   "id": "05adf408",
   "metadata": {},
   "outputs": [
    {
     "name": "stdout",
     "output_type": "stream",
     "text": [
      "2017-10-02 06:37:10\n",
      "<class 'datetime.datetime'>\n"
     ]
    }
   ],
   "source": [
    "sample_dt = adict[2]['start']\n",
    "print(sample_dt)\n",
    "print(type(sample_dt))"
   ]
  },
  {
   "cell_type": "markdown",
   "id": "84bbf990",
   "metadata": {},
   "source": [
    "The new date:"
   ]
  },
  {
   "cell_type": "code",
   "execution_count": 40,
   "id": "462074a9",
   "metadata": {},
   "outputs": [
    {
     "name": "stdout",
     "output_type": "stream",
     "text": [
      "2017-10-04 06:37:10\n"
     ]
    }
   ],
   "source": [
    "print(sample_dt + add_delta)"
   ]
  },
  {
   "cell_type": "code",
   "execution_count": 41,
   "id": "a8db3b86",
   "metadata": {},
   "outputs": [
    {
     "name": "stdout",
     "output_type": "stream",
     "text": [
      "2018-10-02 06:37:10\n"
     ]
    }
   ],
   "source": [
    "# Adding timedelta directly\n",
    "print(sample_dt + timedelta(days=365))"
   ]
  },
  {
   "cell_type": "code",
   "execution_count": 42,
   "id": "d51fc6a1",
   "metadata": {},
   "outputs": [
    {
     "name": "stdout",
     "output_type": "stream",
     "text": [
      "2017-09-02 06:37:10\n"
     ]
    }
   ],
   "source": [
    "# Adding a timedelta value of past time ; eg past one month\n",
    "print(sample_dt + timedelta(days=-30))"
   ]
  },
  {
   "cell_type": "markdown",
   "id": "ccd15207",
   "metadata": {},
   "source": [
    "# Working with UTC Offsets\n",
    "Handling UTC time in Python primarily involves the datetime module, especially with the timezone object for creating timezone-aware datetime objects."
   ]
  },
  {
   "cell_type": "code",
   "execution_count": 43,
   "id": "40af62db",
   "metadata": {},
   "outputs": [],
   "source": [
    "from datetime import datetime, timedelta, timezone"
   ]
  },
  {
   "cell_type": "code",
   "execution_count": 59,
   "id": "35d16614",
   "metadata": {},
   "outputs": [
    {
     "name": "stdout",
     "output_type": "stream",
     "text": [
      "2025-10-04 00:30:00\n"
     ]
    }
   ],
   "source": [
    "# US ET timezone\n",
    "ET = timezone(timedelta(hours=-5))\n",
    "# Timzone-aware datetime - 4th October 30mins past midnight\n",
    "dt = datetime(2025,10,4, 00, 30,00)\n",
    "\n",
    "print(dt)"
   ]
  },
  {
   "cell_type": "code",
   "execution_count": 60,
   "id": "91d80d4e",
   "metadata": {},
   "outputs": [
    {
     "name": "stdout",
     "output_type": "stream",
     "text": [
      "2025-10-04 00:30:00+05:30\n"
     ]
    }
   ],
   "source": [
    "# Creating a timezone object\n",
    "IST = timezone(timedelta(hours=5, minutes=30))\n",
    "# Converting sample dt to IST timezone\n",
    "print(dt.astimezone(IST))"
   ]
  },
  {
   "cell_type": "markdown",
   "id": "7a56617f",
   "metadata": {},
   "source": [
    "print(dt.replace)"
   ]
  },
  {
   "cell_type": "code",
   "execution_count": 56,
   "id": "69110922",
   "metadata": {},
   "outputs": [
    {
     "name": "stdout",
     "output_type": "stream",
     "text": [
      "2025-10-04 00:30:00+00:00\n"
     ]
    }
   ],
   "source": [
    "# Changing the clock altogether to UTC offset\n",
    "print(dt.replace(tzinfo=timezone.utc))"
   ]
  },
  {
   "cell_type": "code",
   "execution_count": 57,
   "id": "cf92af88",
   "metadata": {},
   "outputs": [
    {
     "name": "stdout",
     "output_type": "stream",
     "text": [
      "2025-10-03 19:00:00+00:00\n"
     ]
    }
   ],
   "source": [
    "print(dt.astimezone(timezone.utc))"
   ]
  },
  {
   "cell_type": "code",
   "execution_count": 62,
   "id": "26770bd5",
   "metadata": {},
   "outputs": [
    {
     "name": "stdout",
     "output_type": "stream",
     "text": [
      "2025-10-04 00:30:00+05:30\n"
     ]
    }
   ],
   "source": [
    "print(dt.replace(tzinfo=IST))"
   ]
  },
  {
   "cell_type": "markdown",
   "id": "2c662f5e",
   "metadata": {},
   "source": [
    "## Timezone database"
   ]
  },
  {
   "cell_type": "code",
   "execution_count": 63,
   "id": "2345db6d",
   "metadata": {},
   "outputs": [],
   "source": [
    "from dateutil import tz"
   ]
  },
  {
   "cell_type": "code",
   "execution_count": 64,
   "id": "10d378d1",
   "metadata": {},
   "outputs": [],
   "source": [
    "# Getting tz for IST\n",
    "ist = tz.gettz('Asia/Kolkata')"
   ]
  },
  {
   "cell_type": "code",
   "execution_count": 67,
   "id": "c8cfcbed",
   "metadata": {},
   "outputs": [
    {
     "name": "stdout",
     "output_type": "stream",
     "text": [
      "2025-10-04 00:30:00+05:30\n"
     ]
    }
   ],
   "source": [
    "# Using offset obtained from the \n",
    "print(dt.replace(tzinfo=ist))"
   ]
  },
  {
   "cell_type": "code",
   "execution_count": null,
   "id": "8d96a22b",
   "metadata": {},
   "outputs": [],
   "source": []
  },
  {
   "cell_type": "code",
   "execution_count": null,
   "id": "9bd0c283",
   "metadata": {},
   "outputs": [],
   "source": []
  }
 ],
 "metadata": {
  "kernelspec": {
   "display_name": "dcvenv",
   "language": "python",
   "name": "python3"
  },
  "language_info": {
   "codemirror_mode": {
    "name": "ipython",
    "version": 3
   },
   "file_extension": ".py",
   "mimetype": "text/x-python",
   "name": "python",
   "nbconvert_exporter": "python",
   "pygments_lexer": "ipython3",
   "version": "3.13.5"
  }
 },
 "nbformat": 4,
 "nbformat_minor": 5
}
